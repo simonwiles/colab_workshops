{
 "cells": [
  {
   "cell_type": "markdown",
   "metadata": {},
   "source": [
    "<img src=\"https://github.com/simonwiles/colab_workshops/raw/master/cidr-logo.no-text.240x140.png\" style=\"display:block;margin:0 auto;\" alt=\"Center for Interdisciplinary Digital Research @ Stanford\"/>\n",
    "<H1 align=\"center\">Digital Tools and Methods for the Humanities and Social Sciences</H1>\n",
    "<H2 align=\"center\">Data Manipulation with Python</H2>\n",
    "\n",
    "### Instructors\n",
    "- Scott Bailey (CIDR), <em>scottbailey@stanford.edu</em>\n",
    "- Simon Wiles (CIDR), <em>simon.wiles@stanford.edu</em>\n",
    "\n",
    "### Goal\n",
    "By the end of this workshop, we hope you'll be able to load in data into a Pandas `DataFrame`, perform basic cleaning and analysis, and create visualizations of some relevant aspects of a dataset.  For most of this workshop we will work with a dataset prepared from the [IMDb Datasets](https://www.imdb.com/interfaces/) and the [OMDb API](https://www.omdbapi.com/).\n",
    "\n",
    "### Topics\n",
    "- Pandas Series and DataFrame\n",
    "- Loading data in, null and missing data\n",
    "- Describing data\n",
    "- Column manipulation\n",
    "- String manipulation\n",
    "- Split-Apply-Combine\n",
    "- Plotting:\n",
    "  - Basic charts (line, bar, pie)\n",
    "  - Histograms\n",
    "  - Scatter plots\n",
    "  - Boxplots, violinplots\n",
    "  \n",
    "<mark>TODO: the above is not really reflective!</mark>\n",
    "\n",
    "### Jupyter Notebooks and Google Colaboratory\n",
    "\n",
    "Jupyter notebooks are a way to write and run Python code in an interactive way. They're quickly becoming a standard way of putting together data, code, and written explanations or visualizations into a single document and sharing that. There are a lot of ways that you can run Jupyter notebooks, including just locally on your computer, but we've decided to use Google's Colaboratory notebook platform for this workshop. Colaboratory is a cloud-based platform that allows you ~to create libraries, which are effectively project folders and virtual environments that can contain static files and Python notebooks. They come with a number of popular libraries pre-installed, and allow you to install other libraries as needed.~\n",
    "\n",
    "Using the Google Colaboratory platform allows us to focus on learning and writing Python in the workshop rather than on setting up Python, which can sometimes take a bit of extra work depending on platforms, operating systems, and other installed applications. If you'd like to install a Python distribution locally, though, we have some instructions (with gifs!) on installing Python through the Anaconda distribution, which will also help you handle virtual environments: https://github.com/sul-cidr/python_workshops/blob/master/setup.ipynb <mark> ← TODO: migrate this to a wiki page on the CIDR Workshops repo</mark>\n",
    "\n",
    "If you run into problems, or would like to look into other ways of installing Python or handling virtual environments, feel free to send us an email (contact-cidr@stanford.edu) or visit us during our [consulting hours](https://library.stanford.edu/research/cidr/consulting).\n",
    "\n",
    "~For now, go ahead to https://notebooks.azure.com and login with your Stanford ID and password.~\n",
    "\n",
    "### Environment\n",
    "If you would prefer to use Anaconda or their own local installation of python or Jupyter Notebooks, for this workshop you will need an environment with the following packages installed and available:\n",
    "- `pandas`\n",
    "- `matplotlib`\n",
    "- `requests`\n",
    "- `sqlalchemy`\n",
    "- `seaborn` (available in the `conda-forge` channel)\n",
    "\n",
    "Please note that we will likely not have time during the workshop to support you with problems related to a local environment, and we do recommend using the Colaboratory notebooks if you are at all unsure.\n",
    "\n",
    "###  Copying this notebook\n",
    "~Go to https://notebooks.azure.com/versae/libraries/cidr-data-manipulation~\n",
    "    \n",
    "~From there, click \"Clone\" to create a full copy of this library.~"
   ]
  },
  {
   "cell_type": "markdown",
   "metadata": {},
   "source": [
    "## 1. What is Pandas?\n",
    "\n",
    "Pandas is a high-level data manipulation tool first created in 2008 by Wes McKinney.  The name is derived from the term “panel data,” an econometrics term for data sets that include observations over multiple time periods for the same individuals.<sup>[[wikipedia](https://en.wikipedia.org/wiki/Pandas_(software))]</sup>\n",
    "\n",
    "From Jake Vanderplas’ book [**Python Data Science Handbook**](http://shop.oreilly.com/product/0636920034919.do) (from which some code excerpts are used in this workshop):\n",
    "\n",
    "> Pandas is a newer package built on top of NumPy, and provides an efficient implementation of a `DataFrame`. `DataFrame`s are essentially multidimensional arrays with attached row and column labels, and often with heterogeneous types and/or missing data. As well as offering a convenient storage interface for labeled data, Pandas implements a number of powerful data operations familiar to users of both database frameworks and spreadsheet programs."
   ]
  },
  {
   "cell_type": "markdown",
   "metadata": {},
   "source": [
    "### 1.1. What does Pandas *do*?\n",
    "\n",
    "<mark>TODO: wip</mark>\n",
    "* Reading and writing data from persistent storage\n",
    "* Cleaning, filtering, and otherwise preparing data\n",
    "* Calculating statistics and analyzing data\n"
   ]
  },
  {
   "cell_type": "markdown",
   "metadata": {},
   "source": [
    "... but perhaps we should let Pandas introduce itself:"
   ]
  },
  {
   "cell_type": "code",
   "execution_count": 58,
   "metadata": {},
   "outputs": [],
   "source": [
    "import pandas as pd\n",
    "\n",
    "# The two lines below configure how our outputs are shown in this notebook\n",
    "#  environment.  They need not concern us now.\n",
    "#pd.set_option('display.max_rows', 20)\n",
    "#pd.DataFrame._repr_html_ = lambda self: '<style>table.dataframe td {white-space: nowrap}</style>' + self.to_html(max_rows=10, notebook=True)"
   ]
  },
  {
   "cell_type": "code",
   "execution_count": null,
   "metadata": {},
   "outputs": [],
   "source": [
    "pd?"
   ]
  },
  {
   "cell_type": "markdown",
   "metadata": {},
   "source": [
    "### 1.2. Where can I get more help with Pandas?\n",
    "\n",
    "The [Pandas website](https://pandas.pydata.org/) and [online documentation](http://pandas.pydata.org/pandas-docs/stable/) are useful resources, and of course the indispensible [Stack Overflow](https://stackoverflow.com/questions/tagged/pandas) has a \"pandas\" tag, and there is also a (much younger, much smaller) sister [site dedicated to Data Science questions](https://datascience.stackexchange.com/questions/tagged/pandas) that has a \"pandas\" tag too."
   ]
  },
  {
   "cell_type": "code",
   "execution_count": null,
   "metadata": {},
   "outputs": [],
   "source": [
    "pd.isnull?"
   ]
  },
  {
   "cell_type": "markdown",
   "metadata": {},
   "source": [
    "## 2. Introduction to `DataFrame`s and `Series`\n",
    "\n",
    "The main data structure that Pandas implements is the `DataFrame`, and a `DataFrame` is composed of one or more `Series` and, optionaly, an `Index`.  \n",
    "\n",
    "A `DataFrame` is a two-dimensional array with flexible row indices and flexible column names. It can be thought of as a generalization of a two-dimensional NumPy array, or a specialization of a dictionary in which each column name maps to a `Series` of column data.\n",
    "\n",
    "A `Series` is a one-dimensional array of indexed data. It can be thought of as a specialized dictionary or a generalized NumPy array.\n",
    "\n",
    "A `DataFrame` is made up of `Series` in a similar way in which a table is made up of columns. The only restriction is that each column must be of the same data type.  Many of the operations that can be performed on a `DataFrame` can also be performed on an individual `Series`.\n",
    "\n",
    "\n",
    "<mark>**GRAPHIC HERE**</mark>"
   ]
  },
  {
   "cell_type": "markdown",
   "metadata": {},
   "source": [
    "## 3. Creating `DataFrame`s and loading data\n",
    "\n",
    "There are a great many ways to create a Pandas `DataFrame` -- we can build one ourselves in lower-level Python datatypes, of course, but Pandas also provides methods to load data in from common storage and serialization formats."
   ]
  },
  {
   "cell_type": "markdown",
   "metadata": {},
   "source": [
    "<a title=\"PerryPlanet [Public domain], via Wikimedia Commons\" href=\"https://commons.wikimedia.org/wiki/File:Bayarea_map.svg\" style=\"float:right\"><img width=\"256\" alt=\"Bayarea map\" src=\"https://upload.wikimedia.org/wikipedia/commons/thumb/7/78/Bayarea_map.svg/512px-Bayarea_map.svg.png\"></a>\n",
    "### 3.1. Introduction to `DataFrame`s\n",
    "\n",
    "The simplest way to generate a `DataFrame` is to create it directly from a `dict` of `list`s:"
   ]
  },
  {
   "cell_type": "code",
   "execution_count": 51,
   "metadata": {},
   "outputs": [
    {
     "data": {
      "text/html": [
       "<style>table.dataframe td {white-space: nowrap}</style><table border=\"1\" class=\"dataframe\">\n",
       "  <thead>\n",
       "    <tr style=\"text-align: right;\">\n",
       "      <th></th>\n",
       "      <th>county</th>\n",
       "      <th>county seat</th>\n",
       "      <th>population</th>\n",
       "      <th>area</th>\n",
       "    </tr>\n",
       "  </thead>\n",
       "  <tbody>\n",
       "    <tr>\n",
       "      <th>0</th>\n",
       "      <td>Alameda</td>\n",
       "      <td>Oakland</td>\n",
       "      <td>1494876</td>\n",
       "      <td>2130.00</td>\n",
       "    </tr>\n",
       "    <tr>\n",
       "      <th>1</th>\n",
       "      <td>Contra Costa</td>\n",
       "      <td>Martinez</td>\n",
       "      <td>1037817</td>\n",
       "      <td>2080.00</td>\n",
       "    </tr>\n",
       "    <tr>\n",
       "      <th>2</th>\n",
       "      <td>Marin</td>\n",
       "      <td>San Rafael</td>\n",
       "      <td>250666</td>\n",
       "      <td>2140.00</td>\n",
       "    </tr>\n",
       "    <tr>\n",
       "      <th>3</th>\n",
       "      <td>Napa</td>\n",
       "      <td>Napa</td>\n",
       "      <td>135377</td>\n",
       "      <td>2040.00</td>\n",
       "    </tr>\n",
       "    <tr>\n",
       "      <th>4</th>\n",
       "      <td>San Francisco</td>\n",
       "      <td>San Francisco</td>\n",
       "      <td>870887</td>\n",
       "      <td>600.59</td>\n",
       "    </tr>\n",
       "    <tr>\n",
       "      <th>5</th>\n",
       "      <td>San Mateo</td>\n",
       "      <td>Redwood City</td>\n",
       "      <td>711622</td>\n",
       "      <td>1930.00</td>\n",
       "    </tr>\n",
       "    <tr>\n",
       "      <th>6</th>\n",
       "      <td>Santa Clara</td>\n",
       "      <td>San Jose</td>\n",
       "      <td>1762754</td>\n",
       "      <td>3380.00</td>\n",
       "    </tr>\n",
       "    <tr>\n",
       "      <th>7</th>\n",
       "      <td>Solano</td>\n",
       "      <td>Fairfield</td>\n",
       "      <td>411620</td>\n",
       "      <td>2350.00</td>\n",
       "    </tr>\n",
       "    <tr>\n",
       "      <th>8</th>\n",
       "      <td>Sonoma</td>\n",
       "      <td>Santa Rosa</td>\n",
       "      <td>478551</td>\n",
       "      <td>4580.00</td>\n",
       "    </tr>\n",
       "  </tbody>\n",
       "</table>"
      ],
      "text/plain": [
       "          county    county seat  population     area\n",
       "0        Alameda        Oakland     1494876  2130.00\n",
       "1   Contra Costa       Martinez     1037817  2080.00\n",
       "2          Marin     San Rafael      250666  2140.00\n",
       "3           Napa           Napa      135377  2040.00\n",
       "4  San Francisco  San Francisco      870887   600.59\n",
       "5      San Mateo   Redwood City      711622  1930.00\n",
       "6    Santa Clara       San Jose     1762754  3380.00\n",
       "7         Solano      Fairfield      411620  2350.00\n",
       "8         Sonoma     Santa Rosa      478551  4580.00"
      ]
     },
     "execution_count": 51,
     "metadata": {},
     "output_type": "execute_result"
    }
   ],
   "source": [
    "data = {\n",
    "    \"county\": [\"Alameda\", \"Contra Costa\", \"Marin\", \"Napa\", \"San Francisco\", \"San Mateo\", \"Santa Clara\", \"Solano\", \"Sonoma\"],\n",
    "    \"county seat\": [\"Oakland\", \"Martinez\", \"San Rafael\", \"Napa\", \"San Francisco\", \"Redwood City\", \"San Jose\", \"Fairfield\", \"Santa Rosa\"],\n",
    "    \"population\": [1494876, 1037817, 250666, 135377, 870887, 711622, 1762754, 411620, 478551],\n",
    "    \"area\": [2130, 2080, 2140, 2040, 600.59, 1930, 3380, 2350, 4580]\n",
    "}\n",
    "bay_area_counties = pd.DataFrame(data)\n",
    "bay_area_counties"
   ]
  },
  {
   "cell_type": "markdown",
   "metadata": {},
   "source": [
    "Pandas has automatically created an `Index` on this `DataFrame` ([0..8]), but we can also specify our own `Index` when we instantiate the frame ourselves:"
   ]
  },
  {
   "cell_type": "code",
   "execution_count": null,
   "metadata": {},
   "outputs": [],
   "source": [
    "bay_area_counties = pd.DataFrame(data, index=[\"Ala\", \"Con\", \"Mar\", \"Nan\", \"SF\", \"SM\", \"SC\", \"Sol\", \"Son\"])\n",
    "bay_area_counties"
   ]
  },
  {
   "cell_type": "markdown",
   "metadata": {},
   "source": [
    "This allows us to `loc`ate a specific reference using the key in the `Index`:"
   ]
  },
  {
   "cell_type": "code",
   "execution_count": null,
   "metadata": {},
   "outputs": [],
   "source": [
    "bay_area_counties.loc['Ala']"
   ]
  },
  {
   "cell_type": "markdown",
   "metadata": {},
   "source": [
    "We can also set an `Index` at any time after the `DataFrame` has been created, either by adding a new index:"
   ]
  },
  {
   "cell_type": "code",
   "execution_count": null,
   "metadata": {},
   "outputs": [],
   "source": [
    "bay_area_counties = pd.DataFrame(data)\n",
    "bay_area_counties.index = [\"Ala\", \"Con\", \"Mar\", \"Nan\", \"SF\", \"SM\", \"SC\", \"Sol\", \"Son\"]\n",
    "bay_area_counties"
   ]
  },
  {
   "cell_type": "markdown",
   "metadata": {},
   "source": [
    "or by choosing one of the existing columns to become the index: <mark>(note the use of `inplace=True`)</mark>"
   ]
  },
  {
   "cell_type": "code",
   "execution_count": null,
   "metadata": {},
   "outputs": [],
   "source": [
    "bay_area_counties = pd.DataFrame(data)\n",
    "bay_area_counties.set_index('county', inplace=True)\n",
    "bay_area_counties"
   ]
  },
  {
   "cell_type": "code",
   "execution_count": null,
   "metadata": {},
   "outputs": [],
   "source": [
    "bay_area_counties.loc['Santa Clara']"
   ]
  },
  {
   "cell_type": "markdown",
   "metadata": {},
   "source": [
    "### 3.2. Reading data from persistent storage\n",
    "\n",
    "However, most of the time we're more likely to be reading data in from an external source of some kind, and Pandas has us well covered here.\n",
    "\n",
    "First, let's grab some data into our Colaboratory Notebook environment so that we can work with it locally:"
   ]
  },
  {
   "cell_type": "code",
   "execution_count": null,
   "metadata": {},
   "outputs": [],
   "source": [
    "!mkdir -p workshop_data\n",
    "!wget https://raw.githubusercontent.com/simonwiles/colab_workshops/master/sample_data/imdb_top_1000.csv -O workshop_data/imdb_top_1000.csv"
   ]
  },
  {
   "cell_type": "markdown",
   "metadata": {},
   "source": [
    "#### 3.2.1. CSV files\n",
    "Reading in data from CSV files is as simple as:"
   ]
  },
  {
   "cell_type": "code",
   "execution_count": null,
   "metadata": {
    "scrolled": false
   },
   "outputs": [],
   "source": [
    "data_frame = pd.read_csv('workshop_data/imdb_top_1000.csv')\n",
    "data_frame"
   ]
  },
  {
   "cell_type": "markdown",
   "metadata": {},
   "source": [
    "Notice again that Pandas has created a default `Index` for this `DataFrame` -- we probably want the `imdbID` column to be the `Index`, and we can set that after import, as above, or we can specify it when loading the CSV initially:"
   ]
  },
  {
   "cell_type": "code",
   "execution_count": null,
   "metadata": {},
   "outputs": [],
   "source": [
    "data_frame = pd.read_csv('workshop_data/imdb_top_1000.csv', index_col='imdbID')\n",
    "data_frame.head(4) # the `head` method defaults to five if called without an argument\n",
    "                   # a `tail` method is also available with the same semantics"
   ]
  },
  {
   "cell_type": "markdown",
   "metadata": {},
   "source": [
    "#### 3.2.2. Reading data from JSON Files\n",
    "\n",
    "JSON files can be loaded in a similarly straightforward way.\n",
    "\n",
    "There are two things to note here:\n",
    "\n",
    "1. the nature of JSON as a file format is such that the `Index` is explicit, and Pandas will set it correctly for us initially.\n",
    "2. We're loading the data directly over HTTP(S) here -- Pandas `read_...` methods can accept a local file path or a URL, and Pandas will take care of fetching the data for you."
   ]
  },
  {
   "cell_type": "code",
   "execution_count": 54,
   "metadata": {},
   "outputs": [
    {
     "data": {
      "text/html": [
       "<style>table.dataframe td {white-space: nowrap}</style><div>\n",
       "<style scoped>\n",
       "    .dataframe tbody tr th:only-of-type {\n",
       "        vertical-align: middle;\n",
       "    }\n",
       "\n",
       "    .dataframe tbody tr th {\n",
       "        vertical-align: top;\n",
       "    }\n",
       "\n",
       "    .dataframe thead th {\n",
       "        text-align: right;\n",
       "    }\n",
       "</style>\n",
       "<table border=\"1\" class=\"dataframe\">\n",
       "  <thead>\n",
       "    <tr style=\"text-align: right;\">\n",
       "      <th></th>\n",
       "      <th>Title</th>\n",
       "      <th>Year</th>\n",
       "      <th>Rated</th>\n",
       "      <th>Runtime</th>\n",
       "      <th>Genre</th>\n",
       "      <th>Director</th>\n",
       "      <th>Actors</th>\n",
       "      <th>Plot</th>\n",
       "      <th>Language</th>\n",
       "      <th>Country</th>\n",
       "      <th>Awards</th>\n",
       "      <th>Poster</th>\n",
       "      <th>Metascore</th>\n",
       "      <th>imdbRating</th>\n",
       "      <th>imdbVotes</th>\n",
       "      <th>BoxOffice</th>\n",
       "      <th>Production</th>\n",
       "      <th>RottenTomatoes</th>\n",
       "    </tr>\n",
       "  </thead>\n",
       "  <tbody>\n",
       "    <tr>\n",
       "      <th>tt0111161</th>\n",
       "      <td>The Shawshank Redemption</td>\n",
       "      <td>1994</td>\n",
       "      <td>R</td>\n",
       "      <td>142</td>\n",
       "      <td>Drama</td>\n",
       "      <td>Frank Darabont</td>\n",
       "      <td>Tim Robbins, Morgan Freeman, Bob Gunton, Willi...</td>\n",
       "      <td>Two imprisoned men bond over a number of years...</td>\n",
       "      <td>English</td>\n",
       "      <td>USA</td>\n",
       "      <td>Nominated for 7 Oscars. Another 19 wins &amp; 32 n...</td>\n",
       "      <td>https://m.media-amazon.com/images/M/MV5BMDFkYT...</td>\n",
       "      <td>80.0</td>\n",
       "      <td>9.3</td>\n",
       "      <td>2,139,341</td>\n",
       "      <td>None</td>\n",
       "      <td>Columbia Pictures</td>\n",
       "      <td>90%</td>\n",
       "    </tr>\n",
       "    <tr>\n",
       "      <th>tt0068646</th>\n",
       "      <td>The Godfather</td>\n",
       "      <td>1972</td>\n",
       "      <td>R</td>\n",
       "      <td>175</td>\n",
       "      <td>Crime, Drama</td>\n",
       "      <td>Francis Ford Coppola</td>\n",
       "      <td>Marlon Brando, Al Pacino, James Caan, Richard ...</td>\n",
       "      <td>The aging patriarch of an organized crime dyna...</td>\n",
       "      <td>English, Italian, Latin</td>\n",
       "      <td>USA</td>\n",
       "      <td>Won 3 Oscars. Another 24 wins &amp; 28 nominations.</td>\n",
       "      <td>https://m.media-amazon.com/images/M/MV5BM2MyNj...</td>\n",
       "      <td>100.0</td>\n",
       "      <td>9.2</td>\n",
       "      <td>1,469,958</td>\n",
       "      <td>None</td>\n",
       "      <td>Paramount Pictures</td>\n",
       "      <td>98%</td>\n",
       "    </tr>\n",
       "    <tr>\n",
       "      <th>tt7286456</th>\n",
       "      <td>Joker</td>\n",
       "      <td>2019</td>\n",
       "      <td>R</td>\n",
       "      <td>121</td>\n",
       "      <td>Crime, Drama, Thriller</td>\n",
       "      <td>Todd Phillips</td>\n",
       "      <td>Joaquin Phoenix, Robert De Niro, Zazie Beetz, ...</td>\n",
       "      <td>A gritty character study of Arthur Fleck, a ma...</td>\n",
       "      <td>English</td>\n",
       "      <td>USA, Canada</td>\n",
       "      <td>None</td>\n",
       "      <td>https://m.media-amazon.com/images/M/MV5BNGVjNW...</td>\n",
       "      <td>58.0</td>\n",
       "      <td>9.1</td>\n",
       "      <td>87,202</td>\n",
       "      <td>None</td>\n",
       "      <td>Warner Bros. Pictures</td>\n",
       "      <td>77%</td>\n",
       "    </tr>\n",
       "    <tr>\n",
       "      <th>tt0468569</th>\n",
       "      <td>The Dark Knight</td>\n",
       "      <td>2008</td>\n",
       "      <td>PG-13</td>\n",
       "      <td>152</td>\n",
       "      <td>Action, Crime, Drama, Thriller</td>\n",
       "      <td>Christopher Nolan</td>\n",
       "      <td>Christian Bale, Heath Ledger, Aaron Eckhart, M...</td>\n",
       "      <td>When the menace known as The Joker emerges fro...</td>\n",
       "      <td>English, Mandarin</td>\n",
       "      <td>USA, UK</td>\n",
       "      <td>Won 2 Oscars. Another 152 wins &amp; 155 nominations.</td>\n",
       "      <td>https://m.media-amazon.com/images/M/MV5BMTMxNT...</td>\n",
       "      <td>84.0</td>\n",
       "      <td>9.0</td>\n",
       "      <td>2,101,295</td>\n",
       "      <td>$533,316,061</td>\n",
       "      <td>Warner Bros. Pictures/Legendary</td>\n",
       "      <td>94%</td>\n",
       "    </tr>\n",
       "    <tr>\n",
       "      <th>tt5813916</th>\n",
       "      <td>The Mountain II</td>\n",
       "      <td>2016</td>\n",
       "      <td>None</td>\n",
       "      <td>135</td>\n",
       "      <td>Action, Drama, War</td>\n",
       "      <td>Alper Caglar</td>\n",
       "      <td>Ozan Agaç, Bedii Akin, Murat Arkin, Eylül Arular</td>\n",
       "      <td>In a desolate war zone where screams of the in...</td>\n",
       "      <td>Turkish</td>\n",
       "      <td>Turkey</td>\n",
       "      <td>None</td>\n",
       "      <td>https://m.media-amazon.com/images/M/MV5BMDdkMj...</td>\n",
       "      <td>NaN</td>\n",
       "      <td>9.0</td>\n",
       "      <td>101,514</td>\n",
       "      <td>None</td>\n",
       "      <td>None</td>\n",
       "      <td>None</td>\n",
       "    </tr>\n",
       "    <tr>\n",
       "      <th>...</th>\n",
       "      <td>...</td>\n",
       "      <td>...</td>\n",
       "      <td>...</td>\n",
       "      <td>...</td>\n",
       "      <td>...</td>\n",
       "      <td>...</td>\n",
       "      <td>...</td>\n",
       "      <td>...</td>\n",
       "      <td>...</td>\n",
       "      <td>...</td>\n",
       "      <td>...</td>\n",
       "      <td>...</td>\n",
       "      <td>...</td>\n",
       "      <td>...</td>\n",
       "      <td>...</td>\n",
       "      <td>...</td>\n",
       "      <td>...</td>\n",
       "      <td>...</td>\n",
       "    </tr>\n",
       "    <tr>\n",
       "      <th>tt1563738</th>\n",
       "      <td>One Day</td>\n",
       "      <td>2011</td>\n",
       "      <td>PG-13</td>\n",
       "      <td>107</td>\n",
       "      <td>Drama, Romance</td>\n",
       "      <td>Lone Scherfig</td>\n",
       "      <td>Anne Hathaway, Jim Sturgess, Tom Mison, Jodie ...</td>\n",
       "      <td>After spending the night together on the night...</td>\n",
       "      <td>English</td>\n",
       "      <td>USA, UK</td>\n",
       "      <td>1 win &amp; 2 nominations.</td>\n",
       "      <td>https://m.media-amazon.com/images/M/MV5BMTQ3NT...</td>\n",
       "      <td>48.0</td>\n",
       "      <td>7.0</td>\n",
       "      <td>129,900</td>\n",
       "      <td>$13,766,014</td>\n",
       "      <td>Focus Features</td>\n",
       "      <td>36%</td>\n",
       "    </tr>\n",
       "    <tr>\n",
       "      <th>tt0109831</th>\n",
       "      <td>Four Weddings and a Funeral</td>\n",
       "      <td>1994</td>\n",
       "      <td>R</td>\n",
       "      <td>117</td>\n",
       "      <td>Comedy, Drama, Romance</td>\n",
       "      <td>Mike Newell</td>\n",
       "      <td>Hugh Grant, James Fleet, Simon Callow, John Ha...</td>\n",
       "      <td>Over the course of five social occasions, a co...</td>\n",
       "      <td>English, British Sign Language</td>\n",
       "      <td>UK</td>\n",
       "      <td>Nominated for 2 Oscars. Another 24 wins &amp; 23 n...</td>\n",
       "      <td>https://m.media-amazon.com/images/M/MV5BMTMyNz...</td>\n",
       "      <td>81.0</td>\n",
       "      <td>7.0</td>\n",
       "      <td>128,874</td>\n",
       "      <td>None</td>\n",
       "      <td>Gramercy Pictures</td>\n",
       "      <td>96%</td>\n",
       "    </tr>\n",
       "    <tr>\n",
       "      <th>tt1862079</th>\n",
       "      <td>Safety Not Guaranteed</td>\n",
       "      <td>2012</td>\n",
       "      <td>R</td>\n",
       "      <td>86</td>\n",
       "      <td>Comedy, Drama, Romance</td>\n",
       "      <td>Colin Trevorrow</td>\n",
       "      <td>Aubrey Plaza, Lauren Carlos, Basil Harris, Mar...</td>\n",
       "      <td>Three magazine employees head out on an assign...</td>\n",
       "      <td>English</td>\n",
       "      <td>USA</td>\n",
       "      <td>7 wins &amp; 18 nominations.</td>\n",
       "      <td>https://m.media-amazon.com/images/M/MV5BOWU3ZD...</td>\n",
       "      <td>72.0</td>\n",
       "      <td>7.0</td>\n",
       "      <td>113,015</td>\n",
       "      <td>$4,007,792</td>\n",
       "      <td>Film District</td>\n",
       "      <td>90%</td>\n",
       "    </tr>\n",
       "    <tr>\n",
       "      <th>tt5439796</th>\n",
       "      <td>Logan Lucky</td>\n",
       "      <td>2017</td>\n",
       "      <td>PG-13</td>\n",
       "      <td>118</td>\n",
       "      <td>Comedy, Crime, Drama</td>\n",
       "      <td>Steven Soderbergh</td>\n",
       "      <td>Farrah Mackenzie, Channing Tatum, Jim O'Heir, ...</td>\n",
       "      <td>Two brothers attempt to pull off a heist durin...</td>\n",
       "      <td>English</td>\n",
       "      <td>USA</td>\n",
       "      <td>2 wins &amp; 9 nominations.</td>\n",
       "      <td>https://m.media-amazon.com/images/M/MV5BMTYyOD...</td>\n",
       "      <td>78.0</td>\n",
       "      <td>7.0</td>\n",
       "      <td>109,785</td>\n",
       "      <td>$27,696,504</td>\n",
       "      <td>Fingerprint Releasing / Bleecker Street</td>\n",
       "      <td>92%</td>\n",
       "    </tr>\n",
       "    <tr>\n",
       "      <th>tt0472062</th>\n",
       "      <td>Charlie Wilson's War</td>\n",
       "      <td>2007</td>\n",
       "      <td>R</td>\n",
       "      <td>102</td>\n",
       "      <td>Biography, Comedy, Drama, History</td>\n",
       "      <td>Mike Nichols</td>\n",
       "      <td>Tom Hanks, Amy Adams, Julia Roberts, Philip Se...</td>\n",
       "      <td>A drama based on a Texas congressman Charlie W...</td>\n",
       "      <td>English, Dari, Russian, Urdu, Hebrew, Arabic</td>\n",
       "      <td>USA, Germany</td>\n",
       "      <td>Nominated for 1 Oscar. Another 5 wins &amp; 22 nom...</td>\n",
       "      <td>https://m.media-amazon.com/images/M/MV5BMTgwMD...</td>\n",
       "      <td>69.0</td>\n",
       "      <td>7.0</td>\n",
       "      <td>102,008</td>\n",
       "      <td>$66,636,385</td>\n",
       "      <td>Universal Pictures</td>\n",
       "      <td>82%</td>\n",
       "    </tr>\n",
       "  </tbody>\n",
       "</table>\n",
       "</div>"
      ],
      "text/plain": [
       "                                 Title  Year  Rated  Runtime  \\\n",
       "tt0111161     The Shawshank Redemption  1994      R      142   \n",
       "tt0068646                The Godfather  1972      R      175   \n",
       "tt7286456                        Joker  2019      R      121   \n",
       "tt0468569              The Dark Knight  2008  PG-13      152   \n",
       "tt5813916              The Mountain II  2016   None      135   \n",
       "...                                ...   ...    ...      ...   \n",
       "tt1563738                      One Day  2011  PG-13      107   \n",
       "tt0109831  Four Weddings and a Funeral  1994      R      117   \n",
       "tt1862079        Safety Not Guaranteed  2012      R       86   \n",
       "tt5439796                  Logan Lucky  2017  PG-13      118   \n",
       "tt0472062         Charlie Wilson's War  2007      R      102   \n",
       "\n",
       "                                       Genre              Director  \\\n",
       "tt0111161                              Drama        Frank Darabont   \n",
       "tt0068646                       Crime, Drama  Francis Ford Coppola   \n",
       "tt7286456             Crime, Drama, Thriller         Todd Phillips   \n",
       "tt0468569     Action, Crime, Drama, Thriller     Christopher Nolan   \n",
       "tt5813916                 Action, Drama, War          Alper Caglar   \n",
       "...                                      ...                   ...   \n",
       "tt1563738                     Drama, Romance         Lone Scherfig   \n",
       "tt0109831             Comedy, Drama, Romance           Mike Newell   \n",
       "tt1862079             Comedy, Drama, Romance       Colin Trevorrow   \n",
       "tt5439796               Comedy, Crime, Drama     Steven Soderbergh   \n",
       "tt0472062  Biography, Comedy, Drama, History          Mike Nichols   \n",
       "\n",
       "                                                      Actors  \\\n",
       "tt0111161  Tim Robbins, Morgan Freeman, Bob Gunton, Willi...   \n",
       "tt0068646  Marlon Brando, Al Pacino, James Caan, Richard ...   \n",
       "tt7286456  Joaquin Phoenix, Robert De Niro, Zazie Beetz, ...   \n",
       "tt0468569  Christian Bale, Heath Ledger, Aaron Eckhart, M...   \n",
       "tt5813916   Ozan Agaç, Bedii Akin, Murat Arkin, Eylül Arular   \n",
       "...                                                      ...   \n",
       "tt1563738  Anne Hathaway, Jim Sturgess, Tom Mison, Jodie ...   \n",
       "tt0109831  Hugh Grant, James Fleet, Simon Callow, John Ha...   \n",
       "tt1862079  Aubrey Plaza, Lauren Carlos, Basil Harris, Mar...   \n",
       "tt5439796  Farrah Mackenzie, Channing Tatum, Jim O'Heir, ...   \n",
       "tt0472062  Tom Hanks, Amy Adams, Julia Roberts, Philip Se...   \n",
       "\n",
       "                                                        Plot  \\\n",
       "tt0111161  Two imprisoned men bond over a number of years...   \n",
       "tt0068646  The aging patriarch of an organized crime dyna...   \n",
       "tt7286456  A gritty character study of Arthur Fleck, a ma...   \n",
       "tt0468569  When the menace known as The Joker emerges fro...   \n",
       "tt5813916  In a desolate war zone where screams of the in...   \n",
       "...                                                      ...   \n",
       "tt1563738  After spending the night together on the night...   \n",
       "tt0109831  Over the course of five social occasions, a co...   \n",
       "tt1862079  Three magazine employees head out on an assign...   \n",
       "tt5439796  Two brothers attempt to pull off a heist durin...   \n",
       "tt0472062  A drama based on a Texas congressman Charlie W...   \n",
       "\n",
       "                                               Language       Country  \\\n",
       "tt0111161                                       English           USA   \n",
       "tt0068646                       English, Italian, Latin           USA   \n",
       "tt7286456                                       English   USA, Canada   \n",
       "tt0468569                             English, Mandarin       USA, UK   \n",
       "tt5813916                                       Turkish        Turkey   \n",
       "...                                                 ...           ...   \n",
       "tt1563738                                       English       USA, UK   \n",
       "tt0109831                English, British Sign Language            UK   \n",
       "tt1862079                                       English           USA   \n",
       "tt5439796                                       English           USA   \n",
       "tt0472062  English, Dari, Russian, Urdu, Hebrew, Arabic  USA, Germany   \n",
       "\n",
       "                                                      Awards  \\\n",
       "tt0111161  Nominated for 7 Oscars. Another 19 wins & 32 n...   \n",
       "tt0068646    Won 3 Oscars. Another 24 wins & 28 nominations.   \n",
       "tt7286456                                               None   \n",
       "tt0468569  Won 2 Oscars. Another 152 wins & 155 nominations.   \n",
       "tt5813916                                               None   \n",
       "...                                                      ...   \n",
       "tt1563738                             1 win & 2 nominations.   \n",
       "tt0109831  Nominated for 2 Oscars. Another 24 wins & 23 n...   \n",
       "tt1862079                           7 wins & 18 nominations.   \n",
       "tt5439796                            2 wins & 9 nominations.   \n",
       "tt0472062  Nominated for 1 Oscar. Another 5 wins & 22 nom...   \n",
       "\n",
       "                                                      Poster  Metascore  \\\n",
       "tt0111161  https://m.media-amazon.com/images/M/MV5BMDFkYT...       80.0   \n",
       "tt0068646  https://m.media-amazon.com/images/M/MV5BM2MyNj...      100.0   \n",
       "tt7286456  https://m.media-amazon.com/images/M/MV5BNGVjNW...       58.0   \n",
       "tt0468569  https://m.media-amazon.com/images/M/MV5BMTMxNT...       84.0   \n",
       "tt5813916  https://m.media-amazon.com/images/M/MV5BMDdkMj...        NaN   \n",
       "...                                                      ...        ...   \n",
       "tt1563738  https://m.media-amazon.com/images/M/MV5BMTQ3NT...       48.0   \n",
       "tt0109831  https://m.media-amazon.com/images/M/MV5BMTMyNz...       81.0   \n",
       "tt1862079  https://m.media-amazon.com/images/M/MV5BOWU3ZD...       72.0   \n",
       "tt5439796  https://m.media-amazon.com/images/M/MV5BMTYyOD...       78.0   \n",
       "tt0472062  https://m.media-amazon.com/images/M/MV5BMTgwMD...       69.0   \n",
       "\n",
       "           imdbRating  imdbVotes     BoxOffice  \\\n",
       "tt0111161         9.3  2,139,341          None   \n",
       "tt0068646         9.2  1,469,958          None   \n",
       "tt7286456         9.1     87,202          None   \n",
       "tt0468569         9.0  2,101,295  $533,316,061   \n",
       "tt5813916         9.0    101,514          None   \n",
       "...               ...        ...           ...   \n",
       "tt1563738         7.0    129,900   $13,766,014   \n",
       "tt0109831         7.0    128,874          None   \n",
       "tt1862079         7.0    113,015    $4,007,792   \n",
       "tt5439796         7.0    109,785   $27,696,504   \n",
       "tt0472062         7.0    102,008   $66,636,385   \n",
       "\n",
       "                                        Production RottenTomatoes  \n",
       "tt0111161                        Columbia Pictures            90%  \n",
       "tt0068646                       Paramount Pictures            98%  \n",
       "tt7286456                    Warner Bros. Pictures            77%  \n",
       "tt0468569          Warner Bros. Pictures/Legendary            94%  \n",
       "tt5813916                                     None           None  \n",
       "...                                            ...            ...  \n",
       "tt1563738                           Focus Features            36%  \n",
       "tt0109831                        Gramercy Pictures            96%  \n",
       "tt1862079                            Film District            90%  \n",
       "tt5439796  Fingerprint Releasing / Bleecker Street            92%  \n",
       "tt0472062                       Universal Pictures            82%  \n",
       "\n",
       "[1014 rows x 18 columns]"
      ]
     },
     "execution_count": 54,
     "metadata": {},
     "output_type": "execute_result"
    }
   ],
   "source": [
    "pd.read_json('https://raw.githubusercontent.com/simonwiles/colab_workshops/master/sample_data/imdb_top_1000.json')"
   ]
  },
  {
   "cell_type": "markdown",
   "metadata": {},
   "source": [
    "#### 3.2.3. Reading data via a SQL query\n",
    "\n",
    "We can also load data from relational databases or other datastores that export a SQL-compatible interface.  For this example we'll download a simple SQLite database file to operate on, but Pandas’ `read_sql*` methods can accept a `connection` object that is predicated on a remote database server if required."
   ]
  },
  {
   "cell_type": "code",
   "execution_count": null,
   "metadata": {},
   "outputs": [],
   "source": [
    "!pip install sqlalchemy\n",
    "!mkdir -p workshop_data\n",
    "!wget https://raw.githubusercontent.com/simonwiles/colab_workshops/master/sample_data/imdb_top_1000.sqlite -O workshop_data/imdb_top_1000.sqlite"
   ]
  },
  {
   "cell_type": "code",
   "execution_count": null,
   "metadata": {},
   "outputs": [],
   "source": [
    "from sqlalchemy import create_engine\n",
    "engine = create_engine(\"sqlite:///workshop_data/imdb_top_1000.sqlite\", echo=False)\n",
    "pd.read_sql_query(\"SELECT * FROM imdb_top_1000;\", con=engine, index_col='imdbID')"
   ]
  },
  {
   "cell_type": "markdown",
   "metadata": {},
   "source": [
    "#### 3.2.3. Other input formats\n",
    "\n",
    "Pandas also has methods that allow it to read data directly from other formats, including those used by Microsoft Excel, Stata, SAS, and Google Big Query.  More details are available from the [Pandas documentation](https://pandas.pydata.org/pandas-docs/stable/user_guide/io.html)."
   ]
  },
  {
   "cell_type": "markdown",
   "metadata": {},
   "source": [
    "### 3.3. Writing `DataFrames` back out to persistent storage"
   ]
  },
  {
   "cell_type": "markdown",
   "metadata": {},
   "source": [
    "Pandas makes writing data to persistent storage formats similarly convenient.  Methods are available to write to most of the formats Pandas can read, including all those demonstrated above."
   ]
  },
  {
   "cell_type": "code",
   "execution_count": null,
   "metadata": {},
   "outputs": [],
   "source": [
    "data_frame.to_csv('imdb_data_2.csv')"
   ]
  },
  {
   "cell_type": "markdown",
   "metadata": {},
   "source": [
    "## 4. Working with `DataFrame`s\n",
    "\n",
    "Let's begin by loading our dataset of the top 1,000 ranked films on imDB.\n",
    "\n",
    "<mark>In the same way that it's common to `import pandas as pd`, it's common to use `df` as an identifier for generic `DataFrame`s, especially in tutorials and demos.  For anything other than interactive sessions or throw-away scripts, I strongly recommend using good descriptive identigiers for your `DataFrame`s!</mark>"
   ]
  },
  {
   "cell_type": "code",
   "execution_count": 60,
   "metadata": {},
   "outputs": [
    {
     "name": "stdout",
     "output_type": "stream",
     "text": [
      "<class 'pandas.core.frame.DataFrame'>\n",
      "Index: 1014 entries, tt0111161 to tt0472062\n",
      "Data columns (total 18 columns):\n",
      "Title             1014 non-null object\n",
      "Year              1014 non-null int64\n",
      "Rated             1013 non-null object\n",
      "Runtime           1014 non-null int64\n",
      "Genre             993 non-null object\n",
      "Director          1014 non-null object\n",
      "Actors            1014 non-null object\n",
      "Plot              1014 non-null object\n",
      "Language          1014 non-null object\n",
      "Country           1014 non-null object\n",
      "Awards            975 non-null object\n",
      "Poster            1014 non-null object\n",
      "Metascore         989 non-null float64\n",
      "imdbRating        1014 non-null float64\n",
      "imdbVotes         1013 non-null float64\n",
      "BoxOffice         561 non-null object\n",
      "Production        999 non-null object\n",
      "RottenTomatoes    996 non-null object\n",
      "dtypes: float64(3), int64(2), object(13)\n",
      "memory usage: 150.5+ KB\n"
     ]
    }
   ],
   "source": [
    "df = pd.read_csv('https://raw.githubusercontent.com/simonwiles/colab_workshops/master/sample_data/imdb_top_1000.example.csv', index_col='imdbID')\n",
    "df.info()"
   ]
  },
  {
   "cell_type": "code",
   "execution_count": 7,
   "metadata": {},
   "outputs": [
    {
     "data": {
      "text/plain": [
       "array(['R', 'PG-13', nan, 'Not Rated', 'PG', 'G', 'Passed', 'Approved',\n",
       "       'GP', 'Unrated', 'NC-17'], dtype=object)"
      ]
     },
     "execution_count": 7,
     "metadata": {},
     "output_type": "execute_result"
    }
   ],
   "source": [
    "df.Rated.unique()"
   ]
  },
  {
   "cell_type": "code",
   "execution_count": 8,
   "metadata": {},
   "outputs": [
    {
     "data": {
      "text/plain": [
       "R            509\n",
       "PG-13        267\n",
       "PG           139\n",
       "G             47\n",
       "Not Rated     39\n",
       "Passed         5\n",
       "NC-17          4\n",
       "Approved       1\n",
       "Unrated        1\n",
       "GP             1\n",
       "Name: Rated, dtype: int64"
      ]
     },
     "execution_count": 8,
     "metadata": {},
     "output_type": "execute_result"
    }
   ],
   "source": [
    "df.Rated.value_counts()"
   ]
  },
  {
   "cell_type": "code",
   "execution_count": 21,
   "metadata": {},
   "outputs": [
    {
     "data": {
      "text/plain": [
       "count    1.013000e+03\n",
       "mean     3.280381e+05\n",
       "std      2.707299e+05\n",
       "min      8.720200e+04\n",
       "25%      1.471990e+05\n",
       "50%      2.299110e+05\n",
       "75%      4.090420e+05\n",
       "max      2.139341e+06\n",
       "Name: imdbVotes, dtype: float64"
      ]
     },
     "execution_count": 21,
     "metadata": {},
     "output_type": "execute_result"
    }
   ],
   "source": [
    "df.imdbVotes.describe()"
   ]
  },
  {
   "cell_type": "markdown",
   "metadata": {},
   "source": [
    "### 4.1. Indexing and slicing\n",
    "Accessing columns can be done using the dot notation, `df.column_name`, or the dictionary notation, `df['column_name']`.  This returns a `Series` object."
   ]
  },
  {
   "cell_type": "code",
   "execution_count": null,
   "metadata": {},
   "outputs": [],
   "source": [
    "df.Title"
   ]
  },
  {
   "cell_type": "code",
   "execution_count": null,
   "metadata": {},
   "outputs": [],
   "source": [
    "type(df.Title)"
   ]
  },
  {
   "cell_type": "markdown",
   "metadata": {},
   "source": [
    "`DataFrame`s can be sliced to return a subset of the available columns -- this returns a new `DataFrame` object."
   ]
  },
  {
   "cell_type": "code",
   "execution_count": null,
   "metadata": {},
   "outputs": [],
   "source": [
    "df[['Title', 'Director']]"
   ]
  },
  {
   "cell_type": "code",
   "execution_count": null,
   "metadata": {},
   "outputs": [],
   "source": [
    "type(df[['Title', 'Director']])"
   ]
  },
  {
   "cell_type": "markdown",
   "metadata": {},
   "source": [
    "`Series` object and other subsets of `DataFrame`s preserve the indices of the `DataFrame` from which they are derived, which makes further operations such as merging or columns manipulation possible."
   ]
  },
  {
   "cell_type": "markdown",
   "metadata": {},
   "source": [
    "`DataFrame`s are designed to operate at the column level, not at the row level. However, a subset of rows can be visualized easily using a slice like in any Python list."
   ]
  },
  {
   "cell_type": "code",
   "execution_count": null,
   "metadata": {},
   "outputs": [],
   "source": [
    "df[10:15]"
   ]
  },
  {
   "cell_type": "markdown",
   "metadata": {},
   "source": [
    "We can chain these operations together, as long as we remember what we are returning in each link of the chain."
   ]
  },
  {
   "cell_type": "code",
   "execution_count": null,
   "metadata": {},
   "outputs": [],
   "source": [
    "df[10:15].Production"
   ]
  },
  {
   "cell_type": "code",
   "execution_count": null,
   "metadata": {},
   "outputs": [],
   "source": [
    "df.Production[10:15]"
   ]
  },
  {
   "cell_type": "code",
   "execution_count": null,
   "metadata": {},
   "outputs": [],
   "source": [
    "df[['Production']][10:15]"
   ]
  },
  {
   "cell_type": "code",
   "execution_count": null,
   "metadata": {},
   "outputs": [],
   "source": [
    "df[[\"Title\", \"Plot\"]].iloc[2:5]"
   ]
  },
  {
   "cell_type": "code",
   "execution_count": null,
   "metadata": {},
   "outputs": [],
   "source": [
    "df[[\"Title\", \"Plot\"]].loc['tt7286456':'tt5813916']"
   ]
  },
  {
   "cell_type": "markdown",
   "metadata": {},
   "source": [
    "<mark>Notice how in then `.iloc` example, record #5 is omitted, in usual python slice fashion, but in the `.loc` example, the observation with `imdbID == tt5813916` is *included* in the result.</mark>"
   ]
  },
  {
   "cell_type": "markdown",
   "metadata": {},
   "source": [
    "#### 4.1.1 Activity\n",
    "\n",
    "Given the `DataFrame` defined above, write an expression to extract a `DataFrame` with the columns `Title`, `Year`, `Director`, and `imdbRating`. Show only the first 5 rows of it."
   ]
  },
  {
   "cell_type": "code",
   "execution_count": null,
   "metadata": {},
   "outputs": [],
   "source": [
    "# Write your code here"
   ]
  },
  {
   "cell_type": "markdown",
   "metadata": {},
   "source": [
    "### 4.2. Expressions\n",
    "<mark>TODO: intro.</mark>"
   ]
  },
  {
   "cell_type": "markdown",
   "metadata": {},
   "source": [
    "Operations performed on a column, or `Series`, are broadcast to each of the elements."
   ]
  },
  {
   "cell_type": "code",
   "execution_count": null,
   "metadata": {},
   "outputs": [],
   "source": [
    "# convert the running times to hours\n",
    "df.Runtime / 60"
   ]
  },
  {
   "cell_type": "markdown",
   "metadata": {},
   "source": [
    "Simple string concatenation can be performed in the same manner:"
   ]
  },
  {
   "cell_type": "code",
   "execution_count": null,
   "metadata": {},
   "outputs": [],
   "source": [
    "df.Title + '(' + df.Rated + '), directed by: ' + df.Director"
   ]
  },
  {
   "cell_type": "markdown",
   "metadata": {},
   "source": [
    "as are boolean operations:"
   ]
  },
  {
   "cell_type": "code",
   "execution_count": null,
   "metadata": {},
   "outputs": [],
   "source": [
    "df.Year < 2000"
   ]
  },
  {
   "cell_type": "markdown",
   "metadata": {},
   "source": [
    "By itself this is not terribly useful, but expressions of this kind are very powerful when passed to a `DataFrame` to select content:"
   ]
  },
  {
   "cell_type": "code",
   "execution_count": null,
   "metadata": {},
   "outputs": [],
   "source": [
    "df[df.Production == 'Paramount Pictures']"
   ]
  },
  {
   "cell_type": "code",
   "execution_count": null,
   "metadata": {},
   "outputs": [],
   "source": [
    "df[df.Year < 2000]"
   ]
  },
  {
   "cell_type": "markdown",
   "metadata": {},
   "source": [
    "Any expression that evaluates to a `Series` of boolean values (`True` or `False`) and shares the same `Index` as the source `DataFrame` can be used.  Complex conditions can be assembled using bitwise logical operators `&`, `|`, and `~` to create simple but powerful filters."
   ]
  },
  {
   "cell_type": "code",
   "execution_count": null,
   "metadata": {},
   "outputs": [],
   "source": [
    "# returns a `Series`\n",
    "df[(df.Year < 2000) & (df.imdbRating > 8)].Title"
   ]
  },
  {
   "cell_type": "code",
   "execution_count": null,
   "metadata": {},
   "outputs": [],
   "source": [
    "# returns a `DataFrame`\n",
    "df.loc[(df.Year < 2000) & (df.imdbRating > 8), ['Title', 'Year', 'imdbRating']]"
   ]
  },
  {
   "cell_type": "code",
   "execution_count": null,
   "metadata": {},
   "outputs": [],
   "source": []
  },
  {
   "cell_type": "markdown",
   "metadata": {},
   "source": [
    "The `.str` property gives access to string variables in a broadcast fashion, such that they can be manipulated:"
   ]
  },
  {
   "cell_type": "code",
   "execution_count": null,
   "metadata": {},
   "outputs": [],
   "source": [
    "df.Actors.str.split(', ')"
   ]
  },
  {
   "cell_type": "markdown",
   "metadata": {},
   "source": [
    "We can make use of `.str` in expressions:"
   ]
  },
  {
   "cell_type": "code",
   "execution_count": null,
   "metadata": {},
   "outputs": [],
   "source": [
    "# select records with Oscar nominations or wins\n",
    "df[df.Awards.str.contains('Oscar') == True]"
   ]
  },
  {
   "cell_type": "code",
   "execution_count": null,
   "metadata": {},
   "outputs": [],
   "source": [
    "df[df.Director.apply(lambda a: len(a.split(', ')) > 3)]"
   ]
  },
  {
   "cell_type": "markdown",
   "metadata": {},
   "source": [
    "#### 4.2.1. Activity\n",
    "\n",
    "Returning to our “Bay Area Counties” data from earlier, write an expression to calculate the population density of each county."
   ]
  },
  {
   "cell_type": "code",
   "execution_count": null,
   "metadata": {},
   "outputs": [],
   "source": [
    "data = {\n",
    "    \"county\": [\"Alameda\", \"Contra Costa\", \"Marin\", \"Napa\", \"San Francisco\", \"San Mateo\", \"Santa Clara\", \"Solano\", \"Sonoma\"],\n",
    "    \"county seat\": [\"Oakland\", \"Martinez\", \"San Rafael\", \"Napa\", \"San Francisco\", \"Redwood City\", \"San Jose\", \"Fairfield\", \"Santa Rosa\"],\n",
    "    \"population\": [1494876, 1037817, 250666, 135377, 870887, 711622, 1762754, 411620, 478551],\n",
    "    \"area\": [2130, 2080, 2140, 2040, 600.59, 1930, 3380, 2350, 4580]  # data is in km²\n",
    "}\n",
    "bay_area_counties = pd.DataFrame(data)\n",
    "with pd.option_context('display.max_rows', 10):\n",
    "    display(bay_area_counties)"
   ]
  },
  {
   "cell_type": "code",
   "execution_count": null,
   "metadata": {},
   "outputs": [],
   "source": [
    "# Write your code here"
   ]
  },
  {
   "cell_type": "markdown",
   "metadata": {},
   "source": [
    "### 4.3 Cleaning and manipulating `DataFrame`s"
   ]
  },
  {
   "cell_type": "markdown",
   "metadata": {},
   "source": [
    "<mark>TODO: something on basic assignment to `DataFrame`s?</mark>\n",
    "\n",
    "The fundamental way of manipulating the contents of `DataFrame`s is by using the `apply()` method.  `apply()` takes a function as an argument, and `apply`s the function to each element in the container it’s called on."
   ]
  },
  {
   "cell_type": "code",
   "execution_count": 28,
   "metadata": {},
   "outputs": [],
   "source": [
    "def count_genres_naive(genres_text):\n",
    "    genres = genres_text.split(\", \")\n",
    "    return len(genres)"
   ]
  },
  {
   "cell_type": "code",
   "execution_count": 24,
   "metadata": {},
   "outputs": [
    {
     "data": {
      "text/plain": [
       "imdbID\n",
       "tt0111161                                Drama\n",
       "tt0068646                         Crime, Drama\n",
       "tt7286456               Crime, Drama, Thriller\n",
       "tt0468569       Action, Crime, Drama, Thriller\n",
       "tt5813916                   Action, Drama, War\n",
       "                           ...                \n",
       "tt1563738                       Drama, Romance\n",
       "tt0109831               Comedy, Drama, Romance\n",
       "tt1862079               Comedy, Drama, Romance\n",
       "tt5439796                 Comedy, Crime, Drama\n",
       "tt0472062    Biography, Comedy, Drama, History\n",
       "Name: Genre, Length: 1014, dtype: object"
      ]
     },
     "execution_count": 24,
     "metadata": {},
     "output_type": "execute_result"
    }
   ],
   "source": [
    "df.Genre"
   ]
  },
  {
   "cell_type": "code",
   "execution_count": 31,
   "metadata": {},
   "outputs": [
    {
     "ename": "AttributeError",
     "evalue": "'float' object has no attribute 'split'",
     "output_type": "error",
     "traceback": [
      "\u001b[0;31m---------------------------------------------------------------------------\u001b[0m",
      "\u001b[0;31mAttributeError\u001b[0m                            Traceback (most recent call last)",
      "\u001b[0;32m<ipython-input-31-f58a1294dae7>\u001b[0m in \u001b[0;36m<module>\u001b[0;34m\u001b[0m\n\u001b[0;32m----> 1\u001b[0;31m \u001b[0mdf\u001b[0m\u001b[0;34m.\u001b[0m\u001b[0mGenre\u001b[0m\u001b[0;34m.\u001b[0m\u001b[0mapply\u001b[0m\u001b[0;34m(\u001b[0m\u001b[0mcount_genres_naive\u001b[0m\u001b[0;34m)\u001b[0m\u001b[0;34m\u001b[0m\u001b[0;34m\u001b[0m\u001b[0m\n\u001b[0m",
      "\u001b[0;32m/usr/local/lib/python3.6/dist-packages/pandas/core/series.py\u001b[0m in \u001b[0;36mapply\u001b[0;34m(self, func, convert_dtype, args, **kwds)\u001b[0m\n\u001b[1;32m   4040\u001b[0m             \u001b[0;32melse\u001b[0m\u001b[0;34m:\u001b[0m\u001b[0;34m\u001b[0m\u001b[0;34m\u001b[0m\u001b[0m\n\u001b[1;32m   4041\u001b[0m                 \u001b[0mvalues\u001b[0m \u001b[0;34m=\u001b[0m \u001b[0mself\u001b[0m\u001b[0;34m.\u001b[0m\u001b[0mastype\u001b[0m\u001b[0;34m(\u001b[0m\u001b[0mobject\u001b[0m\u001b[0;34m)\u001b[0m\u001b[0;34m.\u001b[0m\u001b[0mvalues\u001b[0m\u001b[0;34m\u001b[0m\u001b[0;34m\u001b[0m\u001b[0m\n\u001b[0;32m-> 4042\u001b[0;31m                 \u001b[0mmapped\u001b[0m \u001b[0;34m=\u001b[0m \u001b[0mlib\u001b[0m\u001b[0;34m.\u001b[0m\u001b[0mmap_infer\u001b[0m\u001b[0;34m(\u001b[0m\u001b[0mvalues\u001b[0m\u001b[0;34m,\u001b[0m \u001b[0mf\u001b[0m\u001b[0;34m,\u001b[0m \u001b[0mconvert\u001b[0m\u001b[0;34m=\u001b[0m\u001b[0mconvert_dtype\u001b[0m\u001b[0;34m)\u001b[0m\u001b[0;34m\u001b[0m\u001b[0;34m\u001b[0m\u001b[0m\n\u001b[0m\u001b[1;32m   4043\u001b[0m \u001b[0;34m\u001b[0m\u001b[0m\n\u001b[1;32m   4044\u001b[0m         \u001b[0;32mif\u001b[0m \u001b[0mlen\u001b[0m\u001b[0;34m(\u001b[0m\u001b[0mmapped\u001b[0m\u001b[0;34m)\u001b[0m \u001b[0;32mand\u001b[0m \u001b[0misinstance\u001b[0m\u001b[0;34m(\u001b[0m\u001b[0mmapped\u001b[0m\u001b[0;34m[\u001b[0m\u001b[0;36m0\u001b[0m\u001b[0;34m]\u001b[0m\u001b[0;34m,\u001b[0m \u001b[0mSeries\u001b[0m\u001b[0;34m)\u001b[0m\u001b[0;34m:\u001b[0m\u001b[0;34m\u001b[0m\u001b[0;34m\u001b[0m\u001b[0m\n",
      "\u001b[0;32mpandas/_libs/lib.pyx\u001b[0m in \u001b[0;36mpandas._libs.lib.map_infer\u001b[0;34m()\u001b[0m\n",
      "\u001b[0;32m<ipython-input-28-43c4857440d1>\u001b[0m in \u001b[0;36mcount_genres_naive\u001b[0;34m(genres_text)\u001b[0m\n\u001b[1;32m      1\u001b[0m \u001b[0;32mdef\u001b[0m \u001b[0mcount_genres_naive\u001b[0m\u001b[0;34m(\u001b[0m\u001b[0mgenres_text\u001b[0m\u001b[0;34m)\u001b[0m\u001b[0;34m:\u001b[0m\u001b[0;34m\u001b[0m\u001b[0;34m\u001b[0m\u001b[0m\n\u001b[0;32m----> 2\u001b[0;31m     \u001b[0mgenres\u001b[0m \u001b[0;34m=\u001b[0m \u001b[0mgenres_text\u001b[0m\u001b[0;34m.\u001b[0m\u001b[0msplit\u001b[0m\u001b[0;34m(\u001b[0m\u001b[0;34m\", \"\u001b[0m\u001b[0;34m)\u001b[0m\u001b[0;34m\u001b[0m\u001b[0;34m\u001b[0m\u001b[0m\n\u001b[0m\u001b[1;32m      3\u001b[0m     \u001b[0;32mreturn\u001b[0m \u001b[0mlen\u001b[0m\u001b[0;34m(\u001b[0m\u001b[0mgenres\u001b[0m\u001b[0;34m)\u001b[0m\u001b[0;34m\u001b[0m\u001b[0;34m\u001b[0m\u001b[0m\n",
      "\u001b[0;31mAttributeError\u001b[0m: 'float' object has no attribute 'split'"
     ]
    }
   ],
   "source": [
    "df.Genre.apply(count_genres_naive)"
   ]
  },
  {
   "cell_type": "markdown",
   "metadata": {},
   "source": [
    "Unfortunately our `count_genres_naive` function does not know how to handle missing data.  (Pandas uses the `NaN` datatype from the underlying `numpy` packages to represent missing data, and this datatype is based on the primitive `float` type, which is why the `Attribute` error reads as it does.  Note that if the missing data was represented as `None`, the same problem would arise, and if it was represented by the empty string `''` it would be worse, as `len(''.split(',')) == 1`!)\n",
    "\n",
    "We could handle this problem in a number of ways:\n",
    "1. we could modify our `count_genres_naive` function to handle the missing values;\n",
    "2. we could drop the observations with missing values immediately (and temporarily) before we apply our count function; or\n",
    "3. we could clean the dataset when we initially import it."
   ]
  },
  {
   "cell_type": "code",
   "execution_count": 32,
   "metadata": {},
   "outputs": [
    {
     "data": {
      "text/plain": [
       "imdbID\n",
       "tt0111161                                Drama\n",
       "tt0068646                         Crime, Drama\n",
       "tt7286456               Crime, Drama, Thriller\n",
       "tt0468569       Action, Crime, Drama, Thriller\n",
       "tt5813916                   Action, Drama, War\n",
       "                           ...                \n",
       "tt1563738                       Drama, Romance\n",
       "tt0109831               Comedy, Drama, Romance\n",
       "tt1862079               Comedy, Drama, Romance\n",
       "tt5439796                 Comedy, Crime, Drama\n",
       "tt0472062    Biography, Comedy, Drama, History\n",
       "Name: Genre, Length: 993, dtype: object"
      ]
     },
     "execution_count": 32,
     "metadata": {},
     "output_type": "execute_result"
    }
   ],
   "source": [
    "df.Genre.dropna()"
   ]
  },
  {
   "cell_type": "code",
   "execution_count": 35,
   "metadata": {},
   "outputs": [
    {
     "data": {
      "text/plain": [
       "imdbID\n",
       "tt0111161    1\n",
       "tt0068646    2\n",
       "tt7286456    3\n",
       "tt0468569    4\n",
       "tt5813916    3\n",
       "            ..\n",
       "tt1563738    2\n",
       "tt0109831    3\n",
       "tt1862079    3\n",
       "tt5439796    3\n",
       "tt0472062    4\n",
       "Name: Genre, Length: 993, dtype: int64"
      ]
     },
     "execution_count": 35,
     "metadata": {},
     "output_type": "execute_result"
    }
   ],
   "source": [
    "df.Genre.dropna().apply(count_genres_naive)"
   ]
  },
  {
   "cell_type": "code",
   "execution_count": 61,
   "metadata": {
    "scrolled": true
   },
   "outputs": [
    {
     "data": {
      "text/html": [
       "<style>table.dataframe td {white-space: nowrap}</style><div>\n",
       "<style scoped>\n",
       "    .dataframe tbody tr th:only-of-type {\n",
       "        vertical-align: middle;\n",
       "    }\n",
       "\n",
       "    .dataframe tbody tr th {\n",
       "        vertical-align: top;\n",
       "    }\n",
       "\n",
       "    .dataframe thead th {\n",
       "        text-align: right;\n",
       "    }\n",
       "</style>\n",
       "<table border=\"1\" class=\"dataframe\">\n",
       "  <thead>\n",
       "    <tr style=\"text-align: right;\">\n",
       "      <th></th>\n",
       "      <th>Genre</th>\n",
       "      <th>genre_count</th>\n",
       "    </tr>\n",
       "    <tr>\n",
       "      <th>imdbID</th>\n",
       "      <th></th>\n",
       "      <th></th>\n",
       "    </tr>\n",
       "  </thead>\n",
       "  <tbody>\n",
       "    <tr>\n",
       "      <th>tt0057012</th>\n",
       "      <td>NaN</td>\n",
       "      <td>NaN</td>\n",
       "    </tr>\n",
       "    <tr>\n",
       "      <th>tt0079470</th>\n",
       "      <td>NaN</td>\n",
       "      <td>NaN</td>\n",
       "    </tr>\n",
       "    <tr>\n",
       "      <th>tt0072431</th>\n",
       "      <td>NaN</td>\n",
       "      <td>NaN</td>\n",
       "    </tr>\n",
       "    <tr>\n",
       "      <th>tt0091042</th>\n",
       "      <td>NaN</td>\n",
       "      <td>NaN</td>\n",
       "    </tr>\n",
       "    <tr>\n",
       "      <th>tt1119646</th>\n",
       "      <td>NaN</td>\n",
       "      <td>NaN</td>\n",
       "    </tr>\n",
       "    <tr>\n",
       "      <th>...</th>\n",
       "      <td>...</td>\n",
       "      <td>...</td>\n",
       "    </tr>\n",
       "    <tr>\n",
       "      <th>tt0109686</th>\n",
       "      <td>NaN</td>\n",
       "      <td>NaN</td>\n",
       "    </tr>\n",
       "    <tr>\n",
       "      <th>tt0424345</th>\n",
       "      <td>NaN</td>\n",
       "      <td>NaN</td>\n",
       "    </tr>\n",
       "    <tr>\n",
       "      <th>tt0357413</th>\n",
       "      <td>NaN</td>\n",
       "      <td>NaN</td>\n",
       "    </tr>\n",
       "    <tr>\n",
       "      <th>tt0302886</th>\n",
       "      <td>NaN</td>\n",
       "      <td>NaN</td>\n",
       "    </tr>\n",
       "    <tr>\n",
       "      <th>tt0163651</th>\n",
       "      <td>NaN</td>\n",
       "      <td>NaN</td>\n",
       "    </tr>\n",
       "  </tbody>\n",
       "</table>\n",
       "</div>"
      ],
      "text/plain": [
       "          Genre  genre_count\n",
       "imdbID                      \n",
       "tt0057012   NaN          NaN\n",
       "tt0079470   NaN          NaN\n",
       "tt0072431   NaN          NaN\n",
       "tt0091042   NaN          NaN\n",
       "tt1119646   NaN          NaN\n",
       "...         ...          ...\n",
       "tt0109686   NaN          NaN\n",
       "tt0424345   NaN          NaN\n",
       "tt0357413   NaN          NaN\n",
       "tt0302886   NaN          NaN\n",
       "tt0163651   NaN          NaN\n",
       "\n",
       "[21 rows x 2 columns]"
      ]
     },
     "execution_count": 61,
     "metadata": {},
     "output_type": "execute_result"
    }
   ],
   "source": [
    "df['genre_count'] = df.Genre.dropna().apply(count_genres_naive)\n",
    "df[pd.isna(df.Genre)][['Genre', 'genre_count']]"
   ]
  },
  {
   "cell_type": "markdown",
   "metadata": {},
   "source": [
    "One problem with this approach is that we "
   ]
  },
  {
   "cell_type": "code",
   "execution_count": 33,
   "metadata": {},
   "outputs": [
    {
     "data": {
      "text/plain": [
       "Title               0\n",
       "Year                0\n",
       "Rated               1\n",
       "Runtime             0\n",
       "Genre              21\n",
       "Director            0\n",
       "Actors              0\n",
       "Plot                0\n",
       "Language            0\n",
       "Country             0\n",
       "Awards             39\n",
       "Poster              0\n",
       "Metascore          25\n",
       "imdbRating          0\n",
       "imdbVotes           1\n",
       "BoxOffice         453\n",
       "Production         15\n",
       "RottenTomatoes     18\n",
       "dtype: int64"
      ]
     },
     "execution_count": 33,
     "metadata": {},
     "output_type": "execute_result"
    }
   ],
   "source": [
    "df.isnull().sum()"
   ]
  },
  {
   "cell_type": "code",
   "execution_count": null,
   "metadata": {},
   "outputs": [],
   "source": []
  },
  {
   "cell_type": "code",
   "execution_count": null,
   "metadata": {},
   "outputs": [],
   "source": []
  },
  {
   "cell_type": "code",
   "execution_count": null,
   "metadata": {},
   "outputs": [],
   "source": []
  }
 ],
 "metadata": {
  "kernelspec": {
   "display_name": "Python 3",
   "language": "python",
   "name": "python3"
  },
  "language_info": {
   "codemirror_mode": {
    "name": "ipython",
    "version": 3
   },
   "file_extension": ".py",
   "mimetype": "text/x-python",
   "name": "python",
   "nbconvert_exporter": "python",
   "pygments_lexer": "ipython3",
   "version": "3.6.8"
  }
 },
 "nbformat": 4,
 "nbformat_minor": 2
}
