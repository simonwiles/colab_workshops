{
 "cells": [
  {
   "cell_type": "markdown",
   "metadata": {
    "colab_type": "text",
    "id": "view-in-github"
   },
   "source": [
    "<a href=\"https://colab.research.google.com/github/simonwiles/colab_workshops/blob/master/intro_to_python.ipynb\" target=\"_parent\"><img src=\"https://colab.research.google.com/assets/colab-badge.svg\" alt=\"Open In Colab\"/></a>"
   ]
  },
  {
   "cell_type": "markdown",
   "metadata": {
    "colab_type": "text",
    "id": "SJ2-_7uCHIun"
   },
   "source": [
    "# Introduction to Python\n",
    "\n",
    "## Info\n",
    "- Peter Broadwell (CIDR), broadwell@stanford.edu\n",
    "- Simon Wiles (CIDR), simon.wiles@stanford.edu\n",
    "\n",
    "## Goal\n",
    "\n",
    "By the end of our workshop today, we hope you'll understand basic syntax in Python for variables, functions, and control flow, and understand some of the basic data structures in Python. With these in hand, you'll know enough to write basic scripts and explore other features of the language.  \n",
    "\n",
    "## Topics\n",
    "- Variables and types/structures (String, Int, Float, List, Dictionary)\n",
    "- Functions\n",
    "- Control flow\n",
    "- Reading and writing text to a file \n",
    "- A basic workflow of reading in content, doing something to it, then writing a new output\n",
    "- Working with Colab notebooks in GitHub?"
   ]
  },
  {
   "cell_type": "markdown",
   "metadata": {
    "colab_type": "text",
    "id": "1lDQAAreHIur"
   },
   "source": [
    "##  Setup\n",
    "\n",
    "Go to http://bit.ly/cidr-intro-python-19\n",
    "\n",
    "To access the link, you will need to be signed in to [Google Drive](https://drive.google.com) (use the icon at the top right of the browser window).\n",
    "\n",
    "This is the **intro_to_python.ipynb** notebook, which you'll be able to see after opening the link above. We recommend opening this notebook and using it during the tutorial, although you can also refer to the **intro_to_python_filled.ipynb** notebook, which gives the expected output of each command, as well as solutions to the coding activities.\n",
    "\n",
    "Once you have selected a notebook, you should click the \"Open with Colaboratory\" link that appears at the top of the page. This copy of the notebook is now attached to your own user account, so you can edit it in any way you like -- you can even take notes directly in the notebook."
   ]
  },
  {
   "cell_type": "markdown",
   "metadata": {
    "colab_type": "text",
    "id": "yYkp3KycHIut"
   },
   "source": [
    "## Why Python?\n",
    "\n",
    "It's multi-use: you can write simple scripts to automate tasks, write complex code for machine learning and other approaches, and even build full-scale web applications.\n",
    "\n",
    "The biggest reason we see people learning Python right now is for data science and related approaches, regardless of disciplinary background."
   ]
  },
  {
   "cell_type": "markdown",
   "metadata": {
    "colab_type": "text",
    "id": "TFekjJ1tHIuu"
   },
   "source": [
    "## Notebooks and Cloud Services\n",
    "\n",
    "Notebooks are a way to write and run Python code in an interactive way. They've quickly become a standard tool for putting together data, code, and written explanation or visualizations into a single document that can be shared. There are a lot of ways that you can run notebooks, including just locally on your computer via the [Jupyter](https://jupyter.org/install.html) app, but for this workshop, we're using Google's Colaboratory platform. \"Colab\" offers a virtual environment that can contain a notebook and static files and comes with a variety of popular libraries pre-installed. It also allows you to install other libraries as needed, and even gives you access to cloud-based GPUs for deep-learning applications. Be aware, however, that files won't persist across sessions unless you download them or save them to Drive.\n",
    "\n",
    "Using the Colab platform allows us to focus on learning and writing Python in the workshop rather than on setting up Python, which sometimes can take a bit of extra work depending on operating systems and other aspects of the computing environment. If you'd like to install a Python distribution locally, though, we have some instructions (with gifs!) on installing Python through the Anaconda distribution, which will also help you handle virtual environments: https://github.com/sul-cidr/python_workshops/blob/master/setup.ipynb\n",
    "\n",
    "If you run into problems, or would like to look at other ways of installing Python, feel free to send us an email. "
   ]
  },
  {
   "cell_type": "markdown",
   "metadata": {
    "colab_type": "text",
    "id": "JFZht2PvHIux"
   },
   "source": [
    "## Variables and types"
   ]
  },
  {
   "cell_type": "code",
   "execution_count": null,
   "metadata": {
    "colab": {},
    "colab_type": "code",
    "id": "2dKlye84HIuy"
   },
   "outputs": [],
   "source": [
    "# Strings\n",
    "greeting = \"Hello, I'm Peter. It's a pleasure to meet you.\"\n",
    "# After you run this cell, note the difference between printing out in Jupyter and getting the\n",
    "# output from the last line of the cell\n",
    "print(greeting)\n",
    "greeting"
   ]
  },
  {
   "cell_type": "code",
   "execution_count": null,
   "metadata": {
    "colab": {},
    "colab_type": "code",
    "id": "bgTKY2nrHIu7"
   },
   "outputs": [],
   "source": [
    "# Find a letter by index\n",
    "greeting[3]"
   ]
  },
  {
   "cell_type": "code",
   "execution_count": null,
   "metadata": {
    "colab": {},
    "colab_type": "code",
    "id": "2iGANp4bHIvB"
   },
   "outputs": [],
   "source": [
    "# Get the length of a string. Length here is a built-in function in Python\n",
    "len(greeting)"
   ]
  },
  {
   "cell_type": "code",
   "execution_count": null,
   "metadata": {
    "colab": {},
    "colab_type": "code",
    "id": "6255N_lVHIvH"
   },
   "outputs": [],
   "source": [
    "len?"
   ]
  },
  {
   "cell_type": "code",
   "execution_count": null,
   "metadata": {
    "colab": {},
    "colab_type": "code",
    "id": "SrUawwd_HIvL"
   },
   "outputs": [],
   "source": [
    "# Count spaces in the string. Here, count() is a method that all strings have, i.e.,\n",
    "# a function that can be run on the string.\n",
    "greeting.count(' ')"
   ]
  },
  {
   "cell_type": "code",
   "execution_count": null,
   "metadata": {
    "colab": {},
    "colab_type": "code",
    "id": "jfuQkgKnHIvR"
   },
   "outputs": [],
   "source": [
    "greeting.count?"
   ]
  },
  {
   "cell_type": "code",
   "execution_count": null,
   "metadata": {
    "colab": {},
    "colab_type": "code",
    "id": "mlKrvYoPHIvW"
   },
   "outputs": [],
   "source": [
    "# Slice to get the first 3 characters\n",
    "greeting[:3]"
   ]
  },
  {
   "cell_type": "code",
   "execution_count": null,
   "metadata": {
    "colab": {},
    "colab_type": "code",
    "id": "zIJzWuG5HIvd"
   },
   "outputs": [],
   "source": [
    "# Get the last three characters\n",
    "greeting[:-3]"
   ]
  },
  {
   "cell_type": "code",
   "execution_count": null,
   "metadata": {
    "colab": {},
    "colab_type": "code",
    "id": "zjkm_CS2HIvi"
   },
   "outputs": [],
   "source": [
    "# Replace hello with goodbye\n",
    "greeting.replace(\"Hello\", \"Goodbye\")"
   ]
  },
  {
   "cell_type": "code",
   "execution_count": null,
   "metadata": {
    "colab": {},
    "colab_type": "code",
    "id": "3VS_83xpHIvm"
   },
   "outputs": [],
   "source": [
    "# String concatenation\n",
    "\"Hello\" + \" \" + \"World\""
   ]
  },
  {
   "cell_type": "code",
   "execution_count": null,
   "metadata": {
    "colab": {},
    "colab_type": "code",
    "id": "PjEAKNMZHIvr"
   },
   "outputs": [],
   "source": [
    "# Autocomplete (use arrow keys) help to explore functionality\n",
    "#greeting."
   ]
  },
  {
   "cell_type": "code",
   "execution_count": null,
   "metadata": {
    "colab": {},
    "colab_type": "code",
    "id": "73438kSPHIvu"
   },
   "outputs": [],
   "source": [
    "# Numbers\n",
    "# Integer and floats\n",
    "first_num = 10\n",
    "second_num = 5.467\n",
    "print(type(first_num), type(second_num))"
   ]
  },
  {
   "cell_type": "code",
   "execution_count": null,
   "metadata": {
    "colab": {},
    "colab_type": "code",
    "id": "xxjzn3dfHIvx"
   },
   "outputs": [],
   "source": [
    "# Addition\n",
    "1 + 5"
   ]
  },
  {
   "cell_type": "code",
   "execution_count": null,
   "metadata": {
    "colab": {},
    "colab_type": "code",
    "id": "xBy-9Z-9HIv3"
   },
   "outputs": [],
   "source": [
    "# Division\n",
    "10 / 2"
   ]
  },
  {
   "cell_type": "code",
   "execution_count": null,
   "metadata": {
    "colab": {},
    "colab_type": "code",
    "id": "aQbMEh7uHIv9"
   },
   "outputs": [],
   "source": [
    "# Multiplication\n",
    "5 * 2"
   ]
  },
  {
   "cell_type": "code",
   "execution_count": null,
   "metadata": {
    "colab": {},
    "colab_type": "code",
    "id": "wrwQEJrEHIwF"
   },
   "outputs": [],
   "source": [
    "# Lists\n",
    "drinks = ['coffee', 'tea', 'water']\n",
    "drinks"
   ]
  },
  {
   "cell_type": "code",
   "execution_count": null,
   "metadata": {
    "colab": {},
    "colab_type": "code",
    "id": "zB7aR64oHIwK"
   },
   "outputs": [],
   "source": [
    "# Python allows you to create lists containing elements of different types\n",
    "mixed = [2, 'hello', 10.5, 'here is a sentence']\n",
    "for item in mixed:\n",
    "    print(type(item))"
   ]
  },
  {
   "cell_type": "code",
   "execution_count": null,
   "metadata": {
    "colab": {},
    "colab_type": "code",
    "id": "OraaGapZHIwP"
   },
   "outputs": [],
   "source": [
    "# Get item by index\n",
    "drinks[2]"
   ]
  },
  {
   "cell_type": "code",
   "execution_count": null,
   "metadata": {
    "colab": {},
    "colab_type": "code",
    "id": "KB2zWbVfHIwT"
   },
   "outputs": [],
   "source": [
    "# Add an item to the end of the list\n",
    "drinks.append('juice')\n",
    "# Modify an element \"in place\" via its index\n",
    "drinks[0] = \"hot water\"\n",
    "drinks"
   ]
  },
  {
   "cell_type": "code",
   "execution_count": null,
   "metadata": {
    "colab": {},
    "colab_type": "code",
    "id": "sw1B7uasHIwX"
   },
   "outputs": [],
   "source": [
    "# Splitting a string - note the type of the output\n",
    "greeting_words = greeting.split(' ')\n",
    "greeting_words"
   ]
  },
  {
   "cell_type": "code",
   "execution_count": null,
   "metadata": {
    "colab": {},
    "colab_type": "code",
    "id": "df1BPlH6HIwZ"
   },
   "outputs": [],
   "source": [
    "# Joining a list of strings \n",
    "' '.join(greeting_words)"
   ]
  },
  {
   "cell_type": "code",
   "execution_count": null,
   "metadata": {
    "colab": {},
    "colab_type": "code",
    "id": "0Q4DxvmBDGNT"
   },
   "outputs": [],
   "source": [
    "# Dictionaries are another useful data type. They associate \"keys\" (usually strings or integers)\n",
    "# to values, which can be anything: ints, strings, floats, lists, other dictionaries\n",
    "majors = { 'Peter': 'Musicology', 'Scott': 'Religious Studies', 'Quinn': 'Slavic Studies', 'Simon': 'Religious Studies' }\n",
    "majors['Peter']"
   ]
  },
  {
   "cell_type": "markdown",
   "metadata": {
    "colab_type": "text",
    "id": "BXtrF6N_HIwf"
   },
   "source": [
    "There are plenty of other data types and structures that we aren't going to use today, such as: sets, tuples, and so forth. "
   ]
  },
  {
   "cell_type": "markdown",
   "metadata": {
    "colab_type": "text",
    "id": "JaZY-y6FHIwg"
   },
   "source": [
    "## Functions\n",
    "\n",
    "At the most basic level, functions are chunks of reusable code."
   ]
  },
  {
   "cell_type": "code",
   "execution_count": null,
   "metadata": {
    "colab": {},
    "colab_type": "code",
    "id": "I5dsX6pkHIwg"
   },
   "outputs": [],
   "source": [
    "# Define a function -- note use of indenting!\n",
    "def add(num1, num2):\n",
    "    return num1 + num2\n",
    "\n",
    "add(1, 2)"
   ]
  },
  {
   "cell_type": "code",
   "execution_count": null,
   "metadata": {
    "colab": {},
    "colab_type": "code",
    "id": "9Qso8TseHIwl"
   },
   "outputs": [],
   "source": [
    "def combine_arrays(array1, array2):\n",
    "    new_list = array1 + array2\n",
    "    return new_list\n",
    "\n",
    "first = ['hello', 2]\n",
    "second = [1, 10]\n",
    "new = combine_arrays(first, second)\n",
    "new"
   ]
  },
  {
   "cell_type": "markdown",
   "metadata": {
    "colab_type": "text",
    "id": "AFXH4yqCHIwq"
   },
   "source": [
    "### Activity: Write a pig-latinization function\n",
    "\n",
    "Pig latin is a language game where you take the first letter of a word, move it to the end of the word, then add '-ay' at the end. For example, 'pig latin' would be 'igpay atinlay' and 'python' would turn into 'ythonpay'.\n",
    "\n",
    "In the cell below, write a function that takes a string, lowercases it, and returns the pig latin translation of the word. You'll need to use slicing and string concatenation to make this work."
   ]
  },
  {
   "cell_type": "code",
   "execution_count": null,
   "metadata": {
    "colab": {},
    "colab_type": "code",
    "id": "VcyIyWgcHIwq"
   },
   "outputs": [],
   "source": [
    "def pig_latinize(word):\n",
    "    # CODE GOES HERE\n",
    "\n",
    "# the following should return 'ellohay'\n",
    "pig_latinize('Hello')"
   ]
  },
  {
   "cell_type": "markdown",
   "metadata": {
    "colab_type": "text",
    "id": "Lk20eiVAHIwv"
   },
   "source": [
    "## Control flow "
   ]
  },
  {
   "cell_type": "code",
   "execution_count": null,
   "metadata": {
    "colab": {},
    "colab_type": "code",
    "id": "EDJp21NoHIwv"
   },
   "outputs": [],
   "source": [
    "# IF (conditional execution)\n",
    "name = \"Bob\"\n",
    "\n",
    "if name == \"Peter\":\n",
    "    print(\"Hi Peter!\")\n",
    "else:\n",
    "    print(\"Who are you?\")"
   ]
  },
  {
   "cell_type": "code",
   "execution_count": null,
   "metadata": {
    "colab": {},
    "colab_type": "code",
    "id": "NdAGrsNTHIwz"
   },
   "outputs": [],
   "source": [
    "# You can use control flow with functions\n",
    "# Also, you can use if, else if, and else to specify more than one condition\n",
    "name = \"Bob\"\n",
    "\n",
    "def say_hello(name):\n",
    "    return \"Hello, \" + name + \"!\"\n",
    "\n",
    "if (name == \"Bob\"):\n",
    "    message = say_hello(\"Bob\")\n",
    "    print(message)\n",
    "elif (name == \"Peter\"):\n",
    "    message = say_hello(\"Peter\")\n",
    "    print(message)\n",
    "else:\n",
    "    print(\"Who are you?\")"
   ]
  },
  {
   "cell_type": "code",
   "execution_count": null,
   "metadata": {
    "colab": {},
    "colab_type": "code",
    "id": "quma-JNWHIw3"
   },
   "outputs": [],
   "source": [
    "# FOR loops let you iterate over a list or other iterable object\n",
    "names = [\"Vijoy\", \"Claudia\", \"Scott\", \"Peter\", \"Simon\"]\n",
    "for name in names:\n",
    "    print(name, len(name))"
   ]
  },
  {
   "cell_type": "code",
   "execution_count": null,
   "metadata": {
    "colab": {},
    "colab_type": "code",
    "id": "oMXUE6vQHIw5"
   },
   "outputs": [],
   "source": [
    "# You can combine types of control flow\n",
    "for name in names[:3]:\n",
    "    if len(name) > 5:\n",
    "        print(name)"
   ]
  },
  {
   "cell_type": "code",
   "execution_count": null,
   "metadata": {
    "colab": {},
    "colab_type": "code",
    "id": "uIDb_CojDTpQ"
   },
   "outputs": [],
   "source": [
    "# Testing list membership\n",
    "if ('Peter' in names):\n",
    "    print(\"Peter is here\")\n",
    "else:\n",
    "    print(\"Peter is missing!\")"
   ]
  },
  {
   "cell_type": "code",
   "execution_count": null,
   "metadata": {
    "colab": {},
    "colab_type": "code",
    "id": "Jby2eeWmHIw7"
   },
   "outputs": [],
   "source": [
    "# User-defined functions in FOR loops\n",
    "def add_one(num):\n",
    "    return num + 1\n",
    "\n",
    "nums = [1, 2, 3, 4]\n",
    "plus = []\n",
    "for num in nums:\n",
    "    plus.append(add_one(num))\n",
    "#plus = list(map(add_one, nums))\n",
    "plus"
   ]
  },
  {
   "cell_type": "code",
   "execution_count": null,
   "metadata": {
    "colab": {},
    "colab_type": "code",
    "id": "NY2cs8OyHIxA"
   },
   "outputs": [],
   "source": [
    "# ADVANCED: List Comprehensions\n",
    "# List comprehensions are a \"pythonic\" way of building lists in a compact manner\n",
    "\n",
    "added = [add_one(num) for num in nums]\n",
    "added"
   ]
  },
  {
   "cell_type": "code",
   "execution_count": null,
   "metadata": {
    "colab": {},
    "colab_type": "code",
    "id": "_pB53kxgHIxD"
   },
   "outputs": [],
   "source": [
    "long_names = [name.lower() for name in names[:3] if len(name) > 5]\n",
    "long_names"
   ]
  },
  {
   "cell_type": "code",
   "execution_count": null,
   "metadata": {
    "colab": {},
    "colab_type": "code",
    "id": "JFnUmu0IDam-"
   },
   "outputs": [],
   "source": [
    "# ADVANCED: List Comprehension with dictionary value lookup\n",
    "studiers = [key for key in majors if majors[key].find(\"Studies\") >= 0]\n",
    "studiers"
   ]
  },
  {
   "cell_type": "markdown",
   "metadata": {
    "colab_type": "text",
    "id": "lZlPlQfEHIxG"
   },
   "source": [
    "### Activity: Pig-latinize a list\n",
    "\n",
    "In the cell below, write a function that loops over a list and returns a new list where all the strings have been replaced with their pig latin translations. \n",
    "\n",
    "For example, if your list is `['hello', 5, 'world']` your output should be `['ellohay', 5, 'orldway']`.\n",
    "\n",
    "Feel free to reuse the pig latinizer function you wrote above. You'll also need to think about checking the type of each item in the list."
   ]
  },
  {
   "cell_type": "code",
   "execution_count": null,
   "metadata": {
    "colab": {},
    "colab_type": "code",
    "id": "AgMViAghHIxH"
   },
   "outputs": [],
   "source": [
    "def pig_latinize_list(items):\n",
    "    # CODE GOES HERE\n",
    "\n",
    "pig_latinize_list(['hello', 5, 'world'])"
   ]
  },
  {
   "cell_type": "markdown",
   "metadata": {
    "colab_type": "text",
    "id": "Cw2TglyqHIxK"
   },
   "source": [
    "## Reading from and writing text to a file "
   ]
  },
  {
   "cell_type": "code",
   "execution_count": null,
   "metadata": {
    "colab": {},
    "colab_type": "code",
    "id": "QOj4Ix0dHIxL"
   },
   "outputs": [],
   "source": [
    "# Working with comma-separated and similar data files will be covered in a later workshop. \n",
    "# It's worthwhile, however, to see how to read and write data or text to and from a file.\n",
    "# We'll start with writing some text to a file, then explore how to read it.\n",
    "\n",
    "sample_text = \"\"\"\n",
    "Lorem ipsum dolor sit amet, consectetur adipiscing elit. \n",
    "Fusce pharetra tristique iaculis. Morbi maximus interdum nibh, at faucibus lacus porta vitae.\n",
    "Praesent mi velit, tempus sit amet sagittis a, sodales sit amet sapien.\n",
    "Praesent dictum, diam a hendrerit cursus, eros dolor posuere sem, a porttitor libero nulla molestie eros.\n",
    "\"\"\"\n",
    "with open('lorem.txt', 'w') as f:\n",
    "    f.write(sample_text)\n",
    "\n",
    "\n",
    "# You can check the \"Files\" tab in the column at left now to find the output file\n",
    "# Note that you must click the \"REFRESH\" button to see it.\n"
   ]
  },
  {
   "cell_type": "code",
   "execution_count": null,
   "metadata": {
    "colab": {},
    "colab_type": "code",
    "id": "2K-9QtptHIxN"
   },
   "outputs": [],
   "source": [
    "# Now, let's read the file back.\n",
    "with open('lorem.txt', 'r') as f:\n",
    "    print(f.read())"
   ]
  },
  {
   "cell_type": "code",
   "execution_count": null,
   "metadata": {
    "colab": {},
    "colab_type": "code",
    "id": "yViwpBFMHIxO"
   },
   "outputs": [],
   "source": [
    "# We can also read the file line by line\n",
    "with open('lorem.txt', 'r') as f:\n",
    "    for line in f:\n",
    "        line = line.strip()\n",
    "        print(line)"
   ]
  },
  {
   "cell_type": "markdown",
   "metadata": {
    "colab_type": "text",
    "id": "4UX0mZBjHIxR"
   },
   "source": [
    "### Collaborative Activity: Read a file, pig-latinize it, write it to another file\n",
    "\n",
    "There is a file named sonnet.txt, containing the text of Shakespeare's Sonnet 18, in the [Drive folder](https://drive.google.com/open?id=1T0CHayyfEXSsspeF854FIAz4W00iJlpv) you accessed when obtaining a local copy of this notebook. Our goal is to read that file in, pig latinize the sonnet, and write a new file containing the pig latinized sonnet.\n",
    "\n",
    "Some work is needed to get the file into the notebook's local (temporary) storage. You'll need to open the link above in a new browser tab,  right-click the \"sonnet.txt\" file to download it, then click the \"UPLOAD\" button in the \"Files\" list in the pane to the left of this notebook to open a dialog that will let you select and then upload the file.\n",
    "\n",
    "Hint for the activity: you may want to remove spaces from the beginning and end of each line with .strip()"
   ]
  },
  {
   "cell_type": "code",
   "execution_count": null,
   "metadata": {
    "colab": {},
    "colab_type": "code",
    "id": "p7gwpIZuHIxS"
   },
   "outputs": [],
   "source": [
    "# Pig latinize the sonnet\n",
    "    # CODE GOES HERE"
   ]
  },
  {
   "cell_type": "markdown",
   "metadata": {
    "colab_type": "text",
    "id": "BPYg8TFGmcoS"
   },
   "source": [
    "Click the \"REFRESH\" button to update the \"Files\" list at left to display any new files you've created."
   ]
  },
  {
   "cell_type": "markdown",
   "metadata": {
    "colab_type": "text",
    "id": "2Pk0IBJR9ZbV"
   },
   "source": [
    "After the workshop, please go to http://bit.ly/cidr-python-19-eval and fill out the evaluation form. It will take only 2 minutes to complete, and is really helpful!"
   ]
  },
  {
   "cell_type": "markdown",
   "metadata": {
    "colab_type": "text",
    "id": "FgsqJZovHIxS"
   },
   "source": [
    "## Further resources and topics\n",
    "\n",
    "### Resources\n",
    "- https://python.swaroopch.com/ (A Byte of Python is a great intro book and reference for Python)\n",
    "- https://docs.python.org/3/ (Official Python documentation and tutorials)\n",
    "- https://realpython.com/ (Contains a lot of different tutorials at different levels)\n",
    "- https://www.lynda.com/Python-training-tutorials/415-0.html (Lynda is free with Stanford accounts. I haven't used these tutorials but have used Lynda for other programming languages and been quite happy with it)\n",
    "\n",
    "### Topics\n",
    "- Other data structures: sets, tuples\n",
    "- Libraries, packages, and pip\n",
    "- Virtual environments\n",
    "- Text editors and local execution environments\n",
    "- The object-oriented paradigm in Python: classes, methods"
   ]
  }
 ],
 "metadata": {
  "accelerator": "GPU",
  "colab": {
   "collapsed_sections": [
    "FgsqJZovHIxS"
   ],
   "include_colab_link": true,
   "name": "intro_to_python.ipynb",
   "provenance": [],
   "toc_visible": true
  },
  "kernelspec": {
   "display_name": "Python 3",
   "language": "python",
   "name": "python3"
  },
  "language_info": {
   "codemirror_mode": {
    "name": "ipython",
    "version": 3
   },
   "file_extension": ".py",
   "mimetype": "text/x-python",
   "name": "python",
   "nbconvert_exporter": "python",
   "pygments_lexer": "ipython3",
   "version": "3.6.9"
  },
  "toc": {
   "base_numbering": 1,
   "nav_menu": {},
   "number_sections": true,
   "sideBar": true,
   "skip_h1_title": false,
   "title_cell": "Table of Contents",
   "title_sidebar": "Contents",
   "toc_cell": false,
   "toc_position": {},
   "toc_section_display": true,
   "toc_window_display": false
  }
 },
 "nbformat": 4,
 "nbformat_minor": 1
}
