{
 "cells": [
  {
   "cell_type": "markdown",
   "metadata": {},
   "source": [
    "<img src=\"data:image/gif;base64,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\" alt=\"Fantastic Futures @ Stanford\"/>\n",
    "\n",
    "# Introduction to Python\n",
    "\n",
    "### Instructor\n",
    "- Simon Wiles (CIDR), <em>simon.wiles@stanford.edu</em>\n",
    "  <img src=\"https://raw.githubusercontent.com/sul-cidr/Workshops/master/cidr-logo.no-text.240x140.png\" alt=\"Center for Interdisciplinary Digital Research @ Stanford\" width=\"120\"/>\n",
    "\n",
    "### Goal\n",
    "\n",
    "\n",
    "### Topics\n",
    "\n",
    "\n",
    "\n",
    "### A Note on Jupyter Notebooks and Google Colaboratory\n",
    "\n",
    "Jupyter notebooks are a way to write and run Python code in an interactive way. They're quickly becoming a standard way of putting together data, code, and written explanations or visualizations into a single document and sharing that. There are a lot of ways that you can run Jupyter notebooks, including just locally on your computer, but we've decided to use Google's Colaboratory notebook platform for this workshop.  Colaboratory is “a Google research project created to help disseminate machine learning education and research.”  If you would like to know more about Colaboratory in general, you can visit the [Welcome Notebook](https://colab.research.google.com/notebooks/welcome.ipynb).\n",
    "\n",
    "Using the Google Colaboratory platform allows us to focus on learning and writing Python in the workshop rather than on setting up Python, which can sometimes take a bit of extra work depending on platforms, operating systems, and other installed applications. If you'd like to install a Python distribution locally, though, we have some instructions (with gifs!) on installing Python through the Anaconda distribution, which will also help you handle virtual environments: https://github.com/sul-cidr/Workshops/wiki/Installing-and-Configuring-Anaconda-and-Jupyter-Notebooks\n",
    "\n"
   ]
  },
  {
   "cell_type": "markdown",
   "metadata": {},
   "source": [
    "## 1. About Python"
   ]
  },
  {
   "cell_type": "markdown",
   "metadata": {},
   "source": [
    "### Why Python?\n",
    "\n",
    "[![XKCD 353: Python](https://imgs.xkcd.com/comics/python.png)](https://xkcd.com/353/)\n",
    "\n",
    "* Python is a great language for learning\n",
    "  - Python is a relatively simple and highly readable language\n",
    "  - Python is a high-level interpreted language\n",
    "  - This makes is fairly easy to learn, and fun to code in\n",
    "  - Learning Python will make learning other languages easier\n",
    "  \n",
    "  \n",
    "* Python is powerful and multi-purpose \n",
    "  - Python can be used for almost anything, from writing simple scripts to automate tasks to building full-scale applications\n",
    "  - Python is “Batteries-Included” -- the Standard Library includes a huge range of modules that can be depended upon\n",
    "  - The broader Python community is huge and vibrant -- hundreds of thousands of third-party modules and tutorials cover almost all areas of computing\n",
    "    + In particular, for our purposes, Python is at the very center of the Data Science and Machine Learning ecosystems\n",
    "\n",
    "\n",
    "* Python is cross-platform and free and open-source\n",
    "  - Python is freely available and is maintained and governed by its community of users\n",
    "  - Because of this, and because of Python’s great versatility and popularity, it is available on more-or-less any computer system you are likely to come into contact with\n",
    "\n",
    "\n",
    "In short, an investment in learning Python is as safe a bet as you are likely to find, no matter where you are now or where you may want to go from here."
   ]
  },
  {
   "cell_type": "markdown",
   "metadata": {},
   "source": [
    "### A Note on Python Versions\n",
    "In this workshop we will be working with Python 3, which is now more-or-less ubiquitous.  In particular, everything you will learn today will be compatible with Python versions `3.6` and up (the most recently released version is `3.8`).  Python 3 has been the standard for many years now, but be aware that you can still find older tutorials, articles, and especially printed books that are based on Python 2.  The differences are not hugely significant, but there are minor syntax changes that can cause problems."
   ]
  },
  {
   "cell_type": "markdown",
   "metadata": {},
   "source": [
    "### Programs and Shells\n",
    "Python is an interpreted language -- this means that the code we write is executed by the python interpreter.\n",
    "\n",
    "There are many ways to write and run python code.\n",
    "  * as `.py` programs that are executed from a command-line or terminal environment\n",
    "  * in an interactive shell, like a Python \"command prompt\"\n",
    "  * using interactive notebooks\n",
    "\n",
    "\n",
    "  - interpreters\n",
    "    + read / evaluate / print\n",
    "  - getting help -- docs and autocomplete\n",
    "\n",
    "<mark>TODO</mark>"
   ]
  },
  {
   "cell_type": "markdown",
   "metadata": {},
   "source": [
    "## 2. Some Basic Language Features"
   ]
  },
  {
   "cell_type": "markdown",
   "metadata": {},
   "source": [
    "#### The `print()` function\n",
    "The most basic way for a Python program to generate output is via the `print()` function, which `print`s directly to the console or terminal environment in which the Python interpreted is executed.  In our Jupyter / Google Colab notebooks, this produces output beneath the code cell:"
   ]
  },
  {
   "cell_type": "code",
   "execution_count": null,
   "metadata": {},
   "outputs": [],
   "source": [
    "print(\"Hello world!\")"
   ]
  },
  {
   "cell_type": "markdown",
   "metadata": {},
   "source": [
    "Jupyter code cells (and other Python console environments) will also automatically output the _return value_ of a cell (or other code block) -- in our context here that means the last statement in a code cell:"
   ]
  },
  {
   "cell_type": "code",
   "execution_count": null,
   "metadata": {},
   "outputs": [],
   "source": [
    "\"Hello world!\""
   ]
  },
  {
   "cell_type": "markdown",
   "metadata": {},
   "source": [
    "For more information about the `print()` statement, we can access Python's built-in documentation and the Colab envionment's autocomplete and intellisense functionality."
   ]
  },
  {
   "cell_type": "code",
   "execution_count": null,
   "metadata": {},
   "outputs": [],
   "source": [
    "print?"
   ]
  },
  {
   "cell_type": "markdown",
   "metadata": {},
   "source": [
    "#### Comments\n",
    "Comments are an important part of any program.  In Python, comments begin with `#`:\n",
    "\n",
    "```\n",
    "# This is a comment\n",
    "print(\"Hello world!\")\n",
    "\n",
    "```\n",
    "\n",
    "and they can also be used to annotate lines of code:\n",
    "```\n",
    "print(\"Hello world!\")  # Comments are fine here too!\n",
    "```\n",
    "\n",
    "Use comments liberally, when you are learning, and even when you think you know exactly what you're doing.  Your comments should allow readers of your code to understand _why_ your code does what it does.  Remember that a primary audience for your comments will be you yourself when you revisit your code in the future!"
   ]
  },
  {
   "cell_type": "markdown",
   "metadata": {},
   "source": [
    "#### Indentation and Blocks\n",
    "White-space (specifically white-space at the beginning of lines) is meaningful in Python programs, and defines groups of statements which constitute _blocks_, which will become important when we discuss control flow and functions.  For now, note that indentation must be consistent in a python file -- the convention is to use four spaces.  Mixing up indentation levels will result in errors:"
   ]
  },
  {
   "cell_type": "code",
   "execution_count": null,
   "metadata": {},
   "outputs": [],
   "source": [
    "print(\"this is fine\")\n",
    "  print(\"this is not\")"
   ]
  },
  {
   "cell_type": "markdown",
   "metadata": {},
   "source": [
    "## 3. Values and Variables\n",
    "\n",
    "* Literal Constants\n",
    "  - Numbers\n",
    "  - Strings\n",
    "* Variables\n",
    "  - Data Types\n",
    "  - Identifiers\n",
    "    + Conventions\n",
    "\n",
    "\n",
    "### Values\n",
    "\n",
    "* values have types\n",
    "* variables are assigned values, which they store\n",
    "* the assignment operator\n",
    "<mark>TODO</mark>\n",
    "\n",
    "\n",
    "\n",
    "### Identifiers\n",
    "\n",
    "* identifiers (and everything else) in Python are case-sensitive\n",
    "* casing conventions\n",
    "* no initial numbers\n",
    "<mark>TODO</mark>\n",
    "\n"
   ]
  },
  {
   "cell_type": "markdown",
   "metadata": {},
   "source": [
    "### Native Datatypes\n",
    "\n",
    "Python has lots of native datatypes, but the most important ones are:\n",
    "\n",
    "* **Booleans** -- `True` or `False`\n",
    "* **Numbers** -- primarily integers and floats\n",
    "* **Strings** -- sequences of characters\n",
    "* **Lists** -- ordered sequences of values\n",
    "* **Tuples** -- like **list**s but immutable\n",
    "* **Dictionaries** -- unordered collections of key-value pairs\n",
    "* **Sets** -- unordered collections of values"
   ]
  },
  {
   "cell_type": "markdown",
   "metadata": {},
   "source": [
    "### Numbers and Booleans"
   ]
  },
  {
   "cell_type": "code",
   "execution_count": null,
   "metadata": {},
   "outputs": [],
   "source": []
  },
  {
   "cell_type": "markdown",
   "metadata": {},
   "source": [
    "### Strings, Lists, and Tuples"
   ]
  },
  {
   "cell_type": "markdown",
   "metadata": {},
   "source": [
    "Strings, lists, and tuples are what in Python are called **_sequence types_** -- they are composed of (none or more) ordered values.  In the case of a string, the values are characters; in the case of lists and tuples, the values are any legal Python values:"
   ]
  },
  {
   "cell_type": "code",
   "execution_count": null,
   "metadata": {},
   "outputs": [],
   "source": [
    "# A simple string assignment\n",
    "norweigian_blue = \"This parrot is no more! It has ceased to be!\"\n",
    "print(norweigian_blue)\n",
    "print(type(norweigian_blue))"
   ]
  },
  {
   "cell_type": "code",
   "execution_count": null,
   "metadata": {},
   "outputs": [],
   "source": [
    "# Strings can be indicated by single (') or double (\") quotes\n",
    "#  - note the use of the backslash (\\) to escape the quote used as an apostrophe\n",
    "black_knight = 'It\\'s just a flesh wound.'\n",
    "print(black_knight)\n",
    "print(type(black_knight))"
   ]
  },
  {
   "cell_type": "code",
   "execution_count": null,
   "metadata": {},
   "outputs": [],
   "source": [
    "# Multi-line strings are possible with triple quotes (''' or \"\"\" can be used)\n",
    "cheesemakers = '''\n",
    "Man: I think it was, \"Blessed are the cheesemakers\"!\n",
    "Gregory's wife: What's so special about the cheesemakers?\n",
    "Gregory: Well, obviously it's not meant to be taken literally. It refers to any manufacturer of dairy products.\n",
    "'''\n",
    "print(cheesemakers)\n",
    "print(type(cheesemakers))"
   ]
  },
  {
   "cell_type": "code",
   "execution_count": null,
   "metadata": {},
   "outputs": [],
   "source": [
    "# Strings in Python 3 are fully unicode-compliant\n",
    "monty_python_zh = '蒙提·派森的飛行馬戲團'\n",
    "print(monty_python_zh)"
   ]
  },
  {
   "cell_type": "code",
   "execution_count": null,
   "metadata": {},
   "outputs": [],
   "source": [
    "# tuples are instantiated with parentheses, and members are separated with commas\n",
    "pythons_tuple = ('chapman', 'cleese', 'gilliam', 'idle', 'jones', 'palin')\n",
    "print(pythons_tuple)\n",
    "print(type(pythons_tuple))"
   ]
  },
  {
   "cell_type": "code",
   "execution_count": null,
   "metadata": {},
   "outputs": [],
   "source": [
    "# lists use square brackets instead\n",
    "pythons_list = ['graham', 'john', 'terry', 'eric', 'terry', 'michael']\n",
    "print(pythons_list)\n",
    "print(type(pythons_list))"
   ]
  },
  {
   "cell_type": "markdown",
   "metadata": {},
   "source": [
    "**Sequence** types share certain methods and properties:"
   ]
  },
  {
   "cell_type": "code",
   "execution_count": null,
   "metadata": {},
   "outputs": [],
   "source": [
    "# the built-in function `len` returns the length of a string...\n",
    "len(norweigian_blue)"
   ]
  },
  {
   "cell_type": "code",
   "execution_count": null,
   "metadata": {},
   "outputs": [],
   "source": [
    "# ...or a tuple...\n",
    "len(pythons_tuple)"
   ]
  },
  {
   "cell_type": "code",
   "execution_count": null,
   "metadata": {},
   "outputs": [],
   "source": [
    "# ... or a list\n",
    "len(pythons_list)"
   ]
  },
  {
   "cell_type": "markdown",
   "metadata": {},
   "source": [
    "and any sequence can be **_indexed_**:"
   ]
  },
  {
   "cell_type": "code",
   "execution_count": null,
   "metadata": {},
   "outputs": [],
   "source": [
    "# Python sequences are \"zero-indexed\" -- meaning that the first member\n",
    "#  of a sequence is found at index 0\n",
    "norweigian_blue[0]"
   ]
  },
  {
   "cell_type": "code",
   "execution_count": null,
   "metadata": {},
   "outputs": [],
   "source": [
    "pythons_tuple[0]"
   ]
  },
  {
   "cell_type": "markdown",
   "metadata": {},
   "source": [
    "Indexing can also be used to return a 'slice' of a sequence.  The basic pattern is `identifier[start:end:step]`."
   ]
  },
  {
   "cell_type": "code",
   "execution_count": null,
   "metadata": {},
   "outputs": [],
   "source": [
    "pythons_list[2:4]"
   ]
  },
  {
   "cell_type": "code",
   "execution_count": null,
   "metadata": {},
   "outputs": [],
   "source": [
    "# we can omit the start value, and the beginning of the sequence is assumed\n",
    "print(pythons_tuple[0:3])\n",
    "print(pythons_tuple[:3])"
   ]
  },
  {
   "cell_type": "code",
   "execution_count": null,
   "metadata": {},
   "outputs": [],
   "source": [
    "# if we omit the end value, the end of the sequence is assumed\n",
    "print(pythons_list[4:])"
   ]
  },
  {
   "cell_type": "markdown",
   "metadata": {},
   "source": [
    "Since a **string** is a sequence of characters, indexing on **string**s operates in the same way:"
   ]
  },
  {
   "cell_type": "code",
   "execution_count": null,
   "metadata": {},
   "outputs": [],
   "source": [
    "# remember: the first character is found at index 0\n",
    "norweigian_blue[0]"
   ]
  },
  {
   "cell_type": "code",
   "execution_count": null,
   "metadata": {},
   "outputs": [],
   "source": [
    "norweigian_blue[:11]"
   ]
  },
  {
   "cell_type": "code",
   "execution_count": null,
   "metadata": {},
   "outputs": [],
   "source": [
    "# non-ascii characters are just fine, still:\n",
    "monty_python_zh[:5]"
   ]
  },
  {
   "cell_type": "markdown",
   "metadata": {},
   "source": [
    "Indexing is very powerful, and quite intuitive once you get the hang of it."
   ]
  },
  {
   "cell_type": "code",
   "execution_count": null,
   "metadata": {},
   "outputs": [],
   "source": [
    "# negative indexing is also possible\n",
    "norweigian_blue[-1]"
   ]
  },
  {
   "cell_type": "code",
   "execution_count": null,
   "metadata": {},
   "outputs": [],
   "source": [
    "alphabet = 'abcdefghijklmnopqrstuvwxyz'\n",
    "print(alphabet[:-10])\n",
    "print(alphabet[-10:])"
   ]
  },
  {
   "cell_type": "code",
   "execution_count": null,
   "metadata": {},
   "outputs": [],
   "source": [
    "pythons_tuple[-4:]"
   ]
  },
  {
   "cell_type": "code",
   "execution_count": null,
   "metadata": {},
   "outputs": [],
   "source": [
    "black_knight[-12:-1]"
   ]
  },
  {
   "cell_type": "markdown",
   "metadata": {},
   "source": [
    "**String**s (whether literals or variables) are objects that have some special methods that help common tasks.\n",
    "\n",
    "Let’s look a case-manipulation, for example:"
   ]
  },
  {
   "cell_type": "code",
   "execution_count": null,
   "metadata": {},
   "outputs": [],
   "source": [
    "print('monty python’s flying circus'.upper())\n",
    "print('MONTY PYTHON’S FLYING CIRCUS'.lower())"
   ]
  },
  {
   "cell_type": "code",
   "execution_count": null,
   "metadata": {},
   "outputs": [],
   "source": [
    "# case-manipulation is unicode-aware\n",
    "#  (but don't make the mistake of thinking this solves all problems!)\n",
    "print('norsk blå papegøye'.upper())"
   ]
  },
  {
   "cell_type": "code",
   "execution_count": null,
   "metadata": {},
   "outputs": [],
   "source": [
    "# capitalization is mostly trivial...\n",
    "print('monty python’s flying circus'.capitalize())"
   ]
  },
  {
   "cell_type": "code",
   "execution_count": null,
   "metadata": {},
   "outputs": [],
   "source": [
    "# ...but it takes a naïve approach to title-case\n",
    "print('Monty Python’s Life of Brian'.title())"
   ]
  },
  {
   "cell_type": "markdown",
   "metadata": {},
   "source": [
    "**String**s also provide the `.replace()` method, which behaves as expected:"
   ]
  },
  {
   "cell_type": "code",
   "execution_count": null,
   "metadata": {},
   "outputs": [],
   "source": [
    "brian = 'Brian is the Messiah!'\n",
    "print(brian)\n",
    "brian = brian.replace('the Messiah', 'a very naughty boy')\n",
    "print(brian)"
   ]
  },
  {
   "cell_type": "markdown",
   "metadata": {},
   "source": [
    "The `.strip()` and `.split()` methods are amongst the most commonly used, and are especially useful when dealing with data from external sources."
   ]
  },
  {
   "cell_type": "code",
   "execution_count": null,
   "metadata": {},
   "outputs": [],
   "source": [
    "# .split() breaks a string into pieces, and returns those pieces as a list\n",
    "input_string = 'The Meaning of Life'\n",
    "input_string.split()"
   ]
  },
  {
   "cell_type": "code",
   "execution_count": null,
   "metadata": {},
   "outputs": [],
   "source": [
    "# .split() takes an argument which specifies the sequence to split on\n",
    "knights_of_the_round_table = 'Sir Bedevere the Wise, Sir Lancelot the Brave, Sir Galahad the Pure, Sir Robin the Not-Quite-So-Brave-as-Sir-Lancelot, Sir Not-Appearing-in-this-Film'\n",
    "knights_of_the_round_table.split(',')"
   ]
  },
  {
   "cell_type": "code",
   "execution_count": null,
   "metadata": {},
   "outputs": [],
   "source": [
    "# a common use of this feature is to split a string into 'lines' by\n",
    "#  splitting on the 'newline' character '\\n':\n",
    "cheesemakers.split('\\n')"
   ]
  },
  {
   "cell_type": "markdown",
   "metadata": {},
   "source": [
    "In the previous examples we have some extraneous white-space in the strings in our list.  For the `knights_of_the_round_table` we could remove this by splitting on `', '` (try it!), but in “the wild”, we commonly need to clean-up the text that we read into our programs, and the `.strip()` method is a good first step:"
   ]
  },
  {
   "cell_type": "code",
   "execution_count": null,
   "metadata": {},
   "outputs": [],
   "source": [
    "# because cheesemakers.strip() returns another string, we can chain these operations:\n",
    "cheesemakers.strip().split('\\n')"
   ]
  },
  {
   "cell_type": "code",
   "execution_count": null,
   "metadata": {},
   "outputs": [],
   "source": [
    "# .strip() can be called on string literals as well as variables\n",
    "'  ...and now for something completely different!  '.strip()"
   ]
  },
  {
   "cell_type": "code",
   "execution_count": null,
   "metadata": {},
   "outputs": [],
   "source": [
    "# .strip() can also take an argument which is a sequence of\n",
    "#  characters to strip from the ends of the input\n",
    "'  ...and now for something completely different!  '.strip(' .!')"
   ]
  },
  {
   "cell_type": "markdown",
   "metadata": {},
   "source": [
    "There are `.lstrip()` and `.rstrip()` methods available, which strip white-space (or specified characters) from only the **_l_**eft or **_r_**ight of a string respectively and also a `.splitlines()` method which does the same thing as `.split('\\n')` but handles a wider variety of situations -- in your code you would do better to use this method directly."
   ]
  },
  {
   "cell_type": "markdown",
   "metadata": {},
   "source": [
    "Amongst the most commonly seen **string** methods is the `.format()` method.  The `.format()` method operates on the _template_ string, and takes arguments that it renders into the that string."
   ]
  },
  {
   "cell_type": "code",
   "execution_count": null,
   "metadata": {},
   "outputs": [],
   "source": [
    "first_name = pythons_list[1].capitalize()\n",
    "last_name = pythons_tuple[1].capitalize()\n",
    "quote = norweigian_blue\n",
    "print('{} {} said, “{}”'.format(first_name, last_name, quote))"
   ]
  },
  {
   "cell_type": "code",
   "execution_count": null,
   "metadata": {},
   "outputs": [],
   "source": [
    "# arguments to .format() don't themselves have to be strings\n",
    "eric_birthyear = 1943\n",
    "print('{} {} was born in {}.'.format(pythons_list[3].capitalize(), pythons_tuple[3].capitalize(), eric_birthyear))"
   ]
  },
  {
   "cell_type": "markdown",
   "metadata": {},
   "source": [
    "Additional information concerning how the arguments should be rendered can be passed as part of the template string.  This is especially important for numbers:"
   ]
  },
  {
   "cell_type": "code",
   "execution_count": null,
   "metadata": {},
   "outputs": [],
   "source": [
    "# e.g. decimal precision\n",
    "print('{:.3f}'.format(1/3))"
   ]
  },
  {
   "cell_type": "code",
   "execution_count": null,
   "metadata": {},
   "outputs": [],
   "source": [
    "# or leading zeros\n",
    "print('{:05}'.format(42))"
   ]
  },
  {
   "cell_type": "code",
   "execution_count": null,
   "metadata": {},
   "outputs": [],
   "source": [
    "# or both\n",
    "print('{:08.3f}'.format(1/3))"
   ]
  },
  {
   "cell_type": "markdown",
   "metadata": {},
   "source": [
    "but it's also useful for aligning strings in output too:"
   ]
  },
  {
   "cell_type": "code",
   "execution_count": null,
   "metadata": {},
   "outputs": [],
   "source": [
    "# align right, filling space to the left with spaces\n",
    "print('{: >19}'.format(pythons_tuple[0]))\n",
    "print('{: >19}'.format(pythons_tuple[1]))\n",
    "print('{: >19}'.format(pythons_tuple[2]))\n",
    "print('{: >19}'.format(pythons_tuple[3]))\n",
    "print('{: >19}'.format(pythons_tuple[4]))\n",
    "print('{: >19}'.format(pythons_tuple[5]))"
   ]
  },
  {
   "cell_type": "code",
   "execution_count": null,
   "metadata": {},
   "outputs": [],
   "source": [
    "# center, filling space on either side with hyphens\n",
    "print('{:-^19}'.format(pythons_list[0]))\n",
    "print('{:-^19}'.format(pythons_list[1]))\n",
    "print('{:-^19}'.format(pythons_list[2]))\n",
    "print('{:-^19}'.format(pythons_list[3]))\n",
    "print('{:-^19}'.format(pythons_list[4]))\n",
    "print('{:-^19}'.format(pythons_list[5]))"
   ]
  },
  {
   "cell_type": "markdown",
   "metadata": {},
   "source": [
    "There are a number of different that arguments can be passed to the `.format()` method -- above we've passed them in as simple positional arguments.  We won't go through all the options, but if you're able to use Python 3.6 or higher, the preferred way is to use **f-strings**."
   ]
  },
  {
   "cell_type": "code",
   "execution_count": null,
   "metadata": {},
   "outputs": [],
   "source": [
    "# f-strings allow us to incorporate variables that are in-scope directly into our strings:\n",
    "first_name = pythons_list[3].capitalize()\n",
    "last_name = pythons_tuple[3].capitalize()\n",
    "\n",
    "print(f'{first_name} {last_name} was born in {eric_birthyear}.')"
   ]
  },
  {
   "cell_type": "code",
   "execution_count": null,
   "metadata": {},
   "outputs": [],
   "source": [
    "# we can even use expressions directly in f-strings:\n",
    "current_year = 2019\n",
    "print(f'At some point in {current_year}, he will (have) turn(ed) {current_year - eric_birthyear} years old.')"
   ]
  },
  {
   "cell_type": "markdown",
   "metadata": {},
   "source": [
    "**String**s have many other useful methods -- use Google Colab’s _tab-autocompletion_ feature to see what’s available."
   ]
  },
  {
   "cell_type": "code",
   "execution_count": null,
   "metadata": {},
   "outputs": [],
   "source": [
    "my_string = 'abcd'"
   ]
  },
  {
   "cell_type": "code",
   "execution_count": null,
   "metadata": {},
   "outputs": [],
   "source": [
    "# try it here -- type the string variable (`my_string`) followed by a period (`.`):\n"
   ]
  },
  {
   "cell_type": "markdown",
   "metadata": {},
   "source": [
    "#### Lists\n",
    "\n",
    "**List**s are one of the most important data-structures available in Python.  Unlike the other sequence types **tuple**s and **string**s are _mutable_ -- this means they can be modified in-place, without the need to create a new object every time something changes."
   ]
  },
  {
   "cell_type": "markdown",
   "metadata": {},
   "source": [
    "We've already seen two ways of creating **list** -- the literal declaration, and `.split()`ing a string into a list:"
   ]
  },
  {
   "cell_type": "code",
   "execution_count": null,
   "metadata": {},
   "outputs": [],
   "source": [
    "# a literal list\n",
    "knights = [\n",
    "    'Sir Bedevere the Wise',\n",
    "    'Sir Lancelot the Brave',\n",
    "    'Sir Galahad the Pure',\n",
    "    'Sir Robin the Not-Quite-So-Brave-as-Sir-Lancelot',\n",
    "    'Sir Not-Appearing-in-this-Film'\n",
    "]\n",
    "print(knights)"
   ]
  },
  {
   "cell_type": "code",
   "execution_count": null,
   "metadata": {},
   "outputs": [],
   "source": [
    "# a list created by splitting a string\n",
    "knights = knights_of_the_round_table.split(', ')\n",
    "print(knights)"
   ]
  },
  {
   "cell_type": "markdown",
   "metadata": {},
   "source": [
    "A third way is to use the `.append()` method that exists on all lists:"
   ]
  },
  {
   "cell_type": "code",
   "execution_count": null,
   "metadata": {},
   "outputs": [],
   "source": [
    "# we can create an empty list with the following syntax\n",
    "menu = []\n",
    "\n",
    "# and then add items to the list with the .append() method\n",
    "menu.append('egg')\n",
    "menu.append('bacon')\n",
    "menu.append('sausage')\n",
    "menu.append('spam')\n",
    "\n",
    "print(menu)"
   ]
  },
  {
   "cell_type": "markdown",
   "metadata": {},
   "source": [
    "Since lists are mutable, we were able to add items to the list after it had been created.  For the same reason, it is also possible to make changes to the items in the list:"
   ]
  },
  {
   "cell_type": "code",
   "execution_count": null,
   "metadata": {},
   "outputs": [],
   "source": [
    "menu[0] = 'spam'\n",
    "menu[1] = 'spam'\n",
    "menu[2] = 'spam'\n",
    "\n",
    "print(menu)"
   ]
  },
  {
   "cell_type": "code",
   "execution_count": null,
   "metadata": {},
   "outputs": [],
   "source": [
    "# we can also delete items as desired\n",
    "del menu[3]\n",
    "del menu[2]\n",
    "\n",
    "print(menu)"
   ]
  },
  {
   "cell_type": "code",
   "execution_count": null,
   "metadata": {},
   "outputs": [],
   "source": [
    "# note that this doesn't work with tuples...\n",
    "menu_tuple = ('egg', 'bacon', 'sausage', 'spam')\n",
    "print(menu_tuple[0])\n",
    "menu_tuple[0] = 'spam'"
   ]
  },
  {
   "cell_type": "code",
   "execution_count": null,
   "metadata": {},
   "outputs": [],
   "source": [
    "# ... or strings\n",
    "spam = 'spam'\n",
    "print(spam[0])\n",
    "spam[0] = 'a'"
   ]
  },
  {
   "cell_type": "markdown",
   "metadata": {},
   "source": [
    "All sequence types, **list**s, **tuple**s, and **string**s, however, may be joined together to make strings (as long as all the items in the sequence are strings).  For this purpose, Python exposes the `.join()` method on string objects -- call it on the string (literal or variable) that you want to use as the separator:"
   ]
  },
  {
   "cell_type": "code",
   "execution_count": null,
   "metadata": {},
   "outputs": [],
   "source": [
    "print(', '.join(knights))"
   ]
  },
  {
   "cell_type": "code",
   "execution_count": null,
   "metadata": {},
   "outputs": [],
   "source": [
    "print(' and '.join(menu))"
   ]
  },
  {
   "cell_type": "code",
   "execution_count": null,
   "metadata": {},
   "outputs": [],
   "source": [
    "print('\\n'.join(pythons_tuple))"
   ]
  },
  {
   "cell_type": "markdown",
   "metadata": {},
   "source": [
    "#### Activity?\n",
    "\n",
    "\n",
    "\n",
    "Egg and Spam\n",
    "Egg, bacon and Spam\n",
    "Egg, bacon, sausage and Spam\n",
    "Spam, bacon, sausage and Spam\n",
    "Spam, egg, Spam, Spam, bacon and Spam\n",
    "Spam, Spam, Spam, egg and Spam\n",
    "Spam, Spam, Spam, Spam, Spam, Spam, baked beans, Spam, Spam, Spam and Spam"
   ]
  },
  {
   "cell_type": "code",
   "execution_count": null,
   "metadata": {},
   "outputs": [],
   "source": [
    "menu = [\n",
    "    'egg',\n",
    "    'bacon',\n",
    "    'sausage',\n",
    "    'spam'    \n",
    "]\n",
    "print(f'{\", \".join(menu[:-1])} and {menu[-1]}.'.capitalize())\n"
   ]
  },
  {
   "cell_type": "markdown",
   "metadata": {},
   "source": [
    "### Dictionaries and Sets"
   ]
  },
  {
   "cell_type": "code",
   "execution_count": null,
   "metadata": {},
   "outputs": [],
   "source": []
  },
  {
   "cell_type": "code",
   "execution_count": null,
   "metadata": {},
   "outputs": [],
   "source": []
  },
  {
   "cell_type": "code",
   "execution_count": null,
   "metadata": {},
   "outputs": [],
   "source": []
  },
  {
   "cell_type": "code",
   "execution_count": null,
   "metadata": {},
   "outputs": [],
   "source": []
  },
  {
   "cell_type": "code",
   "execution_count": null,
   "metadata": {},
   "outputs": [],
   "source": []
  },
  {
   "cell_type": "markdown",
   "metadata": {},
   "source": [
    "Exercise:\n",
    "Given the `cheesemakers` string above, split it, and print it in the form:\n",
    "```\n",
    "SPEAKER -- line\n",
    "SPEAKER -- line\n",
    "```"
   ]
  },
  {
   "cell_type": "markdown",
   "metadata": {},
   "source": [
    "## 2. Operators and Expressions\n",
    "\n",
    "Most of the statements in a python program will contain one or more _expressions_.  Literal and variable values on their own are simple expressions, but complex expressions can be created by combining one or more _operators_ and one or more _operands_ which are evaluated by the interpreter to return a value.\n",
    "\n",
    "There are three main kinds of operators in Python -- _arithmetic operators_, _logical operators_, and _bitwise operators_.  We will briefly look at the first two kinds now, although we will get more familiar with them as they will be used throughout this notebook.\n",
    "\n",
    " \n",
    "  - Evaluation order"
   ]
  },
  {
   "cell_type": "code",
   "execution_count": null,
   "metadata": {},
   "outputs": [],
   "source": [
    "# a literal value is an expression\n",
    "42"
   ]
  },
  {
   "cell_type": "code",
   "execution_count": null,
   "metadata": {},
   "outputs": [],
   "source": [
    "\"Monty Python and the Holy Grail\""
   ]
  },
  {
   "cell_type": "code",
   "execution_count": null,
   "metadata": {},
   "outputs": [],
   "source": [
    "# the assignment operator is used to assign values to variables\n",
    "# notice that it returns None\n",
    "the_meaning_of_life = 42"
   ]
  },
  {
   "cell_type": "markdown",
   "metadata": {},
   "source": [
    "Most of the binary arithmetic operators make sense only in the context of numbers.  Here are a few examples:"
   ]
  },
  {
   "cell_type": "code",
   "execution_count": null,
   "metadata": {},
   "outputs": [],
   "source": [
    "# subtraction\n",
    "10 - 8"
   ]
  },
  {
   "cell_type": "code",
   "execution_count": null,
   "metadata": {},
   "outputs": [],
   "source": [
    "# multiplication\n",
    "10 * 8"
   ]
  },
  {
   "cell_type": "code",
   "execution_count": null,
   "metadata": {},
   "outputs": [],
   "source": [
    "# exponentiation\n",
    "8 ** 2"
   ]
  },
  {
   "cell_type": "code",
   "execution_count": null,
   "metadata": {},
   "outputs": [],
   "source": [
    "# floating-point or (\"true\") division\n",
    "#  -- note this operator always evaluates to a floating-point value\n",
    "8 / 2"
   ]
  },
  {
   "cell_type": "code",
   "execution_count": null,
   "metadata": {},
   "outputs": [],
   "source": [
    "# notice also the floating-point precision\n",
    "10 / 3"
   ]
  },
  {
   "cell_type": "code",
   "execution_count": null,
   "metadata": {},
   "outputs": [],
   "source": [
    "# floor division will rounding the result down to the nearest integer\n",
    "#  (\"flooring\" the value)\n",
    "10 // 3"
   ]
  },
  {
   "cell_type": "code",
   "execution_count": null,
   "metadata": {},
   "outputs": [],
   "source": [
    "# and returns an integer when the input expressions are both integers\n",
    "8 // 2"
   ]
  },
  {
   "cell_type": "code",
   "execution_count": null,
   "metadata": {},
   "outputs": [],
   "source": [
    "# for this reason it is sometime called \"integer division\", but this is not\n",
    "#  very accurate, as Python will return a floating-point value\n",
    "#  if one or both of the input expressions are floating-point values:\n",
    "8.0 // 2"
   ]
  },
  {
   "cell_type": "code",
   "execution_count": null,
   "metadata": {},
   "outputs": [],
   "source": [
    "10.0 // 3"
   ]
  },
  {
   "cell_type": "code",
   "execution_count": null,
   "metadata": {},
   "outputs": [],
   "source": [
    "# and finally modulo\n",
    "10 % 3"
   ]
  },
  {
   "cell_type": "markdown",
   "metadata": {},
   "source": [
    "The addition operator `+` is slightly more interesting, as it can take expressions other than numbers as its operands:"
   ]
  },
  {
   "cell_type": "code",
   "execution_count": null,
   "metadata": {},
   "outputs": [],
   "source": [
    "# numerical addition is as expected\n",
    "10 + 5"
   ]
  },
  {
   "cell_type": "code",
   "execution_count": null,
   "metadata": {},
   "outputs": [],
   "source": [
    "-5 + -4"
   ]
  },
  {
   "cell_type": "code",
   "execution_count": null,
   "metadata": {},
   "outputs": [],
   "source": [
    "# \"adding\" strings results in concatenation\n",
    "'And now for something' + ' ' + 'completely different.'"
   ]
  },
  {
   "cell_type": "code",
   "execution_count": null,
   "metadata": {},
   "outputs": [],
   "source": [
    "# note that adding strings and numbers is not allowed\n",
    "'The Meaning of Life' + ' is ' + 42"
   ]
  },
  {
   "cell_type": "code",
   "execution_count": null,
   "metadata": {},
   "outputs": [],
   "source": [
    "# \"adding\" lists results in a new list which is the combination of the operand expressions\n",
    "['Leibniz', 'Kant', 'Hegel', 'Schopenhauer', 'Schelling'] + ['Wittgenstein', 'Nietszche', 'Beckenbauer']"
   ]
  },
  {
   "cell_type": "markdown",
   "metadata": {},
   "source": [
    "The logical operator return **boolean** values.  The are perhaps most commonly used in controlling conditional execution, but have many other uses too.\n",
    "\n",
    "First, arithmetic comparison:"
   ]
  },
  {
   "cell_type": "code",
   "execution_count": null,
   "metadata": {},
   "outputs": [],
   "source": [
    "# greater than\n",
    "10 > 9"
   ]
  },
  {
   "cell_type": "code",
   "execution_count": null,
   "metadata": {},
   "outputs": [],
   "source": [
    "# lesser than\n",
    "10 < 9"
   ]
  },
  {
   "cell_type": "code",
   "execution_count": null,
   "metadata": {},
   "outputs": [],
   "source": [
    "# greater than or equal to\n",
    "10 >= 10"
   ]
  },
  {
   "cell_type": "code",
   "execution_count": null,
   "metadata": {},
   "outputs": [],
   "source": [
    "# lesser than or equal to\n",
    "10 <= 10"
   ]
  },
  {
   "cell_type": "markdown",
   "metadata": {},
   "source": [
    "Boolean comparison operator on operands which are (or which evaluate to) truthy or falsey values:"
   ]
  },
  {
   "cell_type": "code",
   "execution_count": null,
   "metadata": {},
   "outputs": [],
   "source": [
    "# simple boolean NOT\n",
    "not True"
   ]
  },
  {
   "cell_type": "code",
   "execution_count": null,
   "metadata": {},
   "outputs": [],
   "source": [
    "# numerical values are truthy...\n",
    "not 10"
   ]
  },
  {
   "cell_type": "code",
   "execution_count": null,
   "metadata": {},
   "outputs": [],
   "source": [
    "# ...except for 0\n",
    "not 0"
   ]
  },
  {
   "cell_type": "code",
   "execution_count": null,
   "metadata": {},
   "outputs": [],
   "source": [
    "# any empty sequence is falsey, for example an empty list...\n",
    "not []"
   ]
  },
  {
   "cell_type": "code",
   "execution_count": null,
   "metadata": {},
   "outputs": [],
   "source": [
    "# ...or an empty dictionary...\n",
    "not {}"
   ]
  },
  {
   "cell_type": "code",
   "execution_count": null,
   "metadata": {},
   "outputs": [],
   "source": [
    "# ...or an empty string\n",
    "not ''"
   ]
  },
  {
   "cell_type": "code",
   "execution_count": null,
   "metadata": {},
   "outputs": [],
   "source": [
    "# and non-empty sequences are truthy, e.g.\n",
    "not norweigian_blue"
   ]
  },
  {
   "cell_type": "code",
   "execution_count": null,
   "metadata": {},
   "outputs": [],
   "source": [
    "# boolean AND\n",
    "True and True"
   ]
  },
  {
   "cell_type": "code",
   "execution_count": null,
   "metadata": {},
   "outputs": [],
   "source": [
    "True and False"
   ]
  },
  {
   "cell_type": "code",
   "execution_count": null,
   "metadata": {},
   "outputs": [],
   "source": [
    "# boolean OR\n",
    "True or False"
   ]
  },
  {
   "cell_type": "code",
   "execution_count": null,
   "metadata": {},
   "outputs": [],
   "source": [
    "False or False"
   ]
  },
  {
   "cell_type": "code",
   "execution_count": null,
   "metadata": {},
   "outputs": [],
   "source": [
    "# and finally equality:\n",
    "42 == 42"
   ]
  },
  {
   "cell_type": "code",
   "execution_count": null,
   "metadata": {},
   "outputs": [],
   "source": [
    "the_meaning_of_life = 42\n",
    "\n",
    "print(the_meaning_of_life == 42)\n",
    "print(42 == the_meaning_of_life)\n",
    "print(the_meaning_of_life == the_meaning_of_life)"
   ]
  },
  {
   "cell_type": "code",
   "execution_count": null,
   "metadata": {},
   "outputs": [],
   "source": [
    "# and inequality\n",
    "the_meaning_of_life != 43"
   ]
  },
  {
   "cell_type": "markdown",
   "metadata": {},
   "source": [
    "## Objects and Functions\n",
    "\n",
    "* Everything's an object\n",
    "  - Objects have attributes and methods"
   ]
  },
  {
   "cell_type": "code",
   "execution_count": null,
   "metadata": {},
   "outputs": [],
   "source": []
  },
  {
   "cell_type": "code",
   "execution_count": null,
   "metadata": {},
   "outputs": [],
   "source": []
  },
  {
   "cell_type": "code",
   "execution_count": null,
   "metadata": {},
   "outputs": [],
   "source": []
  },
  {
   "cell_type": "markdown",
   "metadata": {},
   "source": [
    "## 3. Conditional Execution\n",
    "\n",
    "* `if` statements\n",
    "  + `if`/`else`\n",
    "  + `elif`\n",
    "* Conditional expressions"
   ]
  },
  {
   "cell_type": "markdown",
   "metadata": {},
   "source": []
  },
  {
   "cell_type": "markdown",
   "metadata": {},
   "source": [
    "## 4. Iteration and Loops\n",
    "\n",
    "* Definite loops (`for` loops)\n",
    "  - the `range` built-in\n",
    "* Indefinite loops (`while` loops)\n",
    "* `continue`, `break`, and `else` in loops"
   ]
  },
  {
   "cell_type": "code",
   "execution_count": null,
   "metadata": {},
   "outputs": [],
   "source": [
    "pythons = [\n",
    "    {'first_name': 'Eric', 'last_name': 'Idle'},\n",
    "]\n",
    "\n",
    "for python in pythons:\n",
    "    print('{}, {}'.format(python['last_name'], python['first_name']))"
   ]
  },
  {
   "cell_type": "code",
   "execution_count": null,
   "metadata": {},
   "outputs": [],
   "source": []
  },
  {
   "cell_type": "markdown",
   "metadata": {},
   "source": [
    "\n"
   ]
  },
  {
   "cell_type": "code",
   "execution_count": null,
   "metadata": {},
   "outputs": [],
   "source": []
  },
  {
   "cell_type": "markdown",
   "metadata": {},
   "source": [
    "## Data Structures\n",
    "\n",
    "* Objects\n",
    "  - References\n",
    "* Sequences\n",
    "  - Lists and Tuples\n",
    "  - Dictionaries\n",
    "  - Indexing and Slicing\n",
    "* Sets\n",
    "* Comprehensions"
   ]
  },
  {
   "cell_type": "code",
   "execution_count": null,
   "metadata": {},
   "outputs": [],
   "source": []
  },
  {
   "cell_type": "raw",
   "metadata": {},
   "source": []
  },
  {
   "cell_type": "markdown",
   "metadata": {},
   "source": [
    "## Modules\n",
    "  - The Standard Library\n",
    "  - pip\n",
    "  - `import` statements"
   ]
  },
  {
   "cell_type": "code",
   "execution_count": null,
   "metadata": {},
   "outputs": [],
   "source": []
  },
  {
   "cell_type": "code",
   "execution_count": null,
   "metadata": {},
   "outputs": [],
   "source": []
  },
  {
   "cell_type": "code",
   "execution_count": null,
   "metadata": {},
   "outputs": [],
   "source": []
  },
  {
   "cell_type": "markdown",
   "metadata": {},
   "source": [
    "## Advanced"
   ]
  },
  {
   "cell_type": "markdown",
   "metadata": {},
   "source": [
    "### Comprehensions and Lambdas"
   ]
  }
 ],
 "metadata": {
  "kernelspec": {
   "display_name": "Python 3",
   "language": "python",
   "name": "python3"
  },
  "language_info": {
   "codemirror_mode": {
    "name": "ipython",
    "version": 3
   },
   "file_extension": ".py",
   "mimetype": "text/x-python",
   "name": "python",
   "nbconvert_exporter": "python",
   "pygments_lexer": "ipython3",
   "version": "3.6.9"
  },
  "toc": {
   "base_numbering": 1,
   "nav_menu": {},
   "number_sections": false,
   "sideBar": true,
   "skip_h1_title": false,
   "title_cell": "Table of Contents",
   "title_sidebar": "Contents",
   "toc_cell": false,
   "toc_position": {},
   "toc_section_display": true,
   "toc_window_display": true
  }
 },
 "nbformat": 4,
 "nbformat_minor": 2
}
