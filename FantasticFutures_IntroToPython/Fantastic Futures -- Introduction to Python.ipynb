{
 "cells": [
  {
   "cell_type": "markdown",
   "metadata": {},
   "source": [
    "![Fantastic Futures @ Stanford](data:image/gif;base64,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)\n",
    "\n",
    "# Introduction to Python\n",
    "\n",
    "### Instructor\n",
    "<img src=\"data:image/png;base64,iVBORw0KGgoAAAANSUhEUgAAACgAAAAUCAMAAADImI+JAAABhlBMVEVLS0xMTE1NTU5OTk9PT1BQUFFRUVJSUlJUVFVYWFhiYmNlZWZnZ2hpaWpqamtra2tubm5ycnN1dXV2dnd5eXl5eXp9fX2BSUuCSUyDTlKIiIiJVVWJiYqKioqMjIyMjI2NjY6Pj4+RkZGZmZmkpKSrWIGuWoevW4mvtdWvudmvv9+xXIqxsbGziqOzs7O0tLS1tbW5ubm7u7u7v9q8vLy9YpG9vb2+vr6/v7/AwMDAwM3BwcHCND/CwsLENUTENUbGQVHGQVLIU1fIyMjIyMnI0ujJycnKnJ/KysrKysvLy8zNVGDNzc3Oy9LRa3TR0dHR0dLTfHvW1tbY2NjakYfb29vc3Nzd3d3f39/g4ODhkY3izLbi4uLj4+PkvKbk4ODk5OTl5eXmr5jn5+jo6Ojr6+vs7Ozt7e3u7u7u7u/v7+/w8PDx6N/y8vLz8/P17uj19fX2nJj29vb29vf38PP39/f4+Pj5y8j69/T7+/v8+vj8/Pz9/f3++fn+/fz+/v7//Pz///9v8sHJAAABKklEQVR42ozOA3sDQRAG4GQPdWrbtntlVMepjdg1t98vj3N3D7vWuzujAWNRwffoLxsMnX8ywqu3PxZoOryL/7DAkRVGODzu+g/6rLunFEP99rNr4MlgMOxdUAAeh8P5oIJ0gi8uJZ3fQ/361nrAw1W3NJC2CCBxtTrS+yVDiZv7wK01/eNqYxaagfuKDgpJk8AO5y5AWt6TWw0NrDcVIIzcbRrG8MA5CtBPFvNwcEOBN9wBJK3T3V31UoABMpdbzY5uNsvwhLNC4mrEujAKkOraaXb1PL+lwEkhmMnRTJwyxBo3Fnm1TStwIfC4LI4hDWO0qzIhQzolajVFMwD2c5AjpGzpOwvhKemTIRB2H2VTsWwfA18ejyeQZkD4Mj15U4uthikkCGilEAAhV1IMVJTNeAAAAABJRU5ErkJggg==\" alt=\"Center for Interdisciplinary Digital Research @ Stanford\" align=\"left\" style=\"margin:0\"/>\n",
    "Simon Wiles, <em>simon.wiles@stanford.edu</em>\n"
   ]
  },
  {
   "cell_type": "markdown",
   "metadata": {},
   "source": [
    "## 1. About Python"
   ]
  },
  {
   "cell_type": "markdown",
   "metadata": {},
   "source": [
    "### Why Python?\n",
    "\n",
    "[![XKCD 353: Python](https://imgs.xkcd.com/comics/python.png)](https://xkcd.com/353/)\n",
    "\n",
    "* Python is a great language for learning\n",
    "  - Python is a relatively simple and highly readable language\n",
    "  - Python is a high-level interpreted language\n",
    "  - This makes is fairly easy to learn, and fun to code in\n",
    "  - Learning Python will make learning other languages easier\n",
    "  \n",
    "  \n",
    "* Python is powerful and multi-purpose \n",
    "  - Python can be used for almost anything, from writing simple scripts to automate tasks to building full-scale applications\n",
    "  - Python is “Batteries-Included” -- the Standard Library includes a huge range of modules that can be depended upon\n",
    "  - The broader Python community is huge and vibrant -- hundreds of thousands of third-party modules and tutorials cover almost all areas of computing\n",
    "    + In particular, for our purposes, Python is at the very center of the Data Science and Machine Learning ecosystems\n",
    "\n",
    "\n",
    "* Python is cross-platform and free and open-source\n",
    "  - Python is freely available and is maintained and governed by its community of users\n",
    "  - Because of this, and because of Python’s great versatility and popularity, it is available on more-or-less any computer system you are likely to come into contact with\n",
    "\n",
    "\n",
    "In short, an investment in learning Python is as safe a bet as you are likely to find, no matter where you are now or where you may want to go from here."
   ]
  },
  {
   "cell_type": "markdown",
   "metadata": {},
   "source": [
    "And in case you were wondering, Python is indeed named for Monty Python!\n",
    "\n",
    "![Python is named for Monty Python, of course...](data:img/png;base64,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)\n",
    "\n",
    "(from §1 of the [official Python tutorial](https://docs.python.org/3/tutorial/appetite.html).)"
   ]
  },
  {
   "cell_type": "markdown",
   "metadata": {},
   "source": [
    "### A Note on Python Versions\n",
    "In this workshop we will be working with Python 3, which is now more-or-less ubiquitous.  In particular, everything you will learn today will be compatible with Python versions `3.6` and up (the most recently released version is `3.8`).  Python 3 has been the standard for many years now, but be aware that you can still find older tutorials, articles, and especially printed books that are based on Python 2.  The differences are not hugely significant, but there are minor syntax changes that can cause problems."
   ]
  },
  {
   "cell_type": "markdown",
   "metadata": {},
   "source": [
    "### Programs and Shells\n",
    "Python is an interpreted language -- this means that the code we write is executed by the python interpreter.\n",
    "\n",
    "There are many ways to write and run python code:\n",
    "  * as `.py` programs that are executed from a command-line or terminal environment;\n",
    "  * in an interactive shell, like a Python \"command prompt\";\n",
    "  * using interactive notebooks, like this one."
   ]
  },
  {
   "cell_type": "markdown",
   "metadata": {},
   "source": [
    "## 2. Some Basic Language Features"
   ]
  },
  {
   "cell_type": "markdown",
   "metadata": {},
   "source": [
    "### The `print()` function\n",
    "The most basic way for a Python program to generate output is via the `print()` function, which `print`s directly to the console or terminal environment in which the Python interpreted is executed.  In our Jupyter / Google Colab notebooks, this produces output beneath the code cell:"
   ]
  },
  {
   "cell_type": "code",
   "execution_count": null,
   "metadata": {},
   "outputs": [],
   "source": [
    "print(\"Hello world!\")"
   ]
  },
  {
   "cell_type": "markdown",
   "metadata": {},
   "source": [
    "Jupyter code cells (and other Python console environments) will also automatically output the _return value_ of a cell (or other code block) -- in our context here that means the last statement in a code cell:"
   ]
  },
  {
   "cell_type": "code",
   "execution_count": null,
   "metadata": {},
   "outputs": [],
   "source": [
    "\"Hello world!\""
   ]
  },
  {
   "cell_type": "markdown",
   "metadata": {},
   "source": [
    "For more information about the `print()` statement, we can access Python's built-in documentation and the Colab envionment's autocomplete and intellisense functionality."
   ]
  },
  {
   "cell_type": "code",
   "execution_count": null,
   "metadata": {},
   "outputs": [],
   "source": [
    "print?"
   ]
  },
  {
   "cell_type": "markdown",
   "metadata": {},
   "source": [
    "### Comments\n",
    "Comments are an important part of any program.  In Python, comments begin with `#`:\n",
    "\n",
    "```\n",
    "# This is a comment\n",
    "print(\"Hello world!\")\n",
    "\n",
    "```\n",
    "\n",
    "and they can also be used to annotate lines of code:\n",
    "```\n",
    "print(\"Hello world!\")  # Comments are fine here too!\n",
    "```\n",
    "\n",
    "Use comments liberally, when you are learning and even when you think you know exactly what you're doing.  Your comments should allow readers of your code to understand _why_ your code does what it does.  Remember that a primary audience for your comments will be you yourself when you revisit your code in the future!"
   ]
  },
  {
   "cell_type": "markdown",
   "metadata": {},
   "source": [
    "### Indentation and Blocks\n",
    "White-space (specifically white-space at the beginning of lines) is meaningful in Python programs, and defines groups of statements which constitute _blocks_, which will become important when we discuss control flow and functions.  For now, note that indentation must be consistent in a python file -- the convention is to use four spaces.  Mixing up indentation levels will result in errors:"
   ]
  },
  {
   "cell_type": "code",
   "execution_count": null,
   "metadata": {},
   "outputs": [],
   "source": [
    "print(\"this is fine\")\n",
    "  print(\"this is not\")"
   ]
  },
  {
   "cell_type": "markdown",
   "metadata": {},
   "source": [
    "## 3. Values, Types, and Variables\n",
    "\n",
    "For a program to be useful it needs to handle data in some way.  Each individual piece of information on which a Python program can operate is known as a **_value_**, or more generically as an **_object_**, and every object in Python has a **_type_**.  An object’s type determines what can and can’t be done with the object -- in particular, the attributes and items which are available on the object and its mutability.\n",
    "\n",
    "Python programs access these values through **_reference_**s, and these references can be **_literal_**s or **_variable_**s."
   ]
  },
  {
   "cell_type": "code",
   "execution_count": null,
   "metadata": {},
   "outputs": [],
   "source": [
    "# a literal reference to a value is exactly what it is\n",
    "5"
   ]
  },
  {
   "cell_type": "code",
   "execution_count": null,
   "metadata": {},
   "outputs": [],
   "source": [
    "# these references are sometimes called \"literal constants\"\n",
    "5 = 'a'"
   ]
  },
  {
   "cell_type": "markdown",
   "metadata": {},
   "source": [
    "In order to store, change, or otherwise manipulate values, we create variables that reference values.  To create a variable reference, we must bind a value to an **_identifier_**.  Identifiers can be whatever we choose, but they must begin with an alphabetic character or an underscore `_` (i.e. they specifically must not begin with digits).  There are ~30 identifiers that are reserved **_keywords_** -- while valid identifiers, they may not be assigned values.  Note that variables (like everything else in Python) are case-sensitive.\n",
    "\n",
    "There are certain conventions that are commonly followed amongst Python programmers with respect to naming variables, although they are not binding (the above rules notwithstanding)."
   ]
  },
  {
   "cell_type": "code",
   "execution_count": null,
   "metadata": {},
   "outputs": [],
   "source": [
    "# notice that assignment creates no output\n",
    "my_variable = 5"
   ]
  },
  {
   "cell_type": "code",
   "execution_count": null,
   "metadata": {},
   "outputs": [],
   "source": [
    "# if we ask the interpreter to evaluate the reference, we get output\n",
    "my_variable"
   ]
  },
  {
   "cell_type": "code",
   "execution_count": null,
   "metadata": {},
   "outputs": [],
   "source": [
    "# an important characteristic of a variable, of course, it that it can be changed\n",
    "my_variable = 10\n",
    "my_variable"
   ]
  },
  {
   "cell_type": "markdown",
   "metadata": {},
   "source": [
    "### Native Datatypes\n",
    "\n",
    "Python has lots of native datatypes, but the most important ones are:\n",
    "\n",
    "* **Booleans** -- `True` or `False`\n",
    "* **Numbers** -- primarily integers and floats\n",
    "* **Strings** -- sequences of characters\n",
    "* **Lists** -- ordered sequences of values\n",
    "* **Tuples** -- like **list**s but immutable\n",
    "* **Dictionaries** -- unordered collections of key-value pairs\n",
    "* **Sets** -- unordered collections of values"
   ]
  },
  {
   "cell_type": "markdown",
   "metadata": {},
   "source": [
    "### Numbers, Booleans, and `None`\n",
    "\n",
    "Python has three built-in numeric types (**_integers_**, **_floating-point numbers_**, and **_complex numbers_**).  Decimal floating-point numbers and true fractions are possible using the standard library."
   ]
  },
  {
   "cell_type": "code",
   "execution_count": null,
   "metadata": {},
   "outputs": [],
   "source": [
    "# integer literals can be expressed in decimal, binary, octal, or hexadecimal\n",
    "print(1, 23, 3493)          # Decimal integer literals\n",
    "print(0b010101, 0b110010)   # Binary integer literals\n",
    "print(0o1, 0o27, 0o6645)    # Octal integer literals\n",
    "print(0x1, 0x17, 0xDA5)     # Hexadecimal integer literals"
   ]
  },
  {
   "cell_type": "code",
   "execution_count": null,
   "metadata": {},
   "outputs": [],
   "source": [
    "# literal floating-point numbers can be expressed by the use of\n",
    "#  a decimal point (.) and/or an 'e' (with optional '+' or '-')\n",
    "#  denoting the exponent suffix\n",
    "print(119.4)\n",
    "print(12.0)\n",
    "print(1e1)\n",
    "print(1e0)\n",
    "print(2.9e16)"
   ]
  },
  {
   "cell_type": "code",
   "execution_count": null,
   "metadata": {},
   "outputs": [],
   "source": [
    "# literal complex numbers are expressed as integer or floating-point\n",
    "#  literals with the suffix 'j' which indicates √-1\n",
    "print(0j)\n",
    "print(1.0e0j)"
   ]
  },
  {
   "cell_type": "code",
   "execution_count": null,
   "metadata": {},
   "outputs": [],
   "source": [
    "# in recent versions of Python (<= 3.6), underscores ('_') can be\n",
    "#  used in numeric literals, to aid readability\n",
    "42_124_102"
   ]
  },
  {
   "cell_type": "markdown",
   "metadata": {},
   "source": [
    "Two special values `True` and `False` exist to represent the boolean values (note the initial capitalization)."
   ]
  },
  {
   "cell_type": "code",
   "execution_count": null,
   "metadata": {},
   "outputs": [],
   "source": [
    "# the boolean values True and False can be treated like literal constants\n",
    "True"
   ]
  },
  {
   "cell_type": "code",
   "execution_count": null,
   "metadata": {},
   "outputs": [],
   "source": [
    "# although they're technically keywords\n",
    "True = 5"
   ]
  },
  {
   "cell_type": "markdown",
   "metadata": {},
   "source": [
    "Finally the built-in object `None` represents a null value.  It can be used as a stand-in placeholder when required, or specifically to indicate the lack of a value.  It is also the default **_return value_** for functions that don't otherwise specify one, and for statements that do not evaluate to any value."
   ]
  },
  {
   "cell_type": "code",
   "execution_count": null,
   "metadata": {},
   "outputs": [],
   "source": [
    "# note that in a notebook environment, no output is generated if `None` is returned\n",
    "None"
   ]
  },
  {
   "cell_type": "markdown",
   "metadata": {},
   "source": [
    "### Sequence Types"
   ]
  },
  {
   "cell_type": "markdown",
   "metadata": {},
   "source": [
    "**String**s, **list**s, and **tuple**s are what in Python are called **_sequence types_** -- they are composed of (none or more) ordered values.  In the case of a string, the values are characters; in the case of lists and tuples, the values are any legal Python values:"
   ]
  },
  {
   "cell_type": "code",
   "execution_count": null,
   "metadata": {},
   "outputs": [],
   "source": [
    "# A simple string assignment\n",
    "norweigian_blue = \"This parrot is no more! It has ceased to be!\"\n",
    "print(norweigian_blue)\n",
    "print(type(norweigian_blue))"
   ]
  },
  {
   "cell_type": "code",
   "execution_count": null,
   "metadata": {},
   "outputs": [],
   "source": [
    "# Strings can be indicated by single (') or double (\") quotes\n",
    "#  - note the use of the backslash (\\) to escape the quote used as an apostrophe\n",
    "black_knight = 'It\\'s just a flesh wound.'\n",
    "print(black_knight)\n",
    "print(type(black_knight))"
   ]
  },
  {
   "cell_type": "code",
   "execution_count": null,
   "metadata": {},
   "outputs": [],
   "source": [
    "# Multi-line strings are possible with triple quotes (''' or \"\"\" can be used)\n",
    "cheesemakers = '''\n",
    "Man: I think it was, \"Blessed are the cheesemakers\"!\n",
    "Gregory's wife: What's so special about the cheesemakers?\n",
    "Gregory: Well, obviously it's not meant to be taken literally. It refers to any manufacturer of dairy products.\n",
    "'''\n",
    "print(cheesemakers)\n",
    "print(type(cheesemakers))"
   ]
  },
  {
   "cell_type": "code",
   "execution_count": null,
   "metadata": {},
   "outputs": [],
   "source": [
    "# Strings in Python 3 are fully unicode-compliant\n",
    "monty_python_zh = '蒙提·派森的飛行馬戲團'\n",
    "print(monty_python_zh)"
   ]
  },
  {
   "cell_type": "code",
   "execution_count": null,
   "metadata": {},
   "outputs": [],
   "source": [
    "# tuples are instantiated with parentheses, and members are separated with commas\n",
    "pythons_tuple = ('chapman', 'cleese', 'gilliam', 'idle', 'jones', 'palin')\n",
    "print(pythons_tuple)\n",
    "print(type(pythons_tuple))"
   ]
  },
  {
   "cell_type": "code",
   "execution_count": null,
   "metadata": {},
   "outputs": [],
   "source": [
    "# lists use square brackets instead\n",
    "pythons_list = ['graham', 'john', 'terry', 'eric', 'terry', 'michael']\n",
    "print(pythons_list)\n",
    "print(type(pythons_list))"
   ]
  },
  {
   "cell_type": "markdown",
   "metadata": {},
   "source": [
    "**Sequence** types share certain methods and properties:"
   ]
  },
  {
   "cell_type": "code",
   "execution_count": null,
   "metadata": {},
   "outputs": [],
   "source": [
    "# the built-in function `len` returns the length of a string...\n",
    "len(norweigian_blue)"
   ]
  },
  {
   "cell_type": "code",
   "execution_count": null,
   "metadata": {},
   "outputs": [],
   "source": [
    "# ...or a tuple...\n",
    "len(pythons_tuple)"
   ]
  },
  {
   "cell_type": "code",
   "execution_count": null,
   "metadata": {},
   "outputs": [],
   "source": [
    "# ... or a list\n",
    "len(pythons_list)"
   ]
  },
  {
   "cell_type": "markdown",
   "metadata": {},
   "source": [
    "and any sequence can be **_indexed_**:"
   ]
  },
  {
   "cell_type": "code",
   "execution_count": null,
   "metadata": {},
   "outputs": [],
   "source": [
    "# Python sequences are \"zero-indexed\" -- meaning that the first member\n",
    "#  of a sequence is found at index 0\n",
    "norweigian_blue[0]"
   ]
  },
  {
   "cell_type": "code",
   "execution_count": null,
   "metadata": {},
   "outputs": [],
   "source": [
    "pythons_tuple[0]"
   ]
  },
  {
   "cell_type": "markdown",
   "metadata": {},
   "source": [
    "Indexing can also be used to return a 'slice' of a sequence.  The basic pattern is `identifier[start:end:step]`."
   ]
  },
  {
   "cell_type": "code",
   "execution_count": null,
   "metadata": {},
   "outputs": [],
   "source": [
    "pythons_list[2:4]"
   ]
  },
  {
   "cell_type": "code",
   "execution_count": null,
   "metadata": {},
   "outputs": [],
   "source": [
    "# we can omit the start value, and the beginning of the sequence is assumed\n",
    "print(pythons_tuple[0:3])\n",
    "print(pythons_tuple[:3])"
   ]
  },
  {
   "cell_type": "code",
   "execution_count": null,
   "metadata": {},
   "outputs": [],
   "source": [
    "# if we omit the end value, the end of the sequence is assumed\n",
    "print(pythons_list[4:])"
   ]
  },
  {
   "cell_type": "markdown",
   "metadata": {},
   "source": [
    "Since a **string** is a sequence of characters, indexing on **string**s operates in the same way:"
   ]
  },
  {
   "cell_type": "code",
   "execution_count": null,
   "metadata": {},
   "outputs": [],
   "source": [
    "# remember: the first character is found at index 0\n",
    "norweigian_blue[0]"
   ]
  },
  {
   "cell_type": "code",
   "execution_count": null,
   "metadata": {},
   "outputs": [],
   "source": [
    "norweigian_blue[:11]"
   ]
  },
  {
   "cell_type": "code",
   "execution_count": null,
   "metadata": {},
   "outputs": [],
   "source": [
    "# non-ascii characters are just fine, still:\n",
    "monty_python_zh[:5]"
   ]
  },
  {
   "cell_type": "markdown",
   "metadata": {},
   "source": [
    "Indexing is very powerful, and quite intuitive once you get the hang of it."
   ]
  },
  {
   "cell_type": "code",
   "execution_count": null,
   "metadata": {},
   "outputs": [],
   "source": [
    "# negative indexing is also possible\n",
    "norweigian_blue[-1]"
   ]
  },
  {
   "cell_type": "code",
   "execution_count": null,
   "metadata": {},
   "outputs": [],
   "source": [
    "alphabet = 'abcdefghijklmnopqrstuvwxyz'\n",
    "print(alphabet[:-10])\n",
    "print(alphabet[-10:])"
   ]
  },
  {
   "cell_type": "code",
   "execution_count": null,
   "metadata": {},
   "outputs": [],
   "source": [
    "pythons_tuple[-4:]"
   ]
  },
  {
   "cell_type": "code",
   "execution_count": null,
   "metadata": {},
   "outputs": [],
   "source": [
    "black_knight[-12:-1]"
   ]
  },
  {
   "cell_type": "markdown",
   "metadata": {},
   "source": [
    "### Strings\n",
    "\n",
    "**String**s (whether literals or variables) are objects that have some special methods that help common tasks.\n",
    "\n",
    "Let’s look a case-manipulation, for example:"
   ]
  },
  {
   "cell_type": "code",
   "execution_count": null,
   "metadata": {},
   "outputs": [],
   "source": [
    "print('monty python’s flying circus'.upper())\n",
    "print('MONTY PYTHON’S FLYING CIRCUS'.lower())"
   ]
  },
  {
   "cell_type": "code",
   "execution_count": null,
   "metadata": {},
   "outputs": [],
   "source": [
    "# case-manipulation is unicode-aware\n",
    "#  (but don't make the mistake of thinking this solves all problems!)\n",
    "print('norsk blå papegøye'.upper())"
   ]
  },
  {
   "cell_type": "code",
   "execution_count": null,
   "metadata": {},
   "outputs": [],
   "source": [
    "# capitalization is mostly trivial...\n",
    "print('monty python’s flying circus'.capitalize())"
   ]
  },
  {
   "cell_type": "code",
   "execution_count": null,
   "metadata": {},
   "outputs": [],
   "source": [
    "# ...but it takes a naïve approach to title-case\n",
    "print('Monty Python’s Life of Brian'.title())"
   ]
  },
  {
   "cell_type": "markdown",
   "metadata": {},
   "source": [
    "**String**s also provide the `.replace()` method, which behaves as expected:"
   ]
  },
  {
   "cell_type": "code",
   "execution_count": null,
   "metadata": {},
   "outputs": [],
   "source": [
    "brian = 'Brian is the Messiah!'\n",
    "print(brian)\n",
    "brian = brian.replace('the Messiah', 'a very naughty boy')\n",
    "print(brian)"
   ]
  },
  {
   "cell_type": "markdown",
   "metadata": {},
   "source": [
    "The `.strip()` and `.split()` methods are amongst the most commonly used, and are especially useful when dealing with data from external sources."
   ]
  },
  {
   "cell_type": "code",
   "execution_count": null,
   "metadata": {},
   "outputs": [],
   "source": [
    "# .split() breaks a string into pieces, and returns those pieces as a list\n",
    "input_string = 'The Meaning of Life'\n",
    "input_string.split()"
   ]
  },
  {
   "cell_type": "code",
   "execution_count": null,
   "metadata": {},
   "outputs": [],
   "source": [
    "# .split() takes an argument which specifies the sequence to split on\n",
    "knights_of_the_round_table = 'Sir Bedevere the Wise, Sir Lancelot the Brave, Sir Galahad the Pure, Sir Robin the Not-Quite-So-Brave-as-Sir-Lancelot, Sir Not-Appearing-in-this-Film'\n",
    "knights_of_the_round_table.split(',')"
   ]
  },
  {
   "cell_type": "code",
   "execution_count": null,
   "metadata": {},
   "outputs": [],
   "source": [
    "# a common use of this feature is to split a string into 'lines' by\n",
    "#  splitting on the 'newline' character '\\n':\n",
    "cheesemakers.split('\\n')"
   ]
  },
  {
   "cell_type": "markdown",
   "metadata": {},
   "source": [
    "In the previous examples we have some extraneous white-space in the strings in our list.  For the `knights_of_the_round_table` we could remove this by splitting on `', '` (try it!), but in “the wild”, we commonly need to clean-up the text that we read into our programs, and the `.strip()` method is a good first step:"
   ]
  },
  {
   "cell_type": "code",
   "execution_count": null,
   "metadata": {},
   "outputs": [],
   "source": [
    "# because cheesemakers.strip() returns another string, we can chain these operations:\n",
    "cheesemakers.strip().split('\\n')"
   ]
  },
  {
   "cell_type": "code",
   "execution_count": null,
   "metadata": {},
   "outputs": [],
   "source": [
    "# .strip() can be called on string literals as well as variables\n",
    "'  ...and now for something completely different!  '.strip()"
   ]
  },
  {
   "cell_type": "code",
   "execution_count": null,
   "metadata": {},
   "outputs": [],
   "source": [
    "# .strip() can also take an argument which is a sequence of\n",
    "#  characters to strip from the ends of the input\n",
    "'  ...and now for something completely different!  '.strip(' .!')"
   ]
  },
  {
   "cell_type": "markdown",
   "metadata": {},
   "source": [
    "There are `.lstrip()` and `.rstrip()` methods available, which strip white-space (or specified characters) from only the **_l_**eft or **_r_**ight of a string respectively and also a `.splitlines()` method which does the same thing as `.split('\\n')` but handles a wider variety of situations -- in your code you would do better to use this method directly."
   ]
  },
  {
   "cell_type": "markdown",
   "metadata": {},
   "source": [
    "Amongst the most commonly seen **string** methods is the `.format()` method.  The `.format()` method operates on the _template_ string, and takes arguments that it renders into the that string."
   ]
  },
  {
   "cell_type": "code",
   "execution_count": null,
   "metadata": {},
   "outputs": [],
   "source": [
    "first_name = pythons_list[1].capitalize()\n",
    "last_name = pythons_tuple[1].capitalize()\n",
    "quote = norweigian_blue\n",
    "print('{} {} said, “{}”'.format(first_name, last_name, quote))"
   ]
  },
  {
   "cell_type": "code",
   "execution_count": null,
   "metadata": {},
   "outputs": [],
   "source": [
    "# arguments to .format() don't themselves have to be strings\n",
    "eric_birthyear = 1943\n",
    "print('{} {} was born in {}.'.format(pythons_list[3].capitalize(), pythons_tuple[3].capitalize(), eric_birthyear))"
   ]
  },
  {
   "cell_type": "markdown",
   "metadata": {},
   "source": [
    "Additional information concerning how the arguments should be rendered can be passed as part of the template string.  This is especially important for numbers:"
   ]
  },
  {
   "cell_type": "code",
   "execution_count": null,
   "metadata": {},
   "outputs": [],
   "source": [
    "# e.g. decimal precision\n",
    "print('{:.3f}'.format(1/3))"
   ]
  },
  {
   "cell_type": "code",
   "execution_count": null,
   "metadata": {},
   "outputs": [],
   "source": [
    "# or leading zeros\n",
    "print('{:05}'.format(42))"
   ]
  },
  {
   "cell_type": "code",
   "execution_count": null,
   "metadata": {},
   "outputs": [],
   "source": [
    "# or both\n",
    "print('{:08.3f}'.format(1/3))"
   ]
  },
  {
   "cell_type": "markdown",
   "metadata": {},
   "source": [
    "but it's also useful for aligning strings in output too:"
   ]
  },
  {
   "cell_type": "code",
   "execution_count": null,
   "metadata": {},
   "outputs": [],
   "source": [
    "# align right, filling space to the left with spaces\n",
    "print('{: >19}'.format(pythons_tuple[0]))\n",
    "print('{: >19}'.format(pythons_tuple[1]))\n",
    "print('{: >19}'.format(pythons_tuple[2]))\n",
    "print('{: >19}'.format(pythons_tuple[3]))\n",
    "print('{: >19}'.format(pythons_tuple[4]))\n",
    "print('{: >19}'.format(pythons_tuple[5]))"
   ]
  },
  {
   "cell_type": "code",
   "execution_count": null,
   "metadata": {},
   "outputs": [],
   "source": [
    "# center, filling space on either side with hyphens\n",
    "print('{:-^19}'.format(pythons_list[0]))\n",
    "print('{:-^19}'.format(pythons_list[1]))\n",
    "print('{:-^19}'.format(pythons_list[2]))\n",
    "print('{:-^19}'.format(pythons_list[3]))\n",
    "print('{:-^19}'.format(pythons_list[4]))\n",
    "print('{:-^19}'.format(pythons_list[5]))"
   ]
  },
  {
   "cell_type": "markdown",
   "metadata": {},
   "source": [
    "There are a number of different that arguments can be passed to the `.format()` method -- above we've passed them in as simple positional arguments.  We won't go through all the options, but if you're able to use Python 3.6 or higher, the preferred way is to use **f-strings**."
   ]
  },
  {
   "cell_type": "code",
   "execution_count": null,
   "metadata": {},
   "outputs": [],
   "source": [
    "# f-strings allow us to incorporate variables that are in-scope directly into our strings:\n",
    "first_name = pythons_list[3].capitalize()\n",
    "last_name = pythons_tuple[3].capitalize()\n",
    "\n",
    "print(f'{first_name} {last_name} was born in {eric_birthyear}.')"
   ]
  },
  {
   "cell_type": "code",
   "execution_count": null,
   "metadata": {},
   "outputs": [],
   "source": [
    "# we can even use expressions directly in f-strings:\n",
    "current_year = 2019\n",
    "print(f'At some point in {current_year}, he will (have) turn(ed) {current_year - eric_birthyear} years old.')"
   ]
  },
  {
   "cell_type": "markdown",
   "metadata": {},
   "source": [
    "**String**s have many other useful methods -- use Google Colab’s _tab-autocompletion_ feature to see what’s available."
   ]
  },
  {
   "cell_type": "code",
   "execution_count": null,
   "metadata": {},
   "outputs": [],
   "source": [
    "my_string = 'abcd'"
   ]
  },
  {
   "cell_type": "code",
   "execution_count": null,
   "metadata": {},
   "outputs": [],
   "source": [
    "# try it here -- type the string variable (`my_string`) followed by a period (`.`):\n"
   ]
  },
  {
   "cell_type": "markdown",
   "metadata": {},
   "source": [
    "### Lists\n",
    "\n",
    "**List**s are one of the most important data-structures available in Python.  Unlike the other sequence types **tuple**s and **string**s are _mutable_ -- this means they can be modified in-place, without the need to create a new object every time something changes."
   ]
  },
  {
   "cell_type": "markdown",
   "metadata": {},
   "source": [
    "We've already seen two ways of creating **list** -- the literal declaration, and `.split()`ing a string into a list:"
   ]
  },
  {
   "cell_type": "code",
   "execution_count": null,
   "metadata": {},
   "outputs": [],
   "source": [
    "# a literal list\n",
    "knights = [\n",
    "    'Sir Bedevere the Wise',\n",
    "    'Sir Lancelot the Brave',\n",
    "    'Sir Galahad the Pure',\n",
    "    'Sir Robin the Not-Quite-So-Brave-as-Sir-Lancelot',\n",
    "    'Sir Not-Appearing-in-this-Film'\n",
    "]\n",
    "print(knights)"
   ]
  },
  {
   "cell_type": "code",
   "execution_count": null,
   "metadata": {},
   "outputs": [],
   "source": [
    "# a list created by splitting a string\n",
    "knights = knights_of_the_round_table.split(', ')\n",
    "print(knights)"
   ]
  },
  {
   "cell_type": "markdown",
   "metadata": {},
   "source": [
    "A third way is to use the `.append()` method that exists on all lists:"
   ]
  },
  {
   "cell_type": "code",
   "execution_count": null,
   "metadata": {},
   "outputs": [],
   "source": [
    "# we can create an empty list with the following syntax\n",
    "menu = []\n",
    "\n",
    "# and then add items to the list with the .append() method\n",
    "menu.append('egg')\n",
    "menu.append('bacon')\n",
    "menu.append('sausage')\n",
    "menu.append('spam')\n",
    "\n",
    "print(menu)"
   ]
  },
  {
   "cell_type": "markdown",
   "metadata": {},
   "source": [
    "Since lists are mutable, we were able to add items to the list after it had been created.  For the same reason, it is also possible to make changes to the items in the list:"
   ]
  },
  {
   "cell_type": "code",
   "execution_count": null,
   "metadata": {},
   "outputs": [],
   "source": [
    "menu[0] = 'spam'\n",
    "menu[1] = 'spam'\n",
    "menu[2] = 'spam'\n",
    "\n",
    "print(menu)"
   ]
  },
  {
   "cell_type": "code",
   "execution_count": null,
   "metadata": {},
   "outputs": [],
   "source": [
    "# we can also delete items as desired\n",
    "del menu[3]\n",
    "del menu[2]\n",
    "\n",
    "print(menu)"
   ]
  },
  {
   "cell_type": "code",
   "execution_count": null,
   "metadata": {},
   "outputs": [],
   "source": [
    "# note that this doesn't work with tuples...\n",
    "menu_tuple = ('egg', 'bacon', 'sausage', 'spam')\n",
    "print(menu_tuple[0])\n",
    "menu_tuple[0] = 'spam'"
   ]
  },
  {
   "cell_type": "code",
   "execution_count": null,
   "metadata": {},
   "outputs": [],
   "source": [
    "# ... or strings\n",
    "spam = 'spam'\n",
    "print(spam[0])\n",
    "spam[0] = 'a'"
   ]
  },
  {
   "cell_type": "markdown",
   "metadata": {},
   "source": [
    "All sequence types, **list**s, **tuple**s, and **string**s, however, may be joined together to make strings (as long as all the items in the sequence are strings).  For this purpose, Python exposes the `.join()` method on string objects -- call it on the string (literal or variable) that you want to use as the separator:"
   ]
  },
  {
   "cell_type": "code",
   "execution_count": null,
   "metadata": {},
   "outputs": [],
   "source": [
    "# joining our list literal from above\n",
    "print(', '.join(knights))"
   ]
  },
  {
   "cell_type": "code",
   "execution_count": null,
   "metadata": {},
   "outputs": [],
   "source": [
    "# join the menu with the word \"and\"\n",
    "print(' and '.join(menu))"
   ]
  },
  {
   "cell_type": "code",
   "execution_count": null,
   "metadata": {},
   "outputs": [],
   "source": [
    "# joining on the newline character is often useful, too\n",
    "print('\\n'.join(pythons_tuple))"
   ]
  },
  {
   "cell_type": "code",
   "execution_count": null,
   "metadata": {},
   "outputs": [],
   "source": [
    "# and since strings are sequences, their constituent items\n",
    "#  can be joined in the same way\n",
    "'-'.join('2468')"
   ]
  },
  {
   "cell_type": "markdown",
   "metadata": {},
   "source": [
    "### -- Exercise 1\n",
    "\n",
    "Given a menu of “ingredients” in the form of a list, print them in the form of a string, with commas separating the items and the word \"and\" before the last item.  Try to do it in a general way, so that it works for menus of any length greater than 2.  It is possible (but not necessary) to do it in a single expression.\n",
    "```\n",
    "menu = ['egg', 'bacon', 'sausage', 'spam'] ==> \"Egg, bacon, sausage and spam.\"\n",
    "```\n",
    "\n",
    "Hint: you'll need to use string formatting and the `.join()` method, as well as indexing and slicing."
   ]
  },
  {
   "cell_type": "code",
   "execution_count": null,
   "metadata": {},
   "outputs": [],
   "source": [
    "menu = ['egg', 'bacon', 'sausage', 'spam']"
   ]
  },
  {
   "cell_type": "code",
   "execution_count": null,
   "metadata": {},
   "outputs": [],
   "source": [
    "# write your expression(s) here\n",
    "print(f'{\", \".join(menu[:-1])} and {menu[-1]}.'.capitalize())"
   ]
  },
  {
   "cell_type": "markdown",
   "metadata": {},
   "source": [
    "### Dictionaries\n",
    "\n",
    "The dictionary type in Python is what is known in Computer Science as a **_mapping_** -- a collection of objects (values) indexed by values that serve as **_key_**s.  `key`/`value` pairs in a dictionary are known as **_items_**.  Values in Python dictionaries may be of any type; keys must be what are known as _hashable_ types.  For present purposes this boils down to types which are _immutable_ -- so strings, numbers, tuples etc. may be used as keys in dictionaries, but lists, sets, and dictionaries themselves may not.  Unlike sequence types, dictionaries in Python are _unordered_."
   ]
  },
  {
   "cell_type": "code",
   "execution_count": null,
   "metadata": {},
   "outputs": [],
   "source": [
    "# dictionaries may be instantiated as dict literals, using brace notation,\n",
    "#  in which case key/value pairs are separated with colons (':')\n",
    "chapman = {\n",
    "    'first_name': 'Graham',\n",
    "    'last_name': 'Chapman',\n",
    "    'year_of_birth': 1941,\n",
    "    'year_of_death': 1989\n",
    "}\n",
    "chapman"
   ]
  },
  {
   "cell_type": "code",
   "execution_count": null,
   "metadata": {},
   "outputs": [],
   "source": [
    "# it is a common task to create an empty dictionary;\n",
    "#  the preffered idiom is:\n",
    "empty_dict = {}\n",
    "empty_dict"
   ]
  },
  {
   "cell_type": "code",
   "execution_count": null,
   "metadata": {},
   "outputs": [],
   "source": [
    "# dictionaries may also be created by calling the built-in `dict`\n",
    "dict(first_name='Graham', last_name='Chapman')"
   ]
  },
  {
   "cell_type": "code",
   "execution_count": null,
   "metadata": {},
   "outputs": [],
   "source": [
    "# dictionary keys must be unique in the dictionary, so note that while\n",
    "#  this is legal...\n",
    "pythons_by_first_name = {\n",
    "    'Graham': 'Chapman',\n",
    "    'John': 'Cleese',\n",
    "    'Terry': 'Gilliam',\n",
    "    'Eric': 'Idle',\n",
    "    'Terry': 'Jones',\n",
    "    'Michael': 'Palin'\n",
    "}\n",
    "# the second appearance of the duplicate key has over-written the first\n",
    "pythons_by_first_name"
   ]
  },
  {
   "cell_type": "code",
   "execution_count": null,
   "metadata": {},
   "outputs": [],
   "source": [
    "cheeseshop = {\n",
    "    'Red Leicester': \"I'm afraid we're fresh out of Red Leicester sir.\",\n",
    "    'Tilsit': \"Never at the end of the week, sir. Always get it fresh first thing on Monday.\",\n",
    "    'Caerphilly': \"Ah well, it's been on order for two weeks, sir. I was expecting it this morning.\",\n",
    "    'Bel Paese': \"Sorry.\",\n",
    "    'Red Windsor': \"Normally, sir, yes, but today the van broke down.\",\n",
    "    'Stilton': \"Sorry.\"\n",
    "}"
   ]
  },
  {
   "cell_type": "code",
   "execution_count": null,
   "metadata": {},
   "outputs": [],
   "source": [
    "# to access the value associated with a given key, indexing notation is used\n",
    "cheeseshop['Tilsit']"
   ]
  },
  {
   "cell_type": "code",
   "execution_count": null,
   "metadata": {},
   "outputs": [],
   "source": [
    "# we can create new items (key/value pairs) in the dictionary by assigning\n",
    "#  a value to an index\n",
    "cheeseshop['Camembert'] = 'Ah! We do have some Camembert, sir....'\n",
    "cheeseshop"
   ]
  },
  {
   "cell_type": "code",
   "execution_count": null,
   "metadata": {},
   "outputs": [],
   "source": [
    "# and values can be modified in-place\n",
    "cheeseshop['Camembert'] += \"  Oh... the cat's eaten it.\"\n",
    "cheeseshop"
   ]
  },
  {
   "cell_type": "code",
   "execution_count": null,
   "metadata": {},
   "outputs": [],
   "source": [
    "# attempting to access a key that doesn't exist raises a `KeyError` exception\n",
    "cheeseshop['Stinking Bishop']"
   ]
  },
  {
   "cell_type": "markdown",
   "metadata": {},
   "source": [
    "Dictionary objects expose a number of useful methods.  `.items()`, `.keys()`, and `.values()` will be covered below when we look at how to iterate over dictionaries."
   ]
  },
  {
   "cell_type": "code",
   "execution_count": null,
   "metadata": {},
   "outputs": [],
   "source": [
    "# .update() allows merging and updating of dictionaries\n",
    "some_pythons = {\n",
    "    'Graham': 'Chapman',\n",
    "    'John': 'Cleese',\n",
    "    'Terry': 'Gilliam'   \n",
    "}\n",
    "print(some_pythons)\n",
    "\n",
    "some_pythons.update({\n",
    "    'Eric': 'Idle',\n",
    "    'Terry': 'Jones',\n",
    "    'Michael': 'Palin'\n",
    "})\n",
    "print(some_pythons)"
   ]
  },
  {
   "cell_type": "code",
   "execution_count": null,
   "metadata": {},
   "outputs": [],
   "source": [
    "# .get() is useful because it returns None if the key is not found,\n",
    "#  instead of raising an Exception\n",
    "neil = pythons_by_first_name.get('Neil')\n",
    "print(neil)"
   ]
  },
  {
   "cell_type": "code",
   "execution_count": null,
   "metadata": {},
   "outputs": [],
   "source": [
    "# a default fallback value can be passed to .get() to be returned instead of None\n",
    "carol = pythons_by_first_name.get('Carol', 'Cleveland')\n",
    "carol"
   ]
  },
  {
   "cell_type": "markdown",
   "metadata": {},
   "source": [
    "## 4. Operators and Expressions\n",
    "\n",
    "Most of the statements in a python program will contain one or more _expressions_.  Literal and variable values on their own are simple expressions, but complex expressions can be created by combining one or more _operators_ and one or more _operands_ which are evaluated by the interpreter to return a value.\n",
    "\n",
    "There are three main kinds of operators in Python -- _arithmetic operators_, _logical operators_, and _bitwise operators_.  We will briefly look at the first two kinds now, although we will get more familiar with them as they will be used throughout this notebook."
   ]
  },
  {
   "cell_type": "code",
   "execution_count": null,
   "metadata": {},
   "outputs": [],
   "source": [
    "# a literal value is an expression\n",
    "42"
   ]
  },
  {
   "cell_type": "code",
   "execution_count": null,
   "metadata": {},
   "outputs": [],
   "source": [
    "\"Monty Python and the Holy Grail\""
   ]
  },
  {
   "cell_type": "code",
   "execution_count": null,
   "metadata": {},
   "outputs": [],
   "source": [
    "# the assignment operator is used to assign values to variables\n",
    "# notice that it returns None\n",
    "the_meaning_of_life = 42"
   ]
  },
  {
   "cell_type": "markdown",
   "metadata": {},
   "source": [
    "Most of the binary arithmetic operators make sense only in the context of numbers.  Here are a few examples:"
   ]
  },
  {
   "cell_type": "code",
   "execution_count": null,
   "metadata": {},
   "outputs": [],
   "source": [
    "# subtraction\n",
    "10 - 8"
   ]
  },
  {
   "cell_type": "code",
   "execution_count": null,
   "metadata": {},
   "outputs": [],
   "source": [
    "# multiplication\n",
    "10 * 8"
   ]
  },
  {
   "cell_type": "code",
   "execution_count": null,
   "metadata": {},
   "outputs": [],
   "source": [
    "# exponentiation\n",
    "8 ** 2"
   ]
  },
  {
   "cell_type": "code",
   "execution_count": null,
   "metadata": {},
   "outputs": [],
   "source": [
    "# floating-point or (\"true\") division\n",
    "#  -- note this operator always evaluates to a floating-point value\n",
    "8 / 2"
   ]
  },
  {
   "cell_type": "code",
   "execution_count": null,
   "metadata": {},
   "outputs": [],
   "source": [
    "# notice also the floating-point precision\n",
    "10 / 3"
   ]
  },
  {
   "cell_type": "code",
   "execution_count": null,
   "metadata": {},
   "outputs": [],
   "source": [
    "# floor division will rounding the result down to the nearest integer\n",
    "#  (\"flooring\" the value)\n",
    "10 // 3"
   ]
  },
  {
   "cell_type": "code",
   "execution_count": null,
   "metadata": {},
   "outputs": [],
   "source": [
    "# and returns an integer when the input expressions are both integers\n",
    "8 // 2"
   ]
  },
  {
   "cell_type": "code",
   "execution_count": null,
   "metadata": {},
   "outputs": [],
   "source": [
    "# for this reason it is sometime called \"integer division\", but this is not\n",
    "#  a very accurate description, as Python will return a floating-point value\n",
    "#  if one or both of the input expressions are floating-point values:\n",
    "8.0 // 2"
   ]
  },
  {
   "cell_type": "code",
   "execution_count": null,
   "metadata": {},
   "outputs": [],
   "source": [
    "10.0 // 3"
   ]
  },
  {
   "cell_type": "code",
   "execution_count": null,
   "metadata": {},
   "outputs": [],
   "source": [
    "# and finally modulo\n",
    "10 % 3"
   ]
  },
  {
   "cell_type": "markdown",
   "metadata": {},
   "source": [
    "The addition operator `+` is slightly more interesting, as it can take expressions other than numbers as its operands:"
   ]
  },
  {
   "cell_type": "code",
   "execution_count": null,
   "metadata": {},
   "outputs": [],
   "source": [
    "# numerical addition is as expected\n",
    "10 + 5"
   ]
  },
  {
   "cell_type": "code",
   "execution_count": null,
   "metadata": {},
   "outputs": [],
   "source": [
    "-5 + -4"
   ]
  },
  {
   "cell_type": "code",
   "execution_count": null,
   "metadata": {},
   "outputs": [],
   "source": [
    "# \"adding\" strings results in concatenation\n",
    "'And now for something' + ' ' + 'completely different.'"
   ]
  },
  {
   "cell_type": "code",
   "execution_count": null,
   "metadata": {},
   "outputs": [],
   "source": [
    "# note that adding strings and numbers is not allowed\n",
    "'The Meaning of Life' + ' is ' + 42"
   ]
  },
  {
   "cell_type": "code",
   "execution_count": null,
   "metadata": {},
   "outputs": [],
   "source": [
    "# Note that all these expressions return new values.  When working with\n",
    "#  variables, we often we find ourselves wanting to add something to the\n",
    "#  variable \"in-place\":\n",
    "counter = 0\n",
    "print(counter)\n",
    "counter = counter + 1\n",
    "print(counter)"
   ]
  },
  {
   "cell_type": "code",
   "execution_count": null,
   "metadata": {},
   "outputs": [],
   "source": [
    "# Python provides a shorthand syntax for this case\n",
    "counter += 1  # addition and (re-)assignment in one\n",
    "print(counter)"
   ]
  },
  {
   "cell_type": "code",
   "execution_count": null,
   "metadata": {},
   "outputs": [],
   "source": [
    "# \"adding\" lists results in a new list which is the combination of the operand expressions\n",
    "defenders = ['Leibniz', 'Kant', 'Hegel', 'Schopenhauer', 'Schelling', 'Jaspers']\n",
    "attackers = ['Schlegel', 'Wittgenstein', 'Nietszche', 'Heidegger']\n",
    "the_german_team = defenders + attackers\n",
    "the_german_team"
   ]
  },
  {
   "cell_type": "code",
   "execution_count": null,
   "metadata": {},
   "outputs": [],
   "source": [
    "# this also gives us another way of appending to a list\n",
    "the_german_team += ['Beckenbauer']\n",
    "the_german_team"
   ]
  },
  {
   "cell_type": "markdown",
   "metadata": {},
   "source": [
    "The logical operators return **boolean** values.  The are perhaps most commonly used in controlling conditional execution, but have many other uses too.\n",
    "\n",
    "First, arithmetic comparison:"
   ]
  },
  {
   "cell_type": "code",
   "execution_count": null,
   "metadata": {},
   "outputs": [],
   "source": [
    "# equality\n",
    "42 == 42"
   ]
  },
  {
   "cell_type": "code",
   "execution_count": null,
   "metadata": {},
   "outputs": [],
   "source": [
    "the_meaning_of_life = 42\n",
    "\n",
    "print(the_meaning_of_life == 42)\n",
    "print(42 == the_meaning_of_life)\n",
    "print(the_meaning_of_life == the_meaning_of_life)"
   ]
  },
  {
   "cell_type": "code",
   "execution_count": null,
   "metadata": {},
   "outputs": [],
   "source": [
    "# and inequality\n",
    "the_meaning_of_life != 42"
   ]
  },
  {
   "cell_type": "code",
   "execution_count": null,
   "metadata": {},
   "outputs": [],
   "source": [
    "# strings work the same way\n",
    "the_meaning_of_life = 'The Meaning of Life' \n",
    "the_meaning_of_life == 'The Meaning of Liff'"
   ]
  },
  {
   "cell_type": "code",
   "execution_count": null,
   "metadata": {},
   "outputs": [],
   "source": [
    "the_meaning_of_life == 'The Meaning of Life'"
   ]
  },
  {
   "cell_type": "code",
   "execution_count": null,
   "metadata": {},
   "outputs": [],
   "source": [
    "# as do other sequence types\n",
    "['spam', 'spam', 'eggs', 'spam'] == ['spam', 'spam', 'eggs', 'spam']"
   ]
  },
  {
   "cell_type": "code",
   "execution_count": null,
   "metadata": {},
   "outputs": [],
   "source": [
    "['spam', 'spam', 'eggs', 'spam'] == ['spam', 'spam', 'spam', 'spam']"
   ]
  },
  {
   "cell_type": "code",
   "execution_count": null,
   "metadata": {},
   "outputs": [],
   "source": [
    "# greater than\n",
    "10 > 9"
   ]
  },
  {
   "cell_type": "code",
   "execution_count": null,
   "metadata": {},
   "outputs": [],
   "source": [
    "# lesser than\n",
    "10 < 9"
   ]
  },
  {
   "cell_type": "code",
   "execution_count": null,
   "metadata": {},
   "outputs": [],
   "source": [
    "# greater than or equal to\n",
    "10 >= 10"
   ]
  },
  {
   "cell_type": "code",
   "execution_count": null,
   "metadata": {},
   "outputs": [],
   "source": [
    "# lesser than or equal to\n",
    "10 <= 10"
   ]
  },
  {
   "cell_type": "markdown",
   "metadata": {},
   "source": [
    "Boolean comparison operates on operands which are (or which evaluate to) truthy or falsey values (they force the expressions to be evaluated in a _boolean context_):"
   ]
  },
  {
   "cell_type": "code",
   "execution_count": null,
   "metadata": {},
   "outputs": [],
   "source": [
    "# simple boolean NOT\n",
    "not True"
   ]
  },
  {
   "cell_type": "code",
   "execution_count": null,
   "metadata": {},
   "outputs": [],
   "source": [
    "# numerical values are truthy...\n",
    "not 10"
   ]
  },
  {
   "cell_type": "code",
   "execution_count": null,
   "metadata": {},
   "outputs": [],
   "source": [
    "# ...except for 0\n",
    "not 0"
   ]
  },
  {
   "cell_type": "code",
   "execution_count": null,
   "metadata": {},
   "outputs": [],
   "source": [
    "# any empty sequence is falsey, for example an empty list...\n",
    "not []"
   ]
  },
  {
   "cell_type": "code",
   "execution_count": null,
   "metadata": {},
   "outputs": [],
   "source": [
    "# ...or an empty dictionary...\n",
    "not {}"
   ]
  },
  {
   "cell_type": "code",
   "execution_count": null,
   "metadata": {},
   "outputs": [],
   "source": [
    "# ...or an empty string\n",
    "not ''"
   ]
  },
  {
   "cell_type": "code",
   "execution_count": null,
   "metadata": {},
   "outputs": [],
   "source": [
    "# and non-empty sequences are truthy, e.g.\n",
    "not norweigian_blue"
   ]
  },
  {
   "cell_type": "code",
   "execution_count": null,
   "metadata": {},
   "outputs": [],
   "source": [
    "# boolean AND\n",
    "True and True"
   ]
  },
  {
   "cell_type": "code",
   "execution_count": null,
   "metadata": {},
   "outputs": [],
   "source": [
    "True and False"
   ]
  },
  {
   "cell_type": "code",
   "execution_count": null,
   "metadata": {},
   "outputs": [],
   "source": [
    "# boolean OR\n",
    "True or False"
   ]
  },
  {
   "cell_type": "code",
   "execution_count": null,
   "metadata": {},
   "outputs": [],
   "source": [
    "False or False"
   ]
  },
  {
   "cell_type": "markdown",
   "metadata": {},
   "source": [
    "Finally there is the `in` operator, which tests for membership of a collection (a sequence, dictionary, or set)."
   ]
  },
  {
   "cell_type": "code",
   "execution_count": null,
   "metadata": {},
   "outputs": [],
   "source": [
    "# the `in` operator is intuitive for lists, tuples, and sets\n",
    "'cleese' in pythons_tuple"
   ]
  },
  {
   "cell_type": "code",
   "execution_count": null,
   "metadata": {},
   "outputs": [],
   "source": [
    "# likewise for strings, where it also works for substrings\n",
    "'蒙提·派森' in monty_python_zh"
   ]
  },
  {
   "cell_type": "code",
   "execution_count": null,
   "metadata": {},
   "outputs": [],
   "source": [
    "# when used with dictionaries, it tests for membership of dict.keys()\n",
    "'Stilton' in cheeseshop"
   ]
  },
  {
   "cell_type": "markdown",
   "metadata": {},
   "source": [
    "## 5. Functions"
   ]
  },
  {
   "cell_type": "markdown",
   "metadata": {},
   "source": [
    "**Function**s are blocks of reusable code.  They provide a way to break monolithic programs into parts; this aids greatly in writing code that is readable, maintainable, and extensible.  It is especially important, of course, when a block of code will or may be used multiple times in the same or similar ways, but a section of code does not need to be used multiple times to justify creating it as a function.\n",
    "\n",
    "We've already seen a number of **function**s in what we've done so far -- `print()`, of course, but also `len()` and `type()`.  When functions are bound to objects -- as `.format()`, `.lower()` etc. on string objects, or `.append()` on list objects, we call them **method**s, but the difference is minimal and need not concern us at this point.\n",
    "\n",
    "The functions (and methods) we've seen so far are “built-in” functions -- they're provided to us by the Python interpreter.  The important thing we need to learn in this section is how to _define_ and _call_ (or _invoke_) our own functions."
   ]
  },
  {
   "cell_type": "code",
   "execution_count": null,
   "metadata": {},
   "outputs": [],
   "source": [
    "# functions are introduced with the \"def\" keyword (note the final colon)\n",
    "def knights_who_say_ni():\n",
    "    # the block of indented statements beneath the definition statement\n",
    "    #  constitutes the body of the function\n",
    "    print('Ni!')"
   ]
  },
  {
   "cell_type": "code",
   "execution_count": null,
   "metadata": {},
   "outputs": [],
   "source": [
    "# when defined in this way, they can be called just like built-ins:\n",
    "knights_who_say_ni()"
   ]
  },
  {
   "cell_type": "code",
   "execution_count": null,
   "metadata": {},
   "outputs": [],
   "source": [
    "# of course, functions are more useful when they take arguments\n",
    "def ask_for_cheese(cheese):\n",
    "    print(f'Do you have any {cheese}?')\n",
    "    print('No!')"
   ]
  },
  {
   "cell_type": "code",
   "execution_count": null,
   "metadata": {},
   "outputs": [],
   "source": [
    "# arguments (or parameters) are passed when the function is invoked:\n",
    "ask_for_cheese('Gruyère')"
   ]
  },
  {
   "cell_type": "code",
   "execution_count": null,
   "metadata": {},
   "outputs": [],
   "source": [
    "# arguments can be literal values, as above, or variables:\n",
    "r_leicester = 'Red Leicester'\n",
    "ask_for_cheese(r_leicester)"
   ]
  },
  {
   "cell_type": "code",
   "execution_count": null,
   "metadata": {},
   "outputs": [],
   "source": [
    "# the value of a function like this, of course, is when it will be called many times:\n",
    "ask_for_cheese('Emmental')\n",
    "ask_for_cheese('Norwegian Jarlsberg')\n",
    "ask_for_cheese('Liptauer')\n",
    "ask_for_cheese('Lancashire')\n",
    "ask_for_cheese('White Stilton')\n",
    "# ...\n",
    "ask_for_cheese('Venezuelan Beaver Cheese')"
   ]
  },
  {
   "cell_type": "code",
   "execution_count": null,
   "metadata": {},
   "outputs": [],
   "source": [
    "# functions can take as many arguments as you need\n",
    "def greeting(first_name, last_name):\n",
    "    print(f'Good evening, my name is {first_name} {last_name}.')"
   ]
  },
  {
   "cell_type": "code",
   "execution_count": null,
   "metadata": {},
   "outputs": [],
   "source": [
    "# and they may be called with \"keyword arguments\" -- this can\n",
    "#  help readability, and allows passing the arguments in any order\n",
    "greeting(first_name='Michael', last_name='Palin')\n",
    "greeting(last_name='Palin', first_name='Michael')"
   ]
  },
  {
   "cell_type": "markdown",
   "metadata": {},
   "source": [
    "### -- Exercise 2\n",
    "\n",
    "Pig Latin is a language game where you take the first letter of a word, move it to the end of the word, then add “-ay” at the end. For example, “pig latin” would be “igpay atinlay” and “monty python” would turn into “ontymay ythonpay”.\n",
    "\n",
    "In the cell below, write a function that takes a string, lowercases it, and returns the Pig Latin translation of the word. You'll need to use slicing and string concatenation to make this work."
   ]
  },
  {
   "cell_type": "code",
   "execution_count": null,
   "metadata": {},
   "outputs": [],
   "source": [
    "def pig_latinize(word):\n",
    "    # write your code here\n",
    "    return word[1:] + word[0] + 'ay'\n",
    "\n",
    "\n",
    "# the following should return 'pamalotsay'\n",
    "pig_latinize('Spamalot')"
   ]
  },
  {
   "cell_type": "markdown",
   "metadata": {},
   "source": [
    "## 6. Control Flow\n",
    "\n",
    "Using functions to split up our monolithic code in to manageable blocks also introduces our first element of **_control flow_** -- the ability to have code execute (or not execute) in a non-linear order (i.e. not simply from top to bottom, line by line).\n",
    "\n",
    "In addition to functions, there are two main control flow mechanisms that we will look at in this section: **_conditional execution_** or **_branching_** causes blocks of code to be executed or ignored based on the evaluation of a boolean expression; and **_loop_**s allow us to specify the execution of blocks of code a fixed or indeterminate number of times.\n",
    "\n",
    "Raising and handling **_exception_**s is another way to control the flow of execution in a Python program, but we're not going to cover that here."
   ]
  },
  {
   "cell_type": "markdown",
   "metadata": {},
   "source": [
    "### Conditional Execution\n",
    "\n",
    "In Python, the compound `if` statement is comprised of three clauses: `if`, `else`, and `elif`.  Each of these clauses defines a block which executes if the appropriate condition is met."
   ]
  },
  {
   "cell_type": "code",
   "execution_count": null,
   "metadata": {},
   "outputs": [],
   "source": [
    "# the simplest possible valid if statement\n",
    "if True:\n",
    "    print('Of course, `True` is `True`.')"
   ]
  },
  {
   "cell_type": "markdown",
   "metadata": {},
   "source": [
    "Any valid Python expression can serve as the condition for an `if` statement, and will be evaluated in a _boolean context_.  (Reminder: in this context any non-zero number or non-empty sequence or dictionary evaluates to `True`.  Any numeric zero, empty sequence or dictionary, or `None` evaluates to `False`.)"
   ]
  },
  {
   "cell_type": "code",
   "execution_count": null,
   "metadata": {},
   "outputs": [],
   "source": [
    "# notice that there is no explicit comparison operator here\n",
    "if '   '.strip():\n",
    "    print('There’s something here!')\n",
    "else:\n",
    "    print('Nothing to report!')"
   ]
  },
  {
   "cell_type": "code",
   "execution_count": null,
   "metadata": {},
   "outputs": [],
   "source": [
    "# although "
   ]
  },
  {
   "cell_type": "code",
   "execution_count": null,
   "metadata": {},
   "outputs": [],
   "source": [
    "# an else clause and one or more elif clauses are optional\n",
    "def test_number(x):\n",
    "    if x < 0:\n",
    "        print(f'{x: 4} is negative')\n",
    "    elif x % 2:\n",
    "        print(f'{x: 4} is positive and odd')\n",
    "    else:\n",
    "        print(f'{x: 4} is even and non-negative')\n",
    "\n",
    "test_number(4)\n",
    "test_number(0)\n",
    "test_number(-4)\n",
    "test_number(7)"
   ]
  },
  {
   "cell_type": "code",
   "execution_count": null,
   "metadata": {},
   "outputs": [],
   "source": [
    "# if statements can be nested if desired\n",
    "def test_number(x):\n",
    "    if x % 2:\n",
    "        print(f'{x: 4} is odd')\n",
    "        if x > 0:\n",
    "            print(f'   >>{x: 2} is also positive')\n",
    "    else:\n",
    "        print(f'{x: 4} is even')\n",
    "        if x > 0:\n",
    "            print(f'   >>{x: 2} is also positive')\n",
    "            \n",
    "test_number(4)\n",
    "test_number(0)\n",
    "test_number(-4)\n",
    "test_number(7)"
   ]
  },
  {
   "cell_type": "markdown",
   "metadata": {},
   "source": [
    "### Loops and Iteration\n",
    "\n",
    "There are two basic kinds of loops in Python: those introduced with the `for` statement are sometimes called _iterative loops_; and those introduced with the `while` statement are sometimes referred to as _conditional loops_."
   ]
  },
  {
   "cell_type": "markdown",
   "metadata": {},
   "source": [
    "#### Iterative Loops\n",
    "\n",
    "**_`for` loops_** repeat the execution of a code block dependent on an _iterable expression_.  For our purposes an _iterable_ may be understood to refer to anything that can be looped over in a `for` loop -- in particular, this includes anything that is a sequence type; a list, a tuple, or a string."
   ]
  },
  {
   "cell_type": "code",
   "execution_count": null,
   "metadata": {},
   "outputs": [],
   "source": [
    "# Looping over integers is a common task, and Python provides the \n",
    "#  built-in function `range()` to make this convenient.\n",
    "for integer in range(5):\n",
    "    print(integer)"
   ]
  },
  {
   "cell_type": "code",
   "execution_count": null,
   "metadata": {},
   "outputs": [],
   "source": [
    "# range can accept a start and a stop value...\n",
    "for integer in range(2, 5):\n",
    "    print(integer)"
   ]
  },
  {
   "cell_type": "code",
   "execution_count": null,
   "metadata": {},
   "outputs": [],
   "source": [
    "# ...and also a \"step\" value\n",
    "for integer in range(2, 10, 2):\n",
    "    print(integer)"
   ]
  },
  {
   "cell_type": "code",
   "execution_count": null,
   "metadata": {},
   "outputs": [],
   "source": [
    "# The step value can also be negative\n",
    "for integer in range(10, 0, -1):\n",
    "    print(integer)"
   ]
  },
  {
   "cell_type": "markdown",
   "metadata": {},
   "source": [
    "More often, though, we want to iterate over some data structure of our own."
   ]
  },
  {
   "cell_type": "code",
   "execution_count": null,
   "metadata": {},
   "outputs": [],
   "source": [
    "# here we're going to iterate over a list of dictionaries\n",
    "python_movies = [\n",
    "    {'title': 'And Now for Something Completely Different', 'release': 1971},\n",
    "    {'title': 'Monty Python and the Holy Grail', 'release': 1975},\n",
    "    {'title': 'Monty Python\\'s Life of Brian', 'release': 1979},\n",
    "    {'title': 'Monty Python Live at the Hollywood Bowl', 'release': 1982},\n",
    "    {'title': 'Monty Python\\'s The Meaning of Life', 'release': 1983}\n",
    "]\n",
    "\n",
    "for movie in python_movies:\n",
    "    # for each dictionary in the list, pass (some of) its values to\n",
    "    #  the .format() method, and then print\n",
    "    print(f\"“{movie['title']}” was released {2019 - movie['release']} years ago.\")"
   ]
  },
  {
   "cell_type": "markdown",
   "metadata": {},
   "source": [
    "Iterating over tuples is done in exactly the same way, and since strings are sequences just like lists and tuples, we can iterate over them too."
   ]
  },
  {
   "cell_type": "code",
   "execution_count": null,
   "metadata": {},
   "outputs": [],
   "source": [
    "for letter in 'We want a shrubbery!':\n",
    "    print(letter)"
   ]
  },
  {
   "cell_type": "markdown",
   "metadata": {},
   "source": [
    "Iterating over dictionaries can’t be done directly, but dictionaries provide methods that return iterators for precisely this purpose."
   ]
  },
  {
   "cell_type": "code",
   "execution_count": null,
   "metadata": {},
   "outputs": [],
   "source": [
    "# .keys() allows us to iterate over a dictionary’s keys\n",
    "for cheese in cheeseshop.keys():\n",
    "    print(f'Do you have any {cheese}?')"
   ]
  },
  {
   "cell_type": "code",
   "execution_count": null,
   "metadata": {},
   "outputs": [],
   "source": [
    "# and .values() does the same for values\n",
    "for reply in cheeseshop.values():\n",
    "    print(reply)"
   ]
  },
  {
   "cell_type": "code",
   "execution_count": null,
   "metadata": {},
   "outputs": [],
   "source": [
    "# if we have the keys, of course, we can get the values by indexing\n",
    "for cheese in cheeseshop.keys():\n",
    "    print(f'Do you have any {cheese}?')\n",
    "    reply = cheeseshop[cheese]\n",
    "    print(f' -- {reply}')"
   ]
  },
  {
   "cell_type": "code",
   "execution_count": null,
   "metadata": {},
   "outputs": [],
   "source": [
    "# but dictionaries also expose the .items() method, which returns and iterator which\n",
    "#  yields tuples (key, value)\n",
    "for item in cheeseshop.items():\n",
    "    cheese = item[0]\n",
    "    print(f'Do you have any {cheese}?')\n",
    "    reply = item[1]\n",
    "    print(f' -- {reply}')"
   ]
  },
  {
   "cell_type": "code",
   "execution_count": null,
   "metadata": {},
   "outputs": [],
   "source": [
    "# better still we can use a technique called \"unpacking assignment\"\n",
    "for cheese, reply in cheeseshop.items():\n",
    "    print(f'Do you have any {cheese}?')\n",
    "    print(f' -- {reply}')    "
   ]
  },
  {
   "cell_type": "markdown",
   "metadata": {},
   "source": [
    "#### Conditional Loops\n",
    "\n",
    "**_`while` loops_** are less commonly seen in Python, but can be very useful.  A `while` loop executes a block of code zero or more times dependent on a conditional expression."
   ]
  },
  {
   "cell_type": "code",
   "execution_count": null,
   "metadata": {},
   "outputs": [],
   "source": [
    "# this while loop is equivalent to our \"for integer in range(5)\" loop above\n",
    "counter = 0\n",
    "while counter < 5:\n",
    "    print(counter)\n",
    "    counter += 1 "
   ]
  },
  {
   "cell_type": "markdown",
   "metadata": {},
   "source": [
    "The power of a `while` loop is that the code block can execute an indeterminate amount of times."
   ]
  },
  {
   "cell_type": "code",
   "execution_count": null,
   "metadata": {},
   "outputs": [],
   "source": [
    "# first we'll import a random number generator\n",
    "from random import randrange\n",
    "\n",
    "random_value = 0\n",
    "while random_value < 8:\n",
    "    # randrange(10) generates a (pseudo-)random number between 0 and 9\n",
    "    random_value = randrange(10)\n",
    "    print(random_value)"
   ]
  },
  {
   "cell_type": "markdown",
   "metadata": {},
   "source": [
    "#### `break`, `continue`, and `else` in loops\n",
    "\n",
    "The `break` and `continue` statements, and the `else` clause, provide some addition options for controlling the flow of loops and Python programs."
   ]
  },
  {
   "cell_type": "code",
   "execution_count": null,
   "metadata": {},
   "outputs": [],
   "source": [
    "# continue, which may occur only within a loop, terminates the current iteration\n",
    "#  of the loop, and continues on to the next iteration\n",
    "for integer in range(10):\n",
    "    print('iterating!')\n",
    "    if integer < 5:\n",
    "        continue\n",
    "    print(integer)"
   ]
  },
  {
   "cell_type": "code",
   "execution_count": null,
   "metadata": {},
   "outputs": [],
   "source": [
    "# break, which may only occur within a loop, terminates the loop immediately\n",
    "for integer in range(10):\n",
    "    print('iterating!')\n",
    "    if integer > 5:\n",
    "        break\n",
    "    print(integer)"
   ]
  },
  {
   "cell_type": "code",
   "execution_count": null,
   "metadata": {},
   "outputs": [],
   "source": [
    "# one common use of break is to terminate an otherwise infinite loop\n",
    "counter = 0\n",
    "while True:\n",
    "    print(counter)\n",
    "    counter += 1\n",
    "    if counter > 6:\n",
    "        break"
   ]
  },
  {
   "cell_type": "code",
   "execution_count": null,
   "metadata": {},
   "outputs": [],
   "source": [
    "# loops may have an optional `else` clause which executes if the loop\n",
    "#  exits naturally (i.e. not with `break`)\n",
    "\n",
    "# let's be sure our random number generator is available\n",
    "from random import randrange\n",
    "\n",
    "for _ in range(4):\n",
    "    random_number = randrange(10)\n",
    "    print(random_number)\n",
    "    if random_number == 9:\n",
    "        break\n",
    "else:\n",
    "    print('no nines this time!')\n",
    "    "
   ]
  },
  {
   "cell_type": "markdown",
   "metadata": {},
   "source": [
    "## 7. Modules\n",
    "\n",
    "In the previous examples we used an `import` statement to get some extra functionality that we needed that is not “built-in” to the Python interpreter.  In those examples we imported the `randrange()` function from the `random` **_module_**.\n",
    "\n",
    "A module is a source file that contains one or more attributes than can be `import`ed and reference in a Python program.  Any Python `.py` can be (indeed, _is_) a module.  One way to group the modules you might want to use in your Python programs is by where they come from:\n",
    "* local modules (e.g. `.py` files that you have written yourself)\n",
    "* modules from the Python Standard Library\n",
    "* modules from third-party packages, such as those found in the Python Package Index (PyPI) or conda-forge"
   ]
  },
  {
   "cell_type": "markdown",
   "metadata": {},
   "source": [
    "## 8. Exercise 3\n",
    "\n",
    "The following cell assigns the text of Eric Idle's “Galaxy Song” to a variable `galaxy_song`.  Using what we have learned about string manipulation, the creation and use of lists, and flow control, and re-using the `pig_latinize()` function written for _Exercise 2_ above, print the Pig Latin translation of the entire song.\n",
    "\n",
    "Here are some hints:\n",
    "* it will probably be easiest to go through the song line-by-line, and then word-by-word\n",
    "* for each line, build an new list of pig-latinized words, and then print out that line, before moving on to the next\n",
    "* the direction lines (in square brackets) should be left as they are\n",
    "* you will probably need to remove the punctuation -- there's no need to add it back"
   ]
  },
  {
   "cell_type": "code",
   "execution_count": null,
   "metadata": {},
   "outputs": [],
   "source": [
    "galaxy_song = '''\n",
    "[spoken]\n",
    "Whenever life gets you down, Mrs. Brown,\n",
    "And things seem hard or tough,\n",
    "And people are stupid, obnoxious or daft,\n",
    "\n",
    "[sung]\n",
    "And you feel that you've had quite eno-o-o-o-o-ough,\n",
    "\n",
    "Just remember that you're standing on a planet that's evolving\n",
    "And revolving at 900 miles an hour.\n",
    "It's orbiting at 19 miles a second, so it's reckoned,\n",
    "The sun that is the source of all our power.\n",
    "Now the sun, and you and me, and all the stars that we can see,\n",
    "Are moving at a million miles a day,\n",
    "In the outer spiral arm, at 40,000 miles an hour,\n",
    "Of a galaxy we call the Milky Way.\n",
    "\n",
    "Our galaxy itself contains a hundred billion stars;\n",
    "It's a hundred thousand light-years side to side;\n",
    "It bulges in the middle sixteen thousand light-years thick,\n",
    "But out by us it's just three thousand light-years wide.\n",
    "We're thirty thousand light-years from Galactic Central Point,\n",
    "We go 'round every two hundred million years;\n",
    "And our galaxy itself is one of millions of billions\n",
    "In this amazing and expanding universe.\n",
    "\n",
    "[waltz]\n",
    "\n",
    "Our universe itself keeps on expanding and expanding,\n",
    "In all of the directions it can whiz;\n",
    "As fast as it can go, at the speed of light, you know,\n",
    "Twelve million miles a minute and that's the fastest speed there is.\n",
    "So remember, when you're feeling very small and insecure,\n",
    "How amazingly unlikely is your birth;\n",
    "And pray that there's intelligent life somewhere out in space,\n",
    "'Cause there's bugger all down here on Earth!\n",
    "'''"
   ]
  },
  {
   "cell_type": "code",
   "execution_count": null,
   "metadata": {},
   "outputs": [],
   "source": [
    "# write your code here\n"
   ]
  }
 ],
 "metadata": {
  "kernelspec": {
   "display_name": "Python 3",
   "language": "python",
   "name": "python3"
  },
  "language_info": {
   "codemirror_mode": {
    "name": "ipython",
    "version": 3
   },
   "file_extension": ".py",
   "mimetype": "text/x-python",
   "name": "python",
   "nbconvert_exporter": "python",
   "pygments_lexer": "ipython3",
   "version": "3.6.9"
  },
  "toc": {
   "base_numbering": 1,
   "nav_menu": {},
   "number_sections": false,
   "sideBar": true,
   "skip_h1_title": false,
   "title_cell": "Table of Contents",
   "title_sidebar": "Contents",
   "toc_cell": false,
   "toc_position": {
    "height": "calc(100% - 180px)",
    "left": "10px",
    "top": "150px",
    "width": "383.991px"
   },
   "toc_section_display": true,
   "toc_window_display": true
  }
 },
 "nbformat": 4,
 "nbformat_minor": 2
}
